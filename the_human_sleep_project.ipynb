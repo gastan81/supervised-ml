{
 "cells": [
  {
   "cell_type": "code",
   "execution_count": null,
   "metadata": {},
   "outputs": [],
   "source": [
    "import pyedflib\n",
    "edf_file = pyedflib.EdfReader('c:/Users/Gastan/Documents/data/sub-I0003175000052/ses-1/eeg/sub-I0003175000052_ses-1_task-PSG_eeg.edf')\n",
    "num_signals = edf_file.signals_in_file\n",
    "num_signals"
   ]
  },
  {
   "cell_type": "code",
   "execution_count": null,
   "metadata": {},
   "outputs": [],
   "source": [
    "signal_data = edf_file.readSignal(0)\n",
    "signal_data"
   ]
  },
  {
   "cell_type": "code",
   "execution_count": null,
   "metadata": {},
   "outputs": [],
   "source": [
    "edf_file.readSignal(1)"
   ]
  },
  {
   "cell_type": "code",
   "execution_count": null,
   "metadata": {},
   "outputs": [],
   "source": [
    "edf_file.readSignal(2)"
   ]
  }
 ],
 "metadata": {
  "language_info": {
   "name": "python"
  }
 },
 "nbformat": 4,
 "nbformat_minor": 2
}
