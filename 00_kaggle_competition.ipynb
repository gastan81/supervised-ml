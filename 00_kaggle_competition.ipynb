{
 "cells": [
  {
   "cell_type": "markdown",
   "metadata": {},
   "source": [
    "# House price"
   ]
  },
  {
   "cell_type": "markdown",
   "metadata": {},
   "source": [
    "### 1 Data"
   ]
  },
  {
   "cell_type": "code",
   "execution_count": 3,
   "metadata": {},
   "outputs": [
    {
     "ename": "ModuleNotFoundError",
     "evalue": "No module named 'catboost'",
     "output_type": "error",
     "traceback": [
      "\u001b[1;31m---------------------------------------------------------------------------\u001b[0m",
      "\u001b[1;31mModuleNotFoundError\u001b[0m                       Traceback (most recent call last)",
      "Cell \u001b[1;32mIn[3], line 3\u001b[0m\n\u001b[0;32m      1\u001b[0m \u001b[38;5;28;01mimport\u001b[39;00m\u001b[38;5;250m \u001b[39m\u001b[38;5;21;01mctypes\u001b[39;00m \u001b[38;5;66;03m# beeper\u001b[39;00m\n\u001b[0;32m      2\u001b[0m \u001b[38;5;28;01mimport\u001b[39;00m\u001b[38;5;250m \u001b[39m\u001b[38;5;21;01mpandas\u001b[39;00m\u001b[38;5;250m \u001b[39m\u001b[38;5;28;01mas\u001b[39;00m\u001b[38;5;250m \u001b[39m\u001b[38;5;21;01mpd\u001b[39;00m\n\u001b[1;32m----> 3\u001b[0m \u001b[38;5;28;01mfrom\u001b[39;00m\u001b[38;5;250m \u001b[39m\u001b[38;5;21;01mcatboost\u001b[39;00m\u001b[38;5;250m \u001b[39m\u001b[38;5;28;01mimport\u001b[39;00m CatBoostRegressor\n\u001b[0;32m      4\u001b[0m \u001b[38;5;28;01mfrom\u001b[39;00m\u001b[38;5;250m \u001b[39m\u001b[38;5;21;01mlightgbm\u001b[39;00m\u001b[38;5;250m \u001b[39m\u001b[38;5;28;01mimport\u001b[39;00m LGBMRegressor\n\u001b[0;32m      5\u001b[0m \u001b[38;5;28;01mfrom\u001b[39;00m\u001b[38;5;250m \u001b[39m\u001b[38;5;21;01mxgboost\u001b[39;00m\u001b[38;5;250m \u001b[39m\u001b[38;5;28;01mimport\u001b[39;00m XGBRegressor\n",
      "\u001b[1;31mModuleNotFoundError\u001b[0m: No module named 'catboost'"
     ]
    }
   ],
   "source": [
    "import ctypes # beeper\n",
    "import pandas as pd\n",
    "from catboost import CatBoostRegressor\n",
    "from lightgbm import LGBMRegressor\n",
    "from xgboost import XGBRegressor\n",
    "from sklearn import set_config\n",
    "from sklearn.compose import make_column_transformer, ColumnTransformer\n",
    "from sklearn.ensemble import RandomForestClassifier, RandomForestRegressor, ExtraTreesRegressor, GradientBoostingRegressor\n",
    "from sklearn.gaussian_process import GaussianProcessRegressor\n",
    "from sklearn.impute import SimpleImputer\n",
    "from sklearn.linear_model import Lasso, LinearRegression, LogisticRegression, Ridge, SGDRegressor\n",
    "from sklearn.metrics import accuracy_score, confusion_matrix, ConfusionMatrixDisplay, f1_score, precision_score, recall_score\n",
    "from sklearn.model_selection import GridSearchCV, StratifiedKFold, train_test_split\n",
    "from sklearn.neighbors import KNeighborsClassifier, KNeighborsRegressor\n",
    "from sklearn.neural_network import MLPRegressor\n",
    "from sklearn.pipeline import make_pipeline, Pipeline\n",
    "from sklearn.preprocessing import LabelEncoder, OneHotEncoder, OrdinalEncoder, StandardScaler\n",
    "from sklearn.svm import SVC, SVR\n",
    "from sklearn.tree import DecisionTreeClassifier, DecisionTreeRegressor\n",
    "\n",
    "set_config(transform_output='pandas')\n",
    "\n",
    "# reading\n",
    "train = pd.read_csv('data/kaggle_train.zip').set_index('Id').drop(\n",
    "    columns=[\n",
    "        'HouseStyle'\n",
    "        , 'Exterior1st', 'Exterior2nd', 'MasVnrType', 'Functional'\n",
    "        , 'GarageFinish', 'MiscFeature'])\n",
    "test = pd.read_csv('data/kaggle_test.zip').set_index('Id').drop(\n",
    "    columns=[\n",
    "        'HouseStyle'\n",
    "        , 'Exterior1st', 'Exterior2nd', 'MasVnrType', 'Functional'\n",
    "        , 'GarageFinish', 'MiscFeature'])\n",
    "\n",
    "# X and y creation\n",
    "X_train = train.copy()\n",
    "y = X_train.pop('SalePrice')\n",
    "X_test = test.copy()\n",
    "y = X_test.pop('SalePrice')\n",
    "\n",
    "# # data splitting\n",
    "X_train, X_test, y_train, y_test = train_test_split(X, y, test_size=0.2)#, random_state=123)"
   ]
  },
  {
   "cell_type": "code",
   "execution_count": null,
   "metadata": {},
   "outputs": [
    {
     "name": "stdout",
     "output_type": "stream",
     "text": [
      "<class 'pandas.core.frame.DataFrame'>\n",
      "Index: 1460 entries, 1 to 1460\n",
      "Data columns (total 73 columns):\n",
      " #   Column         Non-Null Count  Dtype  \n",
      "---  ------         --------------  -----  \n",
      " 0   MSSubClass     1460 non-null   int64  \n",
      " 1   MSZoning       1460 non-null   object \n",
      " 2   LotFrontage    1201 non-null   float64\n",
      " 3   LotArea        1460 non-null   int64  \n",
      " 4   Street         1460 non-null   object \n",
      " 5   Alley          91 non-null     object \n",
      " 6   LotShape       1460 non-null   object \n",
      " 7   LandContour    1460 non-null   object \n",
      " 8   Utilities      1460 non-null   object \n",
      " 9   LotConfig      1460 non-null   object \n",
      " 10  LandSlope      1460 non-null   object \n",
      " 11  Neighborhood   1460 non-null   object \n",
      " 12  Condition1     1460 non-null   object \n",
      " 13  Condition2     1460 non-null   object \n",
      " 14  BldgType       1460 non-null   object \n",
      " 15  OverallQual    1460 non-null   int64  \n",
      " 16  OverallCond    1460 non-null   int64  \n",
      " 17  YearBuilt      1460 non-null   int64  \n",
      " 18  YearRemodAdd   1460 non-null   int64  \n",
      " 19  RoofStyle      1460 non-null   object \n",
      " 20  RoofMatl       1460 non-null   object \n",
      " 21  MasVnrArea     1452 non-null   float64\n",
      " 22  ExterQual      1460 non-null   object \n",
      " 23  ExterCond      1460 non-null   object \n",
      " 24  Foundation     1460 non-null   object \n",
      " 25  BsmtQual       1423 non-null   object \n",
      " 26  BsmtCond       1423 non-null   object \n",
      " 27  BsmtExposure   1422 non-null   object \n",
      " 28  BsmtFinType1   1423 non-null   object \n",
      " 29  BsmtFinSF1     1460 non-null   int64  \n",
      " 30  BsmtFinType2   1422 non-null   object \n",
      " 31  BsmtFinSF2     1460 non-null   int64  \n",
      " 32  BsmtUnfSF      1460 non-null   int64  \n",
      " 33  TotalBsmtSF    1460 non-null   int64  \n",
      " 34  Heating        1460 non-null   object \n",
      " 35  HeatingQC      1460 non-null   object \n",
      " 36  CentralAir     1460 non-null   object \n",
      " 37  Electrical     1459 non-null   object \n",
      " 38  1stFlrSF       1460 non-null   int64  \n",
      " 39  2ndFlrSF       1460 non-null   int64  \n",
      " 40  LowQualFinSF   1460 non-null   int64  \n",
      " 41  GrLivArea      1460 non-null   int64  \n",
      " 42  BsmtFullBath   1460 non-null   int64  \n",
      " 43  BsmtHalfBath   1460 non-null   int64  \n",
      " 44  FullBath       1460 non-null   int64  \n",
      " 45  HalfBath       1460 non-null   int64  \n",
      " 46  BedroomAbvGr   1460 non-null   int64  \n",
      " 47  KitchenAbvGr   1460 non-null   int64  \n",
      " 48  KitchenQual    1460 non-null   object \n",
      " 49  TotRmsAbvGrd   1460 non-null   int64  \n",
      " 50  Fireplaces     1460 non-null   int64  \n",
      " 51  FireplaceQu    770 non-null    object \n",
      " 52  GarageType     1379 non-null   object \n",
      " 53  GarageYrBlt    1379 non-null   float64\n",
      " 54  GarageCars     1460 non-null   int64  \n",
      " 55  GarageArea     1460 non-null   int64  \n",
      " 56  GarageQual     1379 non-null   object \n",
      " 57  GarageCond     1379 non-null   object \n",
      " 58  PavedDrive     1460 non-null   object \n",
      " 59  WoodDeckSF     1460 non-null   int64  \n",
      " 60  OpenPorchSF    1460 non-null   int64  \n",
      " 61  EnclosedPorch  1460 non-null   int64  \n",
      " 62  3SsnPorch      1460 non-null   int64  \n",
      " 63  ScreenPorch    1460 non-null   int64  \n",
      " 64  PoolArea       1460 non-null   int64  \n",
      " 65  PoolQC         7 non-null      object \n",
      " 66  Fence          281 non-null    object \n",
      " 67  MiscVal        1460 non-null   int64  \n",
      " 68  MoSold         1460 non-null   int64  \n",
      " 69  YrSold         1460 non-null   int64  \n",
      " 70  SaleType       1460 non-null   object \n",
      " 71  SaleCondition  1460 non-null   object \n",
      " 72  SalePrice      1460 non-null   int64  \n",
      "dtypes: float64(3), int64(34), object(36)\n",
      "memory usage: 844.1+ KB\n"
     ]
    }
   ],
   "source": [
    "df.info()"
   ]
  },
  {
   "cell_type": "code",
   "execution_count": null,
   "metadata": {},
   "outputs": [
    {
     "data": {
      "text/plain": [
       "Index(['MSZoning', 'Street', 'Alley', 'LotShape', 'LandContour', 'Utilities',\n",
       "       'LotConfig', 'LandSlope', 'Neighborhood', 'Condition1', 'Condition2',\n",
       "       'BldgType', 'RoofStyle', 'RoofMatl', 'ExterQual', 'ExterCond',\n",
       "       'Foundation', 'BsmtQual', 'BsmtCond', 'BsmtExposure', 'BsmtFinType1',\n",
       "       'BsmtFinType2', 'Heating', 'HeatingQC', 'CentralAir', 'Electrical',\n",
       "       'KitchenQual', 'FireplaceQu', 'GarageType', 'GarageQual', 'GarageCond',\n",
       "       'PavedDrive', 'PoolQC', 'Fence', 'SaleType', 'SaleCondition'],\n",
       "      dtype='object')"
      ]
     },
     "metadata": {},
     "output_type": "display_data"
    }
   ],
   "source": [
    "X_train.select_dtypes(exclude='number').columns"
   ]
  },
  {
   "cell_type": "code",
   "execution_count": null,
   "metadata": {},
   "outputs": [
    {
     "name": "stdout",
     "output_type": "stream",
     "text": [
      "Index(['MSZoning', 'Street', 'Alley', 'LotShape', 'LandContour', 'Utilities',\n",
      "       'LotConfig', 'LandSlope', 'Neighborhood', 'Condition1', 'Condition2',\n",
      "       'BldgType', 'RoofStyle', 'RoofMatl', 'ExterQual', 'ExterCond',\n",
      "       'Foundation', 'BsmtQual', 'BsmtCond', 'BsmtExposure', 'BsmtFinType1',\n",
      "       'BsmtFinType2', 'Heating', 'HeatingQC', 'CentralAir', 'Electrical',\n",
      "       'KitchenQual', 'FireplaceQu', 'GarageType', 'GarageQual', 'GarageCond',\n",
      "       'PavedDrive', 'PoolQC', 'Fence', 'SaleType', 'SaleCondition'],\n",
      "      dtype='object')\n",
      "\n",
      "\n",
      "Index(['MSZoning', 'Street', 'Alley', 'LotShape', 'LandContour', 'Utilities',\n",
      "       'LotConfig', 'LandSlope', 'Condition1', 'Condition2', 'BldgType',\n",
      "       'RoofStyle', 'RoofMatl', 'ExterQual', 'ExterCond', 'Foundation',\n",
      "       'BsmtQual', 'BsmtCond', 'BsmtExposure', 'BsmtFinType1', 'BsmtFinType2',\n",
      "       'Heating', 'HeatingQC', 'CentralAir', 'Electrical', 'KitchenQual',\n",
      "       'FireplaceQu', 'GarageType', 'GarageQual', 'GarageCond', 'PavedDrive',\n",
      "       'PoolQC', 'Fence', 'SaleType', 'SaleCondition'],\n",
      "      dtype='object')\n",
      "\n",
      "\n",
      "['Neighborhood']\n",
      "\n",
      "\n",
      "Index(['MSSubClass', 'LotFrontage', 'LotArea', 'OverallQual', 'OverallCond',\n",
      "       'YearBuilt', 'YearRemodAdd', 'MasVnrArea', 'BsmtFinSF1', 'BsmtFinSF2',\n",
      "       'BsmtUnfSF', 'TotalBsmtSF', '1stFlrSF', '2ndFlrSF', 'LowQualFinSF',\n",
      "       'GrLivArea', 'BsmtFullBath', 'BsmtHalfBath', 'FullBath', 'HalfBath',\n",
      "       'BedroomAbvGr', 'KitchenAbvGr', 'TotRmsAbvGrd', 'Fireplaces',\n",
      "       'GarageYrBlt', 'GarageCars', 'GarageArea', 'WoodDeckSF', 'OpenPorchSF',\n",
      "       'EnclosedPorch', '3SsnPorch', 'ScreenPorch', 'PoolArea', 'MiscVal',\n",
      "       'MoSold', 'YrSold'],\n",
      "      dtype='object')\n"
     ]
    }
   ],
   "source": [
    "X_categorical = X_train.select_dtypes(exclude='number').columns\n",
    "X_cat_onehot = ['Neighborhood'] #X_train.select_dtypes(exclude='number').columns\n",
    "X_cat_ordenc = X_categorical.copy().drop(X_cat_onehot)\n",
    "X_numerical = X_train.select_dtypes(include='number').columns\n",
    "print(X_categorical)\n",
    "print('\\n')\n",
    "print(X_cat_ordenc)\n",
    "print('\\n')\n",
    "print(X_cat_onehot)\n",
    "print('\\n')\n",
    "print(X_numerical)"
   ]
  },
  {
   "cell_type": "code",
   "execution_count": null,
   "metadata": {},
   "outputs": [],
   "source": [
    "X_numerical_c0 = [\n",
    "    'LotArea','LotFrontage','WoodDeckSF','ScreenPorch','OverallQual'\n",
    "    ,'OverallCond','BsmtUnfSF','BsmtFullBath','BsmtHalfBath','FullBath'\n",
    "    ,'KitchenAbvGr','TotRmsAbvGrd','GarageArea','OpenPorchSF','3SsnPorch'\n",
    "    ,'MiscVal','YrSold']\n",
    "X_numerical_mean = [\n",
    "    'TotalBsmtSF','BedroomAbvGr','Fireplaces','PoolArea','GarageCars'\n",
    "    ,'MSSubClass','YearBuilt','YearRemodAdd','MasVnrArea','BsmtFinSF1'\n",
    "    ,'BsmtFinSF2','1stFlrSF','2ndFlrSF','LowQualFinSF','GrLivArea'\n",
    "    ,'HalfBath','GarageYrBlt','EnclosedPorch','MoSold']"
   ]
  },
  {
   "cell_type": "code",
   "execution_count": null,
   "metadata": {},
   "outputs": [
    {
     "data": {
      "text/plain": [
       "True"
      ]
     },
     "metadata": {},
     "output_type": "display_data"
    }
   ],
   "source": [
    "df.drop(columns=['SalePrice']).columns.sort_values().to_list() == df5.drop(columns=['Expensive']).columns.sort_values().to_list()"
   ]
  },
  {
   "cell_type": "code",
   "execution_count": null,
   "metadata": {},
   "outputs": [
    {
     "data": {
      "text/plain": [
       "348"
      ]
     },
     "metadata": {},
     "output_type": "display_data"
    }
   ],
   "source": [
    "((df[df.drop(columns=['SalePrice']).columns.sort_values()].replace({None: 0})) != (df5[df5.drop(columns=['Expensive']).columns.sort_values()].replace({None: 0}))).sum().sum()"
   ]
  },
  {
   "cell_type": "code",
   "execution_count": null,
   "metadata": {},
   "outputs": [
    {
     "data": {
      "text/html": [
       "<div>\n",
       "<style scoped>\n",
       "    .dataframe tbody tr th:only-of-type {\n",
       "        vertical-align: middle;\n",
       "    }\n",
       "\n",
       "    .dataframe tbody tr th {\n",
       "        vertical-align: top;\n",
       "    }\n",
       "\n",
       "    .dataframe thead th {\n",
       "        text-align: right;\n",
       "    }\n",
       "</style>\n",
       "<table border=\"1\" class=\"dataframe\">\n",
       "  <thead>\n",
       "    <tr style=\"text-align: right;\">\n",
       "      <th></th>\n",
       "      <th>MSSubClass</th>\n",
       "      <th>MSZoning</th>\n",
       "      <th>LotFrontage</th>\n",
       "      <th>LotArea</th>\n",
       "      <th>Street</th>\n",
       "      <th>Alley</th>\n",
       "      <th>LotShape</th>\n",
       "      <th>LandContour</th>\n",
       "      <th>Utilities</th>\n",
       "      <th>LotConfig</th>\n",
       "      <th>...</th>\n",
       "      <th>ScreenPorch</th>\n",
       "      <th>PoolArea</th>\n",
       "      <th>PoolQC</th>\n",
       "      <th>Fence</th>\n",
       "      <th>MiscVal</th>\n",
       "      <th>MoSold</th>\n",
       "      <th>YrSold</th>\n",
       "      <th>SaleType</th>\n",
       "      <th>SaleCondition</th>\n",
       "      <th>SalePrice</th>\n",
       "    </tr>\n",
       "    <tr>\n",
       "      <th>Id</th>\n",
       "      <th></th>\n",
       "      <th></th>\n",
       "      <th></th>\n",
       "      <th></th>\n",
       "      <th></th>\n",
       "      <th></th>\n",
       "      <th></th>\n",
       "      <th></th>\n",
       "      <th></th>\n",
       "      <th></th>\n",
       "      <th></th>\n",
       "      <th></th>\n",
       "      <th></th>\n",
       "      <th></th>\n",
       "      <th></th>\n",
       "      <th></th>\n",
       "      <th></th>\n",
       "      <th></th>\n",
       "      <th></th>\n",
       "      <th></th>\n",
       "      <th></th>\n",
       "    </tr>\n",
       "  </thead>\n",
       "  <tbody>\n",
       "    <tr>\n",
       "      <th>1298</th>\n",
       "      <td>180</td>\n",
       "      <td>RM</td>\n",
       "      <td>35.0</td>\n",
       "      <td>3675</td>\n",
       "      <td>Pave</td>\n",
       "      <td>NaN</td>\n",
       "      <td>Reg</td>\n",
       "      <td>Lvl</td>\n",
       "      <td>AllPub</td>\n",
       "      <td>Inside</td>\n",
       "      <td>...</td>\n",
       "      <td>0</td>\n",
       "      <td>0</td>\n",
       "      <td>NaN</td>\n",
       "      <td>NaN</td>\n",
       "      <td>0</td>\n",
       "      <td>6</td>\n",
       "      <td>2006</td>\n",
       "      <td>New</td>\n",
       "      <td>Partial</td>\n",
       "      <td>140000</td>\n",
       "    </tr>\n",
       "    <tr>\n",
       "      <th>572</th>\n",
       "      <td>20</td>\n",
       "      <td>RL</td>\n",
       "      <td>60.0</td>\n",
       "      <td>7332</td>\n",
       "      <td>Pave</td>\n",
       "      <td>NaN</td>\n",
       "      <td>Reg</td>\n",
       "      <td>Lvl</td>\n",
       "      <td>AllPub</td>\n",
       "      <td>Inside</td>\n",
       "      <td>...</td>\n",
       "      <td>0</td>\n",
       "      <td>0</td>\n",
       "      <td>NaN</td>\n",
       "      <td>NaN</td>\n",
       "      <td>0</td>\n",
       "      <td>10</td>\n",
       "      <td>2006</td>\n",
       "      <td>WD</td>\n",
       "      <td>Abnorml</td>\n",
       "      <td>120000</td>\n",
       "    </tr>\n",
       "    <tr>\n",
       "      <th>78</th>\n",
       "      <td>50</td>\n",
       "      <td>RM</td>\n",
       "      <td>50.0</td>\n",
       "      <td>8635</td>\n",
       "      <td>Pave</td>\n",
       "      <td>NaN</td>\n",
       "      <td>Reg</td>\n",
       "      <td>Lvl</td>\n",
       "      <td>AllPub</td>\n",
       "      <td>Inside</td>\n",
       "      <td>...</td>\n",
       "      <td>0</td>\n",
       "      <td>0</td>\n",
       "      <td>NaN</td>\n",
       "      <td>MnPrv</td>\n",
       "      <td>0</td>\n",
       "      <td>1</td>\n",
       "      <td>2008</td>\n",
       "      <td>WD</td>\n",
       "      <td>Normal</td>\n",
       "      <td>127000</td>\n",
       "    </tr>\n",
       "    <tr>\n",
       "      <th>1197</th>\n",
       "      <td>60</td>\n",
       "      <td>RL</td>\n",
       "      <td>58.0</td>\n",
       "      <td>14054</td>\n",
       "      <td>Pave</td>\n",
       "      <td>NaN</td>\n",
       "      <td>IR1</td>\n",
       "      <td>Lvl</td>\n",
       "      <td>AllPub</td>\n",
       "      <td>Inside</td>\n",
       "      <td>...</td>\n",
       "      <td>0</td>\n",
       "      <td>0</td>\n",
       "      <td>NaN</td>\n",
       "      <td>NaN</td>\n",
       "      <td>0</td>\n",
       "      <td>11</td>\n",
       "      <td>2006</td>\n",
       "      <td>New</td>\n",
       "      <td>Partial</td>\n",
       "      <td>219210</td>\n",
       "    </tr>\n",
       "    <tr>\n",
       "      <th>782</th>\n",
       "      <td>60</td>\n",
       "      <td>RL</td>\n",
       "      <td>65.0</td>\n",
       "      <td>7153</td>\n",
       "      <td>Pave</td>\n",
       "      <td>NaN</td>\n",
       "      <td>Reg</td>\n",
       "      <td>Lvl</td>\n",
       "      <td>AllPub</td>\n",
       "      <td>Inside</td>\n",
       "      <td>...</td>\n",
       "      <td>0</td>\n",
       "      <td>0</td>\n",
       "      <td>NaN</td>\n",
       "      <td>NaN</td>\n",
       "      <td>0</td>\n",
       "      <td>7</td>\n",
       "      <td>2006</td>\n",
       "      <td>WD</td>\n",
       "      <td>Normal</td>\n",
       "      <td>175900</td>\n",
       "    </tr>\n",
       "    <tr>\n",
       "      <th>516</th>\n",
       "      <td>20</td>\n",
       "      <td>RL</td>\n",
       "      <td>94.0</td>\n",
       "      <td>12220</td>\n",
       "      <td>Pave</td>\n",
       "      <td>NaN</td>\n",
       "      <td>Reg</td>\n",
       "      <td>Lvl</td>\n",
       "      <td>AllPub</td>\n",
       "      <td>Inside</td>\n",
       "      <td>...</td>\n",
       "      <td>0</td>\n",
       "      <td>0</td>\n",
       "      <td>NaN</td>\n",
       "      <td>NaN</td>\n",
       "      <td>0</td>\n",
       "      <td>9</td>\n",
       "      <td>2009</td>\n",
       "      <td>New</td>\n",
       "      <td>Partial</td>\n",
       "      <td>402861</td>\n",
       "    </tr>\n",
       "    <tr>\n",
       "      <th>1025</th>\n",
       "      <td>20</td>\n",
       "      <td>RL</td>\n",
       "      <td>NaN</td>\n",
       "      <td>15498</td>\n",
       "      <td>Pave</td>\n",
       "      <td>NaN</td>\n",
       "      <td>IR1</td>\n",
       "      <td>Lvl</td>\n",
       "      <td>AllPub</td>\n",
       "      <td>Corner</td>\n",
       "      <td>...</td>\n",
       "      <td>0</td>\n",
       "      <td>0</td>\n",
       "      <td>NaN</td>\n",
       "      <td>NaN</td>\n",
       "      <td>0</td>\n",
       "      <td>5</td>\n",
       "      <td>2008</td>\n",
       "      <td>COD</td>\n",
       "      <td>Abnorml</td>\n",
       "      <td>287000</td>\n",
       "    </tr>\n",
       "    <tr>\n",
       "      <th>72</th>\n",
       "      <td>20</td>\n",
       "      <td>RL</td>\n",
       "      <td>69.0</td>\n",
       "      <td>7599</td>\n",
       "      <td>Pave</td>\n",
       "      <td>NaN</td>\n",
       "      <td>Reg</td>\n",
       "      <td>Lvl</td>\n",
       "      <td>AllPub</td>\n",
       "      <td>Corner</td>\n",
       "      <td>...</td>\n",
       "      <td>0</td>\n",
       "      <td>0</td>\n",
       "      <td>NaN</td>\n",
       "      <td>NaN</td>\n",
       "      <td>0</td>\n",
       "      <td>6</td>\n",
       "      <td>2007</td>\n",
       "      <td>WD</td>\n",
       "      <td>Normal</td>\n",
       "      <td>129500</td>\n",
       "    </tr>\n",
       "    <tr>\n",
       "      <th>229</th>\n",
       "      <td>20</td>\n",
       "      <td>RL</td>\n",
       "      <td>70.0</td>\n",
       "      <td>8521</td>\n",
       "      <td>Pave</td>\n",
       "      <td>NaN</td>\n",
       "      <td>Reg</td>\n",
       "      <td>Lvl</td>\n",
       "      <td>AllPub</td>\n",
       "      <td>FR2</td>\n",
       "      <td>...</td>\n",
       "      <td>0</td>\n",
       "      <td>0</td>\n",
       "      <td>NaN</td>\n",
       "      <td>MnPrv</td>\n",
       "      <td>0</td>\n",
       "      <td>5</td>\n",
       "      <td>2010</td>\n",
       "      <td>WD</td>\n",
       "      <td>Normal</td>\n",
       "      <td>125000</td>\n",
       "    </tr>\n",
       "    <tr>\n",
       "      <th>578</th>\n",
       "      <td>80</td>\n",
       "      <td>RL</td>\n",
       "      <td>96.0</td>\n",
       "      <td>11777</td>\n",
       "      <td>Pave</td>\n",
       "      <td>NaN</td>\n",
       "      <td>IR1</td>\n",
       "      <td>Lvl</td>\n",
       "      <td>AllPub</td>\n",
       "      <td>Inside</td>\n",
       "      <td>...</td>\n",
       "      <td>0</td>\n",
       "      <td>0</td>\n",
       "      <td>NaN</td>\n",
       "      <td>NaN</td>\n",
       "      <td>0</td>\n",
       "      <td>5</td>\n",
       "      <td>2006</td>\n",
       "      <td>WD</td>\n",
       "      <td>Abnorml</td>\n",
       "      <td>164500</td>\n",
       "    </tr>\n",
       "  </tbody>\n",
       "</table>\n",
       "<p>10 rows × 73 columns</p>\n",
       "</div>"
      ],
      "text/plain": [
       "      MSSubClass MSZoning  LotFrontage  LotArea Street Alley LotShape  \\\n",
       "Id                                                                      \n",
       "1298         180       RM         35.0     3675   Pave   NaN      Reg   \n",
       "572           20       RL         60.0     7332   Pave   NaN      Reg   \n",
       "78            50       RM         50.0     8635   Pave   NaN      Reg   \n",
       "1197          60       RL         58.0    14054   Pave   NaN      IR1   \n",
       "782           60       RL         65.0     7153   Pave   NaN      Reg   \n",
       "516           20       RL         94.0    12220   Pave   NaN      Reg   \n",
       "1025          20       RL          NaN    15498   Pave   NaN      IR1   \n",
       "72            20       RL         69.0     7599   Pave   NaN      Reg   \n",
       "229           20       RL         70.0     8521   Pave   NaN      Reg   \n",
       "578           80       RL         96.0    11777   Pave   NaN      IR1   \n",
       "\n",
       "     LandContour Utilities LotConfig  ... ScreenPorch PoolArea PoolQC  Fence  \\\n",
       "Id                                    ...                                      \n",
       "1298         Lvl    AllPub    Inside  ...           0        0    NaN    NaN   \n",
       "572          Lvl    AllPub    Inside  ...           0        0    NaN    NaN   \n",
       "78           Lvl    AllPub    Inside  ...           0        0    NaN  MnPrv   \n",
       "1197         Lvl    AllPub    Inside  ...           0        0    NaN    NaN   \n",
       "782          Lvl    AllPub    Inside  ...           0        0    NaN    NaN   \n",
       "516          Lvl    AllPub    Inside  ...           0        0    NaN    NaN   \n",
       "1025         Lvl    AllPub    Corner  ...           0        0    NaN    NaN   \n",
       "72           Lvl    AllPub    Corner  ...           0        0    NaN    NaN   \n",
       "229          Lvl    AllPub       FR2  ...           0        0    NaN  MnPrv   \n",
       "578          Lvl    AllPub    Inside  ...           0        0    NaN    NaN   \n",
       "\n",
       "     MiscVal  MoSold  YrSold  SaleType  SaleCondition SalePrice  \n",
       "Id                                                               \n",
       "1298       0       6    2006       New        Partial    140000  \n",
       "572        0      10    2006        WD        Abnorml    120000  \n",
       "78         0       1    2008        WD         Normal    127000  \n",
       "1197       0      11    2006       New        Partial    219210  \n",
       "782        0       7    2006        WD         Normal    175900  \n",
       "516        0       9    2009       New        Partial    402861  \n",
       "1025       0       5    2008       COD        Abnorml    287000  \n",
       "72         0       6    2007        WD         Normal    129500  \n",
       "229        0       5    2010        WD         Normal    125000  \n",
       "578        0       5    2006        WD        Abnorml    164500  \n",
       "\n",
       "[10 rows x 73 columns]"
      ]
     },
     "metadata": {},
     "output_type": "display_data"
    }
   ],
   "source": [
    "df.sample(10)"
   ]
  },
  {
   "cell_type": "code",
   "execution_count": null,
   "metadata": {},
   "outputs": [],
   "source": [
    "# profile = ProfileReport(df)"
   ]
  },
  {
   "cell_type": "code",
   "execution_count": null,
   "metadata": {},
   "outputs": [],
   "source": [
    "# profile.to_file('data/report.html')\n",
    "# profile"
   ]
  },
  {
   "cell_type": "markdown",
   "metadata": {},
   "source": [
    "### 2 Preprocessing"
   ]
  },
  {
   "cell_type": "markdown",
   "metadata": {},
   "source": [
    "#### 2.1 Sort categorical columns"
   ]
  },
  {
   "cell_type": "markdown",
   "metadata": {},
   "source": [
    "##### Batch #01"
   ]
  },
  {
   "cell_type": "code",
   "execution_count": null,
   "metadata": {},
   "outputs": [
    {
     "data": {
      "text/plain": [
       "MSZoning\n",
       "RL         920\n",
       "RM         177\n",
       "FV          53\n",
       "RH          11\n",
       "C (all)      7\n",
       "Name: count, dtype: int64"
      ]
     },
     "metadata": {},
     "output_type": "display_data"
    }
   ],
   "source": [
    "mszoning_order = ['RP', 'RL', 'RM', 'RH', 'FV', 'C (all)', 'A', 'I', 'NA']\t\t\n",
    "# MSZoning: Identifies the general zoning classification of the sale.\n",
    "#     A\tAgriculture\n",
    "#     C\tCommercial\n",
    "#     FV\tFloating Village Residential\n",
    "#     I\tIndustrial\n",
    "#     RH\tResidential High Density\n",
    "#     RL\tResidential Low Density\n",
    "#     RP\tResidential Low Density Park \n",
    "#     RM\tResidential Medium Density\n",
    "X_train['MSZoning'].value_counts()"
   ]
  },
  {
   "cell_type": "code",
   "execution_count": null,
   "metadata": {},
   "outputs": [
    {
     "data": {
      "text/plain": [
       "Street\n",
       "Pave    1454\n",
       "Grvl       6\n",
       "Name: count, dtype: int64"
      ]
     },
     "metadata": {},
     "output_type": "display_data"
    }
   ],
   "source": [
    "street_order = ['Pave', 'Grvl']\n",
    "# Street: Type of road access to property\n",
    "#        Grvl\tGravel\t\n",
    "#        Pave\tPaved\n",
    "df['Street'].value_counts()"
   ]
  },
  {
   "cell_type": "code",
   "execution_count": null,
   "metadata": {},
   "outputs": [
    {
     "data": {
      "text/plain": [
       "Alley\n",
       "Grvl    50\n",
       "Pave    41\n",
       "Name: count, dtype: int64"
      ]
     },
     "metadata": {},
     "output_type": "display_data"
    }
   ],
   "source": [
    "alley_order = ['Pave', 'Grvl', 'NA']\n",
    "# Alley: Type of alley access to property\n",
    "#        Grvl\tGravel\n",
    "#        Pave\tPaved\n",
    "#        NA \tNo alley access\n",
    "df['Alley'].value_counts()"
   ]
  },
  {
   "cell_type": "code",
   "execution_count": null,
   "metadata": {},
   "outputs": [
    {
     "data": {
      "text/plain": [
       "Alley\n",
       "Grvl    50\n",
       "Pave    41\n",
       "Name: count, dtype: int64"
      ]
     },
     "metadata": {},
     "output_type": "display_data"
    }
   ],
   "source": [
    "lotshape_order = ['Reg', 'IR1', 'IR2', 'IR3']\n",
    "# LotShape: General shape of property\n",
    "#        Reg\tRegular\t\n",
    "#        IR1\tSlightly irregular\n",
    "#        IR2\tModerately Irregular\n",
    "#        IR3\tIrregular\n",
    "df['Alley'].value_counts()"
   ]
  },
  {
   "cell_type": "code",
   "execution_count": null,
   "metadata": {},
   "outputs": [
    {
     "data": {
      "text/plain": [
       "Alley\n",
       "Grvl    50\n",
       "Pave    41\n",
       "Name: count, dtype: int64"
      ]
     },
     "metadata": {},
     "output_type": "display_data"
    }
   ],
   "source": [
    "landcontour_order = ['Lvl', 'Bnk', 'HLS', 'Low']\n",
    "# LandContour: Flatness of the property\n",
    "#        Lvl\tNear Flat/Level\t\n",
    "#        Bnk\tBanked - Quick and significant rise from street grade to building\n",
    "#        HLS\tHillside - Significant slope from side to side\n",
    "#        Low\tDepression\n",
    "df['Alley'].value_counts()"
   ]
  },
  {
   "cell_type": "markdown",
   "metadata": {},
   "source": [
    "##### Batch #02"
   ]
  },
  {
   "cell_type": "code",
   "execution_count": null,
   "metadata": {},
   "outputs": [
    {
     "data": {
      "text/plain": [
       "Utilities\n",
       "AllPub    1459\n",
       "NoSeWa       1\n",
       "Name: count, dtype: int64"
      ]
     },
     "metadata": {},
     "output_type": "display_data"
    }
   ],
   "source": [
    "utilities_order = ['AllPub', 'NoSewr', 'NoSeWa', 'ELO', 'NA']\n",
    "# Utilities: Type of utilities available\n",
    "#        AllPub\tAll public Utilities (E,G,W,& S)\t\n",
    "#        NoSewr\tElectricity, Gas, and Water (Septic Tank)\n",
    "#        NoSeWa\tElectricity and Gas Only\n",
    "#        ELO\tElectricity only\t\n",
    "df['Utilities'].value_counts()"
   ]
  },
  {
   "cell_type": "code",
   "execution_count": null,
   "metadata": {},
   "outputs": [
    {
     "data": {
      "text/plain": [
       "LotConfig\n",
       "Inside     1052\n",
       "Corner      263\n",
       "CulDSac      94\n",
       "FR2          47\n",
       "FR3           4\n",
       "Name: count, dtype: int64"
      ]
     },
     "metadata": {},
     "output_type": "display_data"
    }
   ],
   "source": [
    "lotconfig_order = ['Inside', 'Corner', 'CulDSac', 'FR2', 'FR3']\n",
    "# LotConfig: Lot configuration\n",
    "#        Inside\tInside lot\n",
    "#        Corner\tCorner lot\n",
    "#        CulDSac\tCul-de-sac\n",
    "#        FR2\tFrontage on 2 sides of property\n",
    "#        FR3\tFrontage on 3 sides of property\t\n",
    "df['LotConfig'].value_counts()"
   ]
  },
  {
   "cell_type": "code",
   "execution_count": null,
   "metadata": {},
   "outputs": [
    {
     "data": {
      "text/plain": [
       "LandSlope\n",
       "Gtl    1382\n",
       "Mod      65\n",
       "Sev      13\n",
       "Name: count, dtype: int64"
      ]
     },
     "metadata": {},
     "output_type": "display_data"
    }
   ],
   "source": [
    "landslope_order = ['Gtl', 'Mod', 'Sev']\n",
    "# LandSlope: Slope of property\n",
    "\t\t\n",
    "#        Gtl\tGentle slope\n",
    "#        Mod\tModerate Slope\t\n",
    "#        Sev\tSevere Slope\n",
    "df['LandSlope'].value_counts()"
   ]
  },
  {
   "cell_type": "code",
   "execution_count": null,
   "metadata": {},
   "outputs": [],
   "source": [
    "# Neighborhood"
   ]
  },
  {
   "cell_type": "code",
   "execution_count": null,
   "metadata": {},
   "outputs": [
    {
     "data": {
      "text/plain": [
       "Condition1\n",
       "Norm      1260\n",
       "Feedr       81\n",
       "Artery      48\n",
       "RRAn        26\n",
       "PosN        19\n",
       "RRAe        11\n",
       "PosA         8\n",
       "RRNn         5\n",
       "RRNe         2\n",
       "Name: count, dtype: int64"
      ]
     },
     "metadata": {},
     "output_type": "display_data"
    }
   ],
   "source": [
    "condition1_order = ['PosA', 'PosN', 'Norm', 'Artery', 'Feedr', ['RRAn', 'RRAe'], ['RRNn', 'RRNe']]\n",
    "condition1_order = ['PosA', 'PosN', 'Norm', 'Artery', 'Feedr', 'RRAn', 'RRAe', 'RRNn', 'RRNe']\n",
    "# Condition1: Proximity to various conditions\n",
    "#     Artery\tAdjacent to arterial street\n",
    "#     Feedr\tAdjacent to feeder street\t\n",
    "#     Norm\tNormal\t\n",
    "#     RRNn\tWithin 200' of North-South Railroad\n",
    "#     RRAn\tAdjacent to North-South Railroad\n",
    "#     PosN\tNear positive off-site feature--park, greenbelt, etc.\n",
    "#     PosA\tAdjacent to postive off-site feature\n",
    "#     RRNe\tWithin 200' of East-West Railroad\n",
    "#     RRAe\tAdjacent to East-West Railroad\n",
    "df['Condition1'].value_counts()"
   ]
  },
  {
   "cell_type": "markdown",
   "metadata": {},
   "source": [
    "##### Batch #03"
   ]
  },
  {
   "cell_type": "code",
   "execution_count": null,
   "metadata": {},
   "outputs": [
    {
     "data": {
      "text/plain": [
       "Condition2\n",
       "Norm      1445\n",
       "Feedr        6\n",
       "Artery       2\n",
       "RRNn         2\n",
       "PosN         2\n",
       "PosA         1\n",
       "RRAn         1\n",
       "RRAe         1\n",
       "Name: count, dtype: int64"
      ]
     },
     "metadata": {},
     "output_type": "display_data"
    }
   ],
   "source": [
    "condition2_order = ['PosA', 'PosN', 'Norm', 'Artery', 'Feedr', 'RRAn', 'RRAe', 'RRNn', 'RRNe']\n",
    "# Condition2: Proximity to various conditions\n",
    "#     Artery\tAdjacent to arterial street\n",
    "#     Feedr\tAdjacent to feeder street\t\n",
    "#     Norm\tNormal\t\n",
    "#     RRNn\tWithin 200' of North-South Railroad\n",
    "#     RRAn\tAdjacent to North-South Railroad\n",
    "#     PosN\tNear positive off-site feature--park, greenbelt, etc.\n",
    "#     PosA\tAdjacent to postive off-site feature\n",
    "#     RRNe\tWithin 200' of East-West Railroad\n",
    "#     RRAe\tAdjacent to East-West Railroad\n",
    "df['Condition2'].value_counts()"
   ]
  },
  {
   "cell_type": "code",
   "execution_count": null,
   "metadata": {},
   "outputs": [
    {
     "data": {
      "text/plain": [
       "BldgType\n",
       "1Fam      1220\n",
       "TwnhsE     114\n",
       "Duplex      52\n",
       "Twnhs       43\n",
       "2fmCon      31\n",
       "Name: count, dtype: int64"
      ]
     },
     "metadata": {},
     "output_type": "display_data"
    }
   ],
   "source": [
    "bldgtype_order = ['1Fam', '2fmCon', 'Duplex', 'Twnhs', 'TwnhsE', 'TwnhsI']\n",
    "# BldgType: Type of dwelling\n",
    "#        1Fam\tSingle-family Detached\t\n",
    "#        2FmCon\tTwo-family Conversion; originally built as one-family dwelling\n",
    "#        Duplx\tDuplex\n",
    "#        TwnhsE\tTownhouse End Unit\n",
    "#        TwnhsI\tTownhouse Inside Unit\n",
    "df['BldgType'].value_counts()"
   ]
  },
  {
   "cell_type": "code",
   "execution_count": null,
   "metadata": {},
   "outputs": [],
   "source": [
    "# HouseStyle"
   ]
  },
  {
   "cell_type": "code",
   "execution_count": null,
   "metadata": {},
   "outputs": [
    {
     "data": {
      "text/plain": [
       "RoofStyle\n",
       "Gable      1141\n",
       "Hip         286\n",
       "Flat         13\n",
       "Gambrel      11\n",
       "Mansard       7\n",
       "Shed          2\n",
       "Name: count, dtype: int64"
      ]
     },
     "metadata": {},
     "output_type": "display_data"
    }
   ],
   "source": [
    "roofstyle_order = ['Flat', 'Gable', 'Gambrel', 'Hip', 'Mansard', 'Shed']\n",
    "# RoofStyle: Type of roof\n",
    "#        Flat\tFlat\n",
    "#        Gable\tGable\n",
    "#        Gambrel\tGabrel (Barn)\n",
    "#        Hip\tHip\n",
    "#        Mansard\tMansard\n",
    "#        Shed\tShed\n",
    "df['RoofStyle'].value_counts()"
   ]
  },
  {
   "cell_type": "code",
   "execution_count": null,
   "metadata": {},
   "outputs": [
    {
     "data": {
      "text/plain": [
       "RoofMatl\n",
       "CompShg    1434\n",
       "Tar&Grv      11\n",
       "WdShngl       6\n",
       "WdShake       5\n",
       "Metal         1\n",
       "Membran       1\n",
       "Roll          1\n",
       "ClyTile       1\n",
       "Name: count, dtype: int64"
      ]
     },
     "metadata": {},
     "output_type": "display_data"
    }
   ],
   "source": [
    "roofmatl_order = ['ClyTile', 'CompShg', 'Membran', 'Metal', 'Roll', 'Tar&Grv', 'WdShake', 'WdShngl']\n",
    "# RoofMatl: Roof material\n",
    "#        ClyTile\tClay or Tile\n",
    "#        CompShg\tStandard (Composite) Shingle\n",
    "#        Membran\tMembrane\n",
    "#        Metal\tMetal\n",
    "#        Roll\tRoll\n",
    "#        Tar&Grv\tGravel & Tar\n",
    "#        WdShake\tWood Shakes\n",
    "#        WdShngl\tWood Shingles\n",
    "df['RoofMatl'].value_counts()"
   ]
  },
  {
   "cell_type": "markdown",
   "metadata": {},
   "source": [
    "##### Batch #04"
   ]
  },
  {
   "cell_type": "code",
   "execution_count": null,
   "metadata": {},
   "outputs": [],
   "source": [
    "# Exterior1st"
   ]
  },
  {
   "cell_type": "code",
   "execution_count": null,
   "metadata": {},
   "outputs": [],
   "source": [
    "# Exterior2nd"
   ]
  },
  {
   "cell_type": "code",
   "execution_count": null,
   "metadata": {},
   "outputs": [],
   "source": [
    "# MasVnrType"
   ]
  },
  {
   "cell_type": "code",
   "execution_count": null,
   "metadata": {},
   "outputs": [
    {
     "data": {
      "text/plain": [
       "ExterQual\n",
       "TA    906\n",
       "Gd    488\n",
       "Ex     52\n",
       "Fa     14\n",
       "Name: count, dtype: int64"
      ]
     },
     "metadata": {},
     "output_type": "display_data"
    }
   ],
   "source": [
    "exterqual_order = ['Ex', 'Gd', 'TA', 'Fa', 'Po']\n",
    "# ExterQual: Evaluates the quality of the material on the exterior \n",
    "#        Ex\tExcellent\n",
    "#        Gd\tGood\n",
    "#        TA\tAverage/Typical\n",
    "#        Fa\tFair\n",
    "#        Po\tPoor\n",
    "df['ExterQual'].value_counts()"
   ]
  },
  {
   "cell_type": "code",
   "execution_count": null,
   "metadata": {},
   "outputs": [
    {
     "data": {
      "text/plain": [
       "ExterCond\n",
       "TA    1282\n",
       "Gd     146\n",
       "Fa      28\n",
       "Ex       3\n",
       "Po       1\n",
       "Name: count, dtype: int64"
      ]
     },
     "metadata": {},
     "output_type": "display_data"
    }
   ],
   "source": [
    "extercond_order = ['Ex', 'Gd', 'TA', 'Fa', 'Po']\n",
    "# ExterCond: Evaluates the present condition of the material on the exterior\n",
    "#        Ex\tExcellent\n",
    "#        Gd\tGood\n",
    "#        TA\tAverage/Typical\n",
    "#        Fa\tFair\n",
    "#        Po\tPoor\n",
    "df['ExterCond'].value_counts()"
   ]
  },
  {
   "cell_type": "markdown",
   "metadata": {},
   "source": [
    "##### Batch #05"
   ]
  },
  {
   "cell_type": "code",
   "execution_count": null,
   "metadata": {},
   "outputs": [
    {
     "data": {
      "text/plain": [
       "Foundation\n",
       "PConc     647\n",
       "CBlock    634\n",
       "BrkTil    146\n",
       "Slab       24\n",
       "Stone       6\n",
       "Wood        3\n",
       "Name: count, dtype: int64"
      ]
     },
     "metadata": {},
     "output_type": "display_data"
    }
   ],
   "source": [
    "foundation_order = ['PConc', 'CBlock', 'BrkTil', 'Stone', 'Slab', 'Wood']\n",
    "# Foundation: Type of foundation\n",
    "#        BrkTil\tBrick & Tile\n",
    "#        CBlock\tCinder Block\n",
    "#        PConc\tPoured Contrete\t\n",
    "#        Slab\tSlab\n",
    "#        Stone\tStone\n",
    "#        Wood\tWood\n",
    "df['Foundation'].value_counts()"
   ]
  },
  {
   "cell_type": "code",
   "execution_count": null,
   "metadata": {},
   "outputs": [
    {
     "data": {
      "text/plain": [
       "BsmtQual\n",
       "TA    649\n",
       "Gd    618\n",
       "Ex    121\n",
       "Fa     35\n",
       "Name: count, dtype: int64"
      ]
     },
     "metadata": {},
     "output_type": "display_data"
    }
   ],
   "source": [
    "bsmtqual_order = ['Ex', 'Gd', 'TA', 'Fa', 'Po', 'NA']\n",
    "# BsmtQual: Evaluates the height of the basement\n",
    "#        Ex\tExcellent (100+ inches)\t\n",
    "#        Gd\tGood (90-99 inches)\n",
    "#        TA\tTypical (80-89 inches)\n",
    "#        Fa\tFair (70-79 inches)\n",
    "#        Po\tPoor (<70 inches\n",
    "#        NA\tNo Basement\n",
    "df['BsmtQual'].value_counts()"
   ]
  },
  {
   "cell_type": "code",
   "execution_count": null,
   "metadata": {},
   "outputs": [
    {
     "data": {
      "text/plain": [
       "BsmtCond\n",
       "TA    1311\n",
       "Gd      65\n",
       "Fa      45\n",
       "Po       2\n",
       "Name: count, dtype: int64"
      ]
     },
     "metadata": {},
     "output_type": "display_data"
    }
   ],
   "source": [
    "bsmtcond_order = ['Ex', 'Gd', 'TA', 'Fa', 'Po', 'NA']\n",
    "# BsmtCond: Evaluates the general condition of the basement\n",
    "#        Ex\tExcellent\n",
    "#        Gd\tGood\n",
    "#        TA\tTypical - slight dampness allowed\n",
    "#        Fa\tFair - dampness or some cracking or settling\n",
    "#        Po\tPoor - Severe cracking, settling, or wetness\n",
    "#        NA\tNo Basement\n",
    "df['BsmtCond'].value_counts()"
   ]
  },
  {
   "cell_type": "code",
   "execution_count": null,
   "metadata": {},
   "outputs": [
    {
     "data": {
      "text/plain": [
       "BsmtExposure\n",
       "No    953\n",
       "Av    221\n",
       "Gd    134\n",
       "Mn    114\n",
       "Name: count, dtype: int64"
      ]
     },
     "metadata": {},
     "output_type": "display_data"
    }
   ],
   "source": [
    "bsmtexposure_order = ['Gd', 'Av', 'Mn', 'No', 'NA']\n",
    "# BsmtExposure: Refers to walkout or garden level walls\n",
    "#        Gd\tGood Exposure\n",
    "#        Av\tAverage Exposure (split levels or foyers typically score average or above)\t\n",
    "#        Mn\tMimimum Exposure\n",
    "#        No\tNo Exposure\n",
    "#        NA\tNo Basement\n",
    "df['BsmtExposure'].value_counts()"
   ]
  },
  {
   "cell_type": "code",
   "execution_count": null,
   "metadata": {},
   "outputs": [
    {
     "data": {
      "text/plain": [
       "BsmtFinType1\n",
       "Unf    430\n",
       "GLQ    418\n",
       "ALQ    220\n",
       "BLQ    148\n",
       "Rec    133\n",
       "LwQ     74\n",
       "Name: count, dtype: int64"
      ]
     },
     "metadata": {},
     "output_type": "display_data"
    }
   ],
   "source": [
    "bsmtfintype1_order = ['GLQ', 'ALQ', 'BLQ', 'Rec', 'LwQ', 'Unf', 'NA']\n",
    "# BsmtFinType1: Rating of basement finished area\n",
    "#        GLQ\tGood Living Quarters\n",
    "#        ALQ\tAverage Living Quarters\n",
    "#        BLQ\tBelow Average Living Quarters\t\n",
    "#        Rec\tAverage Rec Room\n",
    "#        LwQ\tLow Quality\n",
    "#        Unf\tUnfinshed\n",
    "#        NA\tNo Basement\n",
    "df['BsmtFinType1'].value_counts()"
   ]
  },
  {
   "cell_type": "markdown",
   "metadata": {},
   "source": [
    "##### Batch #06"
   ]
  },
  {
   "cell_type": "code",
   "execution_count": null,
   "metadata": {},
   "outputs": [
    {
     "data": {
      "text/plain": [
       "BsmtFinType2\n",
       "Unf    1256\n",
       "Rec      54\n",
       "LwQ      46\n",
       "BLQ      33\n",
       "ALQ      19\n",
       "GLQ      14\n",
       "Name: count, dtype: int64"
      ]
     },
     "metadata": {},
     "output_type": "display_data"
    }
   ],
   "source": [
    "bsmtfintype2_order = ['GLQ', 'ALQ', 'BLQ', 'Rec', 'LwQ', 'Unf', 'NA']\n",
    "# BsmtFinType1: Rating of basement finished area\n",
    "#        GLQ\tGood Living Quarters\n",
    "#        ALQ\tAverage Living Quarters\n",
    "#        BLQ\tBelow Average Living Quarters\t\n",
    "#        Rec\tAverage Rec Room\n",
    "#        LwQ\tLow Quality\n",
    "#        Unf\tUnfinshed\n",
    "#        NA\tNo Basement\n",
    "df['BsmtFinType2'].value_counts()"
   ]
  },
  {
   "cell_type": "code",
   "execution_count": null,
   "metadata": {},
   "outputs": [
    {
     "data": {
      "text/plain": [
       "Heating\n",
       "GasA     1428\n",
       "GasW       18\n",
       "Grav        7\n",
       "Wall        4\n",
       "OthW        2\n",
       "Floor       1\n",
       "Name: count, dtype: int64"
      ]
     },
     "metadata": {},
     "output_type": "display_data"
    }
   ],
   "source": [
    "heating_order = ['GasW', 'OthW', 'GasA', 'Floor', 'Wall', 'Grav']\n",
    "# Heating: Type of heating\n",
    "#     Floor\tFloor Furnace\n",
    "#     GasA\tGas forced warm air furnace\n",
    "#     GasW\tGas hot water or steam heat\n",
    "#     Grav\tGravity furnace\t\n",
    "#     OthW\tHot water or steam heat other than gas\n",
    "#     Wall\tWall furnace\n",
    "df['Heating'].value_counts()"
   ]
  },
  {
   "cell_type": "code",
   "execution_count": null,
   "metadata": {},
   "outputs": [
    {
     "data": {
      "text/plain": [
       "HeatingQC\n",
       "Ex    741\n",
       "TA    428\n",
       "Gd    241\n",
       "Fa     49\n",
       "Po      1\n",
       "Name: count, dtype: int64"
      ]
     },
     "metadata": {},
     "output_type": "display_data"
    }
   ],
   "source": [
    "heatingqc_order = ['Ex', 'Gd', 'TA', 'Fa', 'Po', 'NA']\n",
    "# HeatingQC: Heating quality and condition\n",
    "\n",
    "#        Ex\tExcellent\n",
    "#        Gd\tGood\n",
    "#        TA\tAverage/Typical\n",
    "#        Fa\tFair\n",
    "#        Po\tPoor\n",
    "df['HeatingQC'].value_counts()"
   ]
  },
  {
   "cell_type": "code",
   "execution_count": null,
   "metadata": {},
   "outputs": [
    {
     "data": {
      "text/plain": [
       "CentralAir\n",
       "Y    1365\n",
       "N      95\n",
       "Name: count, dtype: int64"
      ]
     },
     "metadata": {},
     "output_type": "display_data"
    }
   ],
   "source": [
    "centralair_order = ['Y', 'N']\n",
    "# CentralAir: Central air conditioning\n",
    "#        N\tNo\n",
    "#        Y\tYes\n",
    "df['CentralAir'].value_counts()"
   ]
  },
  {
   "cell_type": "code",
   "execution_count": null,
   "metadata": {},
   "outputs": [
    {
     "data": {
      "text/plain": [
       "Electrical\n",
       "SBrkr    1334\n",
       "FuseA      94\n",
       "FuseF      27\n",
       "FuseP       3\n",
       "Mix         1\n",
       "Name: count, dtype: int64"
      ]
     },
     "metadata": {},
     "output_type": "display_data"
    }
   ],
   "source": [
    "electrical_order = ['SBrkr', 'FuseA', 'FuseF', 'FuseP', 'Mix', 'NA']\n",
    "# Electrical: Electrical system\n",
    "#        SBrkr\tStandard Circuit Breakers & Romex\n",
    "#        FuseA\tFuse Box over 60 AMP and all Romex wiring (Average)\t\n",
    "#        FuseF\t60 AMP Fuse Box and mostly Romex wiring (Fair)\n",
    "#        FuseP\t60 AMP Fuse Box and mostly knob & tube wiring (poor)\n",
    "#        Mix\tMixed\n",
    "df['Electrical'].value_counts()"
   ]
  },
  {
   "cell_type": "markdown",
   "metadata": {},
   "source": [
    "##### Batch #07"
   ]
  },
  {
   "cell_type": "code",
   "execution_count": null,
   "metadata": {},
   "outputs": [
    {
     "data": {
      "text/plain": [
       "KitchenQual\n",
       "TA    735\n",
       "Gd    586\n",
       "Ex    100\n",
       "Fa     39\n",
       "Name: count, dtype: int64"
      ]
     },
     "metadata": {},
     "output_type": "display_data"
    }
   ],
   "source": [
    "kitchenqual_order = ['Ex', 'Gd', 'TA', 'Fa', 'Po', 'NA']\n",
    "# KitchenQual: Kitchen quality\n",
    "#        Ex\tExcellent\n",
    "#        Gd\tGood\n",
    "#        TA\tTypical/Average\n",
    "#        Fa\tFair\n",
    "#        Po\tPoor\n",
    "df['KitchenQual'].value_counts()"
   ]
  },
  {
   "cell_type": "code",
   "execution_count": null,
   "metadata": {},
   "outputs": [],
   "source": [
    "# Functional"
   ]
  },
  {
   "cell_type": "code",
   "execution_count": null,
   "metadata": {},
   "outputs": [
    {
     "data": {
      "text/plain": [
       "FireplaceQu\n",
       "Gd    380\n",
       "TA    313\n",
       "Fa     33\n",
       "Ex     24\n",
       "Po     20\n",
       "Name: count, dtype: int64"
      ]
     },
     "metadata": {},
     "output_type": "display_data"
    }
   ],
   "source": [
    "fireplacequ_order = ['Ex', 'Gd', 'TA', 'Fa', 'Po', 'NA']\n",
    "# FireplaceQu: Fireplace quality\n",
    "#        Ex\tExcellent - Exceptional Masonry Fireplace\n",
    "#        Gd\tGood - Masonry Fireplace in main level\n",
    "#        TA\tAverage - Prefabricated Fireplace in main living area or Masonry Fireplace in basement\n",
    "#        Fa\tFair - Prefabricated Fireplace in basement\n",
    "#        Po\tPoor - Ben Franklin Stove\n",
    "#        NA\tNo Fireplace\n",
    "df['FireplaceQu'].value_counts()"
   ]
  },
  {
   "cell_type": "code",
   "execution_count": null,
   "metadata": {},
   "outputs": [
    {
     "data": {
      "text/plain": [
       "GarageType\n",
       "Attchd     870\n",
       "Detchd     387\n",
       "BuiltIn     88\n",
       "Basment     19\n",
       "CarPort      9\n",
       "2Types       6\n",
       "Name: count, dtype: int64"
      ]
     },
     "metadata": {},
     "output_type": "display_data"
    }
   ],
   "source": [
    "garagetype_order = ['2Types', 'Attchd', 'Basment', 'BuiltIn', 'CarPort', 'Detchd', 'NA']\n",
    "# GarageType: Garage location\n",
    "\t\t\n",
    "#        2Types\tMore than one type of garage\n",
    "#        Attchd\tAttached to home\n",
    "#        Basment\tBasement Garage\n",
    "#        BuiltIn\tBuilt-In (Garage part of house - typically has room above garage)\n",
    "#        CarPort\tCar Port\n",
    "#        Detchd\tDetached from home\n",
    "#        NA\tNo Garage\n",
    "df['GarageType'].value_counts()"
   ]
  },
  {
   "cell_type": "code",
   "execution_count": null,
   "metadata": {},
   "outputs": [],
   "source": [
    "# GarageFinish"
   ]
  },
  {
   "cell_type": "markdown",
   "metadata": {},
   "source": [
    "##### Batch #08"
   ]
  },
  {
   "cell_type": "code",
   "execution_count": null,
   "metadata": {},
   "outputs": [
    {
     "data": {
      "text/plain": [
       "GarageQual\n",
       "TA    1311\n",
       "Fa      48\n",
       "Gd      14\n",
       "Ex       3\n",
       "Po       3\n",
       "Name: count, dtype: int64"
      ]
     },
     "metadata": {},
     "output_type": "display_data"
    }
   ],
   "source": [
    "garagequal_order = ['Ex', 'Gd', 'TA', 'Fa', 'Po', 'NA']\n",
    "# GarageQual: Garage quality\n",
    "\n",
    "#        Ex\tExcellent\n",
    "#        Gd\tGood\n",
    "#        TA\tTypical/Average\n",
    "#        Fa\tFair\n",
    "#        Po\tPoor\n",
    "#        NA\tNo Garage\n",
    "df['GarageQual'].value_counts()"
   ]
  },
  {
   "cell_type": "code",
   "execution_count": null,
   "metadata": {},
   "outputs": [
    {
     "data": {
      "text/plain": [
       "GarageCond\n",
       "TA    1326\n",
       "Fa      35\n",
       "Gd       9\n",
       "Po       7\n",
       "Ex       2\n",
       "Name: count, dtype: int64"
      ]
     },
     "metadata": {},
     "output_type": "display_data"
    }
   ],
   "source": [
    "garagecond_order = ['Ex', 'Gd', 'TA', 'Fa', 'Po', 'NA']\n",
    "# GarageCond: Garage condition\n",
    "#        Ex\tExcellent\n",
    "#        Gd\tGood\n",
    "#        TA\tTypical/Average\n",
    "#        Fa\tFair\n",
    "#        Po\tPoor\n",
    "#        NA\tNo Garage\n",
    "df['GarageCond'].value_counts()"
   ]
  },
  {
   "cell_type": "code",
   "execution_count": null,
   "metadata": {},
   "outputs": [
    {
     "data": {
      "text/plain": [
       "PavedDrive\n",
       "Y    1340\n",
       "N      90\n",
       "P      30\n",
       "Name: count, dtype: int64"
      ]
     },
     "metadata": {},
     "output_type": "display_data"
    }
   ],
   "source": [
    "paveddrive_order = ['Y', 'P', 'N']\n",
    "# PavedDrive: Paved driveway\n",
    "#        Y\tPaved \n",
    "#        P\tPartial Pavement\n",
    "#        N\tDirt/Gravel\n",
    "df['PavedDrive'].value_counts()"
   ]
  },
  {
   "cell_type": "code",
   "execution_count": null,
   "metadata": {},
   "outputs": [
    {
     "data": {
      "text/plain": [
       "PoolQC\n",
       "Gd    3\n",
       "Ex    2\n",
       "Fa    2\n",
       "Name: count, dtype: int64"
      ]
     },
     "metadata": {},
     "output_type": "display_data"
    }
   ],
   "source": [
    "poolqc_order = ['Ex', 'Gd', 'TA', 'Fa', 'NA']\n",
    "# PoolQC: Pool quality\n",
    "#        Ex\tExcellent\n",
    "#        Gd\tGood\n",
    "#        TA\tAverage/Typical\n",
    "#        Fa\tFair\n",
    "#        NA\tNo Pool\n",
    "df['PoolQC'].value_counts()"
   ]
  },
  {
   "cell_type": "code",
   "execution_count": null,
   "metadata": {},
   "outputs": [
    {
     "data": {
      "text/plain": [
       "Fence\n",
       "MnPrv    157\n",
       "GdPrv     59\n",
       "GdWo      54\n",
       "MnWw      11\n",
       "Name: count, dtype: int64"
      ]
     },
     "metadata": {},
     "output_type": "display_data"
    }
   ],
   "source": [
    "fence_order = ['GdPrv', 'MnPrv', 'GdWo', 'MnWw', 'NA']\n",
    "# Fence: Fence quality\n",
    "#        GdPrv\tGood Privacy\n",
    "#        MnPrv\tMinimum Privacy\n",
    "#        GdWo\tGood Wood\n",
    "#        MnWw\tMinimum Wood/Wire\n",
    "#        NA\tNo Fence\n",
    "df['Fence'].value_counts()"
   ]
  },
  {
   "cell_type": "markdown",
   "metadata": {},
   "source": [
    "##### Batch #09"
   ]
  },
  {
   "cell_type": "code",
   "execution_count": null,
   "metadata": {},
   "outputs": [],
   "source": [
    "# MiscFeature"
   ]
  },
  {
   "cell_type": "code",
   "execution_count": null,
   "metadata": {},
   "outputs": [
    {
     "data": {
      "text/plain": [
       "SaleType\n",
       "WD       1267\n",
       "New       122\n",
       "COD        43\n",
       "ConLD       9\n",
       "ConLI       5\n",
       "ConLw       5\n",
       "CWD         4\n",
       "Oth         3\n",
       "Con         2\n",
       "Name: count, dtype: int64"
      ]
     },
     "metadata": {},
     "output_type": "display_data"
    }
   ],
   "source": [
    "salestype_order = ['WD', 'CWD', 'VWD', 'New', 'COD', 'Con', 'ConLw', 'ConLI', 'ConLD', 'Oth', 'NA']\n",
    "# SaleType: Type of sale\n",
    "#        WD \tWarranty Deed - Conventional\n",
    "#        CWD\tWarranty Deed - Cash\n",
    "#        VWD\tWarranty Deed - VA Loan\n",
    "#        New\tHome just constructed and sold\n",
    "#        COD\tCourt Officer Deed/Estate\n",
    "#        Con\tContract 15% Down payment regular terms\n",
    "#        ConLw\tContract Low Down payment and low interest\n",
    "#        ConLI\tContract Low Interest\n",
    "#        ConLD\tContract Low Down\n",
    "#        Oth\tOther\n",
    "df['SaleType'].value_counts()"
   ]
  },
  {
   "cell_type": "code",
   "execution_count": null,
   "metadata": {},
   "outputs": [
    {
     "data": {
      "text/plain": [
       "SaleCondition\n",
       "Normal     1198\n",
       "Partial     125\n",
       "Abnorml     101\n",
       "Family       20\n",
       "Alloca       12\n",
       "AdjLand       4\n",
       "Name: count, dtype: int64"
      ]
     },
     "metadata": {},
     "output_type": "display_data"
    }
   ],
   "source": [
    "salecondition_order = ['Normal', 'Abnorml', 'AdjLand', 'Alloca', 'Family', 'Partial']\n",
    "# SaleCondition: Condition of sale\n",
    "#        Normal\tNormal Sale\n",
    "#        Abnorml\tAbnormal Sale -  trade, foreclosure, short sale\n",
    "#        AdjLand\tAdjoining Land Purchase\n",
    "#        Alloca\tAllocation - two linked properties with separate deeds, typically condo with a garage unit\t\n",
    "#        Family\tSale between family members\n",
    "#        Partial\tHome was not completed when last assessed (associated with New Homes)\n",
    "df['SaleCondition'].value_counts()"
   ]
  },
  {
   "cell_type": "markdown",
   "metadata": {},
   "source": [
    "### 3 Transformers and regressors"
   ]
  },
  {
   "cell_type": "code",
   "execution_count": null,
   "metadata": {},
   "outputs": [
    {
     "name": "stdout",
     "output_type": "stream",
     "text": [
      "0.9772397056275924\n"
     ]
    },
    {
     "data": {
      "text/html": [
       "<style>#sk-container-id-14 {\n",
       "  /* Definition of color scheme common for light and dark mode */\n",
       "  --sklearn-color-text: black;\n",
       "  --sklearn-color-line: gray;\n",
       "  /* Definition of color scheme for unfitted estimators */\n",
       "  --sklearn-color-unfitted-level-0: #fff5e6;\n",
       "  --sklearn-color-unfitted-level-1: #f6e4d2;\n",
       "  --sklearn-color-unfitted-level-2: #ffe0b3;\n",
       "  --sklearn-color-unfitted-level-3: chocolate;\n",
       "  /* Definition of color scheme for fitted estimators */\n",
       "  --sklearn-color-fitted-level-0: #f0f8ff;\n",
       "  --sklearn-color-fitted-level-1: #d4ebff;\n",
       "  --sklearn-color-fitted-level-2: #b3dbfd;\n",
       "  --sklearn-color-fitted-level-3: cornflowerblue;\n",
       "\n",
       "  /* Specific color for light theme */\n",
       "  --sklearn-color-text-on-default-background: var(--sg-text-color, var(--theme-code-foreground, var(--jp-content-font-color1, black)));\n",
       "  --sklearn-color-background: var(--sg-background-color, var(--theme-background, var(--jp-layout-color0, white)));\n",
       "  --sklearn-color-border-box: var(--sg-text-color, var(--theme-code-foreground, var(--jp-content-font-color1, black)));\n",
       "  --sklearn-color-icon: #696969;\n",
       "\n",
       "  @media (prefers-color-scheme: dark) {\n",
       "    /* Redefinition of color scheme for dark theme */\n",
       "    --sklearn-color-text-on-default-background: var(--sg-text-color, var(--theme-code-foreground, var(--jp-content-font-color1, white)));\n",
       "    --sklearn-color-background: var(--sg-background-color, var(--theme-background, var(--jp-layout-color0, #111)));\n",
       "    --sklearn-color-border-box: var(--sg-text-color, var(--theme-code-foreground, var(--jp-content-font-color1, white)));\n",
       "    --sklearn-color-icon: #878787;\n",
       "  }\n",
       "}\n",
       "\n",
       "#sk-container-id-14 {\n",
       "  color: var(--sklearn-color-text);\n",
       "}\n",
       "\n",
       "#sk-container-id-14 pre {\n",
       "  padding: 0;\n",
       "}\n",
       "\n",
       "#sk-container-id-14 input.sk-hidden--visually {\n",
       "  border: 0;\n",
       "  clip: rect(1px 1px 1px 1px);\n",
       "  clip: rect(1px, 1px, 1px, 1px);\n",
       "  height: 1px;\n",
       "  margin: -1px;\n",
       "  overflow: hidden;\n",
       "  padding: 0;\n",
       "  position: absolute;\n",
       "  width: 1px;\n",
       "}\n",
       "\n",
       "#sk-container-id-14 div.sk-dashed-wrapped {\n",
       "  border: 1px dashed var(--sklearn-color-line);\n",
       "  margin: 0 0.4em 0.5em 0.4em;\n",
       "  box-sizing: border-box;\n",
       "  padding-bottom: 0.4em;\n",
       "  background-color: var(--sklearn-color-background);\n",
       "}\n",
       "\n",
       "#sk-container-id-14 div.sk-container {\n",
       "  /* jupyter's `normalize.less` sets `[hidden] { display: none; }`\n",
       "     but bootstrap.min.css set `[hidden] { display: none !important; }`\n",
       "     so we also need the `!important` here to be able to override the\n",
       "     default hidden behavior on the sphinx rendered scikit-learn.org.\n",
       "     See: https://github.com/scikit-learn/scikit-learn/issues/21755 */\n",
       "  display: inline-block !important;\n",
       "  position: relative;\n",
       "}\n",
       "\n",
       "#sk-container-id-14 div.sk-text-repr-fallback {\n",
       "  display: none;\n",
       "}\n",
       "\n",
       "div.sk-parallel-item,\n",
       "div.sk-serial,\n",
       "div.sk-item {\n",
       "  /* draw centered vertical line to link estimators */\n",
       "  background-image: linear-gradient(var(--sklearn-color-text-on-default-background), var(--sklearn-color-text-on-default-background));\n",
       "  background-size: 2px 100%;\n",
       "  background-repeat: no-repeat;\n",
       "  background-position: center center;\n",
       "}\n",
       "\n",
       "/* Parallel-specific style estimator block */\n",
       "\n",
       "#sk-container-id-14 div.sk-parallel-item::after {\n",
       "  content: \"\";\n",
       "  width: 100%;\n",
       "  border-bottom: 2px solid var(--sklearn-color-text-on-default-background);\n",
       "  flex-grow: 1;\n",
       "}\n",
       "\n",
       "#sk-container-id-14 div.sk-parallel {\n",
       "  display: flex;\n",
       "  align-items: stretch;\n",
       "  justify-content: center;\n",
       "  background-color: var(--sklearn-color-background);\n",
       "  position: relative;\n",
       "}\n",
       "\n",
       "#sk-container-id-14 div.sk-parallel-item {\n",
       "  display: flex;\n",
       "  flex-direction: column;\n",
       "}\n",
       "\n",
       "#sk-container-id-14 div.sk-parallel-item:first-child::after {\n",
       "  align-self: flex-end;\n",
       "  width: 50%;\n",
       "}\n",
       "\n",
       "#sk-container-id-14 div.sk-parallel-item:last-child::after {\n",
       "  align-self: flex-start;\n",
       "  width: 50%;\n",
       "}\n",
       "\n",
       "#sk-container-id-14 div.sk-parallel-item:only-child::after {\n",
       "  width: 0;\n",
       "}\n",
       "\n",
       "/* Serial-specific style estimator block */\n",
       "\n",
       "#sk-container-id-14 div.sk-serial {\n",
       "  display: flex;\n",
       "  flex-direction: column;\n",
       "  align-items: center;\n",
       "  background-color: var(--sklearn-color-background);\n",
       "  padding-right: 1em;\n",
       "  padding-left: 1em;\n",
       "}\n",
       "\n",
       "\n",
       "/* Toggleable style: style used for estimator/Pipeline/ColumnTransformer box that is\n",
       "clickable and can be expanded/collapsed.\n",
       "- Pipeline and ColumnTransformer use this feature and define the default style\n",
       "- Estimators will overwrite some part of the style using the `sk-estimator` class\n",
       "*/\n",
       "\n",
       "/* Pipeline and ColumnTransformer style (default) */\n",
       "\n",
       "#sk-container-id-14 div.sk-toggleable {\n",
       "  /* Default theme specific background. It is overwritten whether we have a\n",
       "  specific estimator or a Pipeline/ColumnTransformer */\n",
       "  background-color: var(--sklearn-color-background);\n",
       "}\n",
       "\n",
       "/* Toggleable label */\n",
       "#sk-container-id-14 label.sk-toggleable__label {\n",
       "  cursor: pointer;\n",
       "  display: block;\n",
       "  width: 100%;\n",
       "  margin-bottom: 0;\n",
       "  padding: 0.5em;\n",
       "  box-sizing: border-box;\n",
       "  text-align: center;\n",
       "}\n",
       "\n",
       "#sk-container-id-14 label.sk-toggleable__label-arrow:before {\n",
       "  /* Arrow on the left of the label */\n",
       "  content: \"▸\";\n",
       "  float: left;\n",
       "  margin-right: 0.25em;\n",
       "  color: var(--sklearn-color-icon);\n",
       "}\n",
       "\n",
       "#sk-container-id-14 label.sk-toggleable__label-arrow:hover:before {\n",
       "  color: var(--sklearn-color-text);\n",
       "}\n",
       "\n",
       "/* Toggleable content - dropdown */\n",
       "\n",
       "#sk-container-id-14 div.sk-toggleable__content {\n",
       "  max-height: 0;\n",
       "  max-width: 0;\n",
       "  overflow: hidden;\n",
       "  text-align: left;\n",
       "  /* unfitted */\n",
       "  background-color: var(--sklearn-color-unfitted-level-0);\n",
       "}\n",
       "\n",
       "#sk-container-id-14 div.sk-toggleable__content.fitted {\n",
       "  /* fitted */\n",
       "  background-color: var(--sklearn-color-fitted-level-0);\n",
       "}\n",
       "\n",
       "#sk-container-id-14 div.sk-toggleable__content pre {\n",
       "  margin: 0.2em;\n",
       "  border-radius: 0.25em;\n",
       "  color: var(--sklearn-color-text);\n",
       "  /* unfitted */\n",
       "  background-color: var(--sklearn-color-unfitted-level-0);\n",
       "}\n",
       "\n",
       "#sk-container-id-14 div.sk-toggleable__content.fitted pre {\n",
       "  /* unfitted */\n",
       "  background-color: var(--sklearn-color-fitted-level-0);\n",
       "}\n",
       "\n",
       "#sk-container-id-14 input.sk-toggleable__control:checked~div.sk-toggleable__content {\n",
       "  /* Expand drop-down */\n",
       "  max-height: 200px;\n",
       "  max-width: 100%;\n",
       "  overflow: auto;\n",
       "}\n",
       "\n",
       "#sk-container-id-14 input.sk-toggleable__control:checked~label.sk-toggleable__label-arrow:before {\n",
       "  content: \"▾\";\n",
       "}\n",
       "\n",
       "/* Pipeline/ColumnTransformer-specific style */\n",
       "\n",
       "#sk-container-id-14 div.sk-label input.sk-toggleable__control:checked~label.sk-toggleable__label {\n",
       "  color: var(--sklearn-color-text);\n",
       "  background-color: var(--sklearn-color-unfitted-level-2);\n",
       "}\n",
       "\n",
       "#sk-container-id-14 div.sk-label.fitted input.sk-toggleable__control:checked~label.sk-toggleable__label {\n",
       "  background-color: var(--sklearn-color-fitted-level-2);\n",
       "}\n",
       "\n",
       "/* Estimator-specific style */\n",
       "\n",
       "/* Colorize estimator box */\n",
       "#sk-container-id-14 div.sk-estimator input.sk-toggleable__control:checked~label.sk-toggleable__label {\n",
       "  /* unfitted */\n",
       "  background-color: var(--sklearn-color-unfitted-level-2);\n",
       "}\n",
       "\n",
       "#sk-container-id-14 div.sk-estimator.fitted input.sk-toggleable__control:checked~label.sk-toggleable__label {\n",
       "  /* fitted */\n",
       "  background-color: var(--sklearn-color-fitted-level-2);\n",
       "}\n",
       "\n",
       "#sk-container-id-14 div.sk-label label.sk-toggleable__label,\n",
       "#sk-container-id-14 div.sk-label label {\n",
       "  /* The background is the default theme color */\n",
       "  color: var(--sklearn-color-text-on-default-background);\n",
       "}\n",
       "\n",
       "/* On hover, darken the color of the background */\n",
       "#sk-container-id-14 div.sk-label:hover label.sk-toggleable__label {\n",
       "  color: var(--sklearn-color-text);\n",
       "  background-color: var(--sklearn-color-unfitted-level-2);\n",
       "}\n",
       "\n",
       "/* Label box, darken color on hover, fitted */\n",
       "#sk-container-id-14 div.sk-label.fitted:hover label.sk-toggleable__label.fitted {\n",
       "  color: var(--sklearn-color-text);\n",
       "  background-color: var(--sklearn-color-fitted-level-2);\n",
       "}\n",
       "\n",
       "/* Estimator label */\n",
       "\n",
       "#sk-container-id-14 div.sk-label label {\n",
       "  font-family: monospace;\n",
       "  font-weight: bold;\n",
       "  display: inline-block;\n",
       "  line-height: 1.2em;\n",
       "}\n",
       "\n",
       "#sk-container-id-14 div.sk-label-container {\n",
       "  text-align: center;\n",
       "}\n",
       "\n",
       "/* Estimator-specific */\n",
       "#sk-container-id-14 div.sk-estimator {\n",
       "  font-family: monospace;\n",
       "  border: 1px dotted var(--sklearn-color-border-box);\n",
       "  border-radius: 0.25em;\n",
       "  box-sizing: border-box;\n",
       "  margin-bottom: 0.5em;\n",
       "  /* unfitted */\n",
       "  background-color: var(--sklearn-color-unfitted-level-0);\n",
       "}\n",
       "\n",
       "#sk-container-id-14 div.sk-estimator.fitted {\n",
       "  /* fitted */\n",
       "  background-color: var(--sklearn-color-fitted-level-0);\n",
       "}\n",
       "\n",
       "/* on hover */\n",
       "#sk-container-id-14 div.sk-estimator:hover {\n",
       "  /* unfitted */\n",
       "  background-color: var(--sklearn-color-unfitted-level-2);\n",
       "}\n",
       "\n",
       "#sk-container-id-14 div.sk-estimator.fitted:hover {\n",
       "  /* fitted */\n",
       "  background-color: var(--sklearn-color-fitted-level-2);\n",
       "}\n",
       "\n",
       "/* Specification for estimator info (e.g. \"i\" and \"?\") */\n",
       "\n",
       "/* Common style for \"i\" and \"?\" */\n",
       "\n",
       ".sk-estimator-doc-link,\n",
       "a:link.sk-estimator-doc-link,\n",
       "a:visited.sk-estimator-doc-link {\n",
       "  float: right;\n",
       "  font-size: smaller;\n",
       "  line-height: 1em;\n",
       "  font-family: monospace;\n",
       "  background-color: var(--sklearn-color-background);\n",
       "  border-radius: 1em;\n",
       "  height: 1em;\n",
       "  width: 1em;\n",
       "  text-decoration: none !important;\n",
       "  margin-left: 1ex;\n",
       "  /* unfitted */\n",
       "  border: var(--sklearn-color-unfitted-level-1) 1pt solid;\n",
       "  color: var(--sklearn-color-unfitted-level-1);\n",
       "}\n",
       "\n",
       ".sk-estimator-doc-link.fitted,\n",
       "a:link.sk-estimator-doc-link.fitted,\n",
       "a:visited.sk-estimator-doc-link.fitted {\n",
       "  /* fitted */\n",
       "  border: var(--sklearn-color-fitted-level-1) 1pt solid;\n",
       "  color: var(--sklearn-color-fitted-level-1);\n",
       "}\n",
       "\n",
       "/* On hover */\n",
       "div.sk-estimator:hover .sk-estimator-doc-link:hover,\n",
       ".sk-estimator-doc-link:hover,\n",
       "div.sk-label-container:hover .sk-estimator-doc-link:hover,\n",
       ".sk-estimator-doc-link:hover {\n",
       "  /* unfitted */\n",
       "  background-color: var(--sklearn-color-unfitted-level-3);\n",
       "  color: var(--sklearn-color-background);\n",
       "  text-decoration: none;\n",
       "}\n",
       "\n",
       "div.sk-estimator.fitted:hover .sk-estimator-doc-link.fitted:hover,\n",
       ".sk-estimator-doc-link.fitted:hover,\n",
       "div.sk-label-container:hover .sk-estimator-doc-link.fitted:hover,\n",
       ".sk-estimator-doc-link.fitted:hover {\n",
       "  /* fitted */\n",
       "  background-color: var(--sklearn-color-fitted-level-3);\n",
       "  color: var(--sklearn-color-background);\n",
       "  text-decoration: none;\n",
       "}\n",
       "\n",
       "/* Span, style for the box shown on hovering the info icon */\n",
       ".sk-estimator-doc-link span {\n",
       "  display: none;\n",
       "  z-index: 9999;\n",
       "  position: relative;\n",
       "  font-weight: normal;\n",
       "  right: .2ex;\n",
       "  padding: .5ex;\n",
       "  margin: .5ex;\n",
       "  width: min-content;\n",
       "  min-width: 20ex;\n",
       "  max-width: 50ex;\n",
       "  color: var(--sklearn-color-text);\n",
       "  box-shadow: 2pt 2pt 4pt #999;\n",
       "  /* unfitted */\n",
       "  background: var(--sklearn-color-unfitted-level-0);\n",
       "  border: .5pt solid var(--sklearn-color-unfitted-level-3);\n",
       "}\n",
       "\n",
       ".sk-estimator-doc-link.fitted span {\n",
       "  /* fitted */\n",
       "  background: var(--sklearn-color-fitted-level-0);\n",
       "  border: var(--sklearn-color-fitted-level-3);\n",
       "}\n",
       "\n",
       ".sk-estimator-doc-link:hover span {\n",
       "  display: block;\n",
       "}\n",
       "\n",
       "/* \"?\"-specific style due to the `<a>` HTML tag */\n",
       "\n",
       "#sk-container-id-14 a.estimator_doc_link {\n",
       "  float: right;\n",
       "  font-size: 1rem;\n",
       "  line-height: 1em;\n",
       "  font-family: monospace;\n",
       "  background-color: var(--sklearn-color-background);\n",
       "  border-radius: 1rem;\n",
       "  height: 1rem;\n",
       "  width: 1rem;\n",
       "  text-decoration: none;\n",
       "  /* unfitted */\n",
       "  color: var(--sklearn-color-unfitted-level-1);\n",
       "  border: var(--sklearn-color-unfitted-level-1) 1pt solid;\n",
       "}\n",
       "\n",
       "#sk-container-id-14 a.estimator_doc_link.fitted {\n",
       "  /* fitted */\n",
       "  border: var(--sklearn-color-fitted-level-1) 1pt solid;\n",
       "  color: var(--sklearn-color-fitted-level-1);\n",
       "}\n",
       "\n",
       "/* On hover */\n",
       "#sk-container-id-14 a.estimator_doc_link:hover {\n",
       "  /* unfitted */\n",
       "  background-color: var(--sklearn-color-unfitted-level-3);\n",
       "  color: var(--sklearn-color-background);\n",
       "  text-decoration: none;\n",
       "}\n",
       "\n",
       "#sk-container-id-14 a.estimator_doc_link.fitted:hover {\n",
       "  /* fitted */\n",
       "  background-color: var(--sklearn-color-fitted-level-3);\n",
       "}\n",
       "</style><div id=\"sk-container-id-14\" class=\"sk-top-container\"><div class=\"sk-text-repr-fallback\"><pre>Pipeline(steps=[(&#x27;preprocessor&#x27;,\n",
       "                 ColumnTransformer(transformers=[(&#x27;num_scale_and_impute_mean&#x27;,\n",
       "                                                  Pipeline(steps=[(&#x27;simple_imputer&#x27;,\n",
       "                                                                   SimpleImputer())]),\n",
       "                                                  [&#x27;TotalBsmtSF&#x27;,\n",
       "                                                   &#x27;BedroomAbvGr&#x27;, &#x27;Fireplaces&#x27;,\n",
       "                                                   &#x27;PoolArea&#x27;, &#x27;GarageCars&#x27;,\n",
       "                                                   &#x27;MSSubClass&#x27;, &#x27;YearBuilt&#x27;,\n",
       "                                                   &#x27;YearRemodAdd&#x27;, &#x27;MasVnrArea&#x27;,\n",
       "                                                   &#x27;BsmtFinSF1&#x27;, &#x27;BsmtFinSF2&#x27;,\n",
       "                                                   &#x27;1stFlrSF&#x27;, &#x27;2ndFlrSF&#x27;,\n",
       "                                                   &#x27;LowQualFinSF&#x27;, &#x27;GrLivArea&#x27;,\n",
       "                                                   &#x27;HalfBath...\n",
       "       &#x27;BsmtQual&#x27;, &#x27;BsmtCond&#x27;, &#x27;BsmtExposure&#x27;, &#x27;BsmtFinType1&#x27;, &#x27;BsmtFinType2&#x27;,\n",
       "       &#x27;Heating&#x27;, &#x27;HeatingQC&#x27;, &#x27;CentralAir&#x27;, &#x27;Electrical&#x27;, &#x27;KitchenQual&#x27;,\n",
       "       &#x27;FireplaceQu&#x27;, &#x27;GarageType&#x27;, &#x27;GarageQual&#x27;, &#x27;GarageCond&#x27;, &#x27;PavedDrive&#x27;,\n",
       "       &#x27;PoolQC&#x27;, &#x27;Fence&#x27;, &#x27;SaleType&#x27;, &#x27;SaleCondition&#x27;],\n",
       "      dtype=&#x27;object&#x27;))])),\n",
       "                (&#x27;standard_scaler&#x27;, StandardScaler()),\n",
       "                (&#x27;feature_selection&#x27;,\n",
       "                 SelectFromModel(estimator=DecisionTreeRegressor())),\n",
       "                (&#x27;regressor&#x27;, RandomForestRegressor())])</pre><b>In a Jupyter environment, please rerun this cell to show the HTML representation or trust the notebook. <br />On GitHub, the HTML representation is unable to render, please try loading this page with nbviewer.org.</b></div><div class=\"sk-container\" hidden><div class=\"sk-item sk-dashed-wrapped\"><div class=\"sk-label-container\"><div class=\"sk-label fitted sk-toggleable\"><input class=\"sk-toggleable__control sk-hidden--visually\" id=\"sk-estimator-id-144\" type=\"checkbox\" ><label for=\"sk-estimator-id-144\" class=\"sk-toggleable__label fitted sk-toggleable__label-arrow fitted\">&nbsp;&nbsp;Pipeline<a class=\"sk-estimator-doc-link fitted\" rel=\"noreferrer\" target=\"_blank\" href=\"https://scikit-learn.org/1.4/modules/generated/sklearn.pipeline.Pipeline.html\">?<span>Documentation for Pipeline</span></a><span class=\"sk-estimator-doc-link fitted\">i<span>Fitted</span></span></label><div class=\"sk-toggleable__content fitted\"><pre>Pipeline(steps=[(&#x27;preprocessor&#x27;,\n",
       "                 ColumnTransformer(transformers=[(&#x27;num_scale_and_impute_mean&#x27;,\n",
       "                                                  Pipeline(steps=[(&#x27;simple_imputer&#x27;,\n",
       "                                                                   SimpleImputer())]),\n",
       "                                                  [&#x27;TotalBsmtSF&#x27;,\n",
       "                                                   &#x27;BedroomAbvGr&#x27;, &#x27;Fireplaces&#x27;,\n",
       "                                                   &#x27;PoolArea&#x27;, &#x27;GarageCars&#x27;,\n",
       "                                                   &#x27;MSSubClass&#x27;, &#x27;YearBuilt&#x27;,\n",
       "                                                   &#x27;YearRemodAdd&#x27;, &#x27;MasVnrArea&#x27;,\n",
       "                                                   &#x27;BsmtFinSF1&#x27;, &#x27;BsmtFinSF2&#x27;,\n",
       "                                                   &#x27;1stFlrSF&#x27;, &#x27;2ndFlrSF&#x27;,\n",
       "                                                   &#x27;LowQualFinSF&#x27;, &#x27;GrLivArea&#x27;,\n",
       "                                                   &#x27;HalfBath...\n",
       "       &#x27;BsmtQual&#x27;, &#x27;BsmtCond&#x27;, &#x27;BsmtExposure&#x27;, &#x27;BsmtFinType1&#x27;, &#x27;BsmtFinType2&#x27;,\n",
       "       &#x27;Heating&#x27;, &#x27;HeatingQC&#x27;, &#x27;CentralAir&#x27;, &#x27;Electrical&#x27;, &#x27;KitchenQual&#x27;,\n",
       "       &#x27;FireplaceQu&#x27;, &#x27;GarageType&#x27;, &#x27;GarageQual&#x27;, &#x27;GarageCond&#x27;, &#x27;PavedDrive&#x27;,\n",
       "       &#x27;PoolQC&#x27;, &#x27;Fence&#x27;, &#x27;SaleType&#x27;, &#x27;SaleCondition&#x27;],\n",
       "      dtype=&#x27;object&#x27;))])),\n",
       "                (&#x27;standard_scaler&#x27;, StandardScaler()),\n",
       "                (&#x27;feature_selection&#x27;,\n",
       "                 SelectFromModel(estimator=DecisionTreeRegressor())),\n",
       "                (&#x27;regressor&#x27;, RandomForestRegressor())])</pre></div> </div></div><div class=\"sk-serial\"><div class=\"sk-item sk-dashed-wrapped\"><div class=\"sk-label-container\"><div class=\"sk-label fitted sk-toggleable\"><input class=\"sk-toggleable__control sk-hidden--visually\" id=\"sk-estimator-id-145\" type=\"checkbox\" ><label for=\"sk-estimator-id-145\" class=\"sk-toggleable__label fitted sk-toggleable__label-arrow fitted\">&nbsp;preprocessor: ColumnTransformer<a class=\"sk-estimator-doc-link fitted\" rel=\"noreferrer\" target=\"_blank\" href=\"https://scikit-learn.org/1.4/modules/generated/sklearn.compose.ColumnTransformer.html\">?<span>Documentation for preprocessor: ColumnTransformer</span></a></label><div class=\"sk-toggleable__content fitted\"><pre>ColumnTransformer(transformers=[(&#x27;num_scale_and_impute_mean&#x27;,\n",
       "                                 Pipeline(steps=[(&#x27;simple_imputer&#x27;,\n",
       "                                                  SimpleImputer())]),\n",
       "                                 [&#x27;TotalBsmtSF&#x27;, &#x27;BedroomAbvGr&#x27;, &#x27;Fireplaces&#x27;,\n",
       "                                  &#x27;PoolArea&#x27;, &#x27;GarageCars&#x27;, &#x27;MSSubClass&#x27;,\n",
       "                                  &#x27;YearBuilt&#x27;, &#x27;YearRemodAdd&#x27;, &#x27;MasVnrArea&#x27;,\n",
       "                                  &#x27;BsmtFinSF1&#x27;, &#x27;BsmtFinSF2&#x27;, &#x27;1stFlrSF&#x27;,\n",
       "                                  &#x27;2ndFlrSF&#x27;, &#x27;LowQualFinSF&#x27;, &#x27;GrLivArea&#x27;,\n",
       "                                  &#x27;HalfBath&#x27;, &#x27;GarageYrBlt&#x27;, &#x27;EnclosedPorch&#x27;,...\n",
       "       &#x27;LotConfig&#x27;, &#x27;LandSlope&#x27;, &#x27;Condition1&#x27;, &#x27;Condition2&#x27;, &#x27;BldgType&#x27;,\n",
       "       &#x27;RoofStyle&#x27;, &#x27;RoofMatl&#x27;, &#x27;ExterQual&#x27;, &#x27;ExterCond&#x27;, &#x27;Foundation&#x27;,\n",
       "       &#x27;BsmtQual&#x27;, &#x27;BsmtCond&#x27;, &#x27;BsmtExposure&#x27;, &#x27;BsmtFinType1&#x27;, &#x27;BsmtFinType2&#x27;,\n",
       "       &#x27;Heating&#x27;, &#x27;HeatingQC&#x27;, &#x27;CentralAir&#x27;, &#x27;Electrical&#x27;, &#x27;KitchenQual&#x27;,\n",
       "       &#x27;FireplaceQu&#x27;, &#x27;GarageType&#x27;, &#x27;GarageQual&#x27;, &#x27;GarageCond&#x27;, &#x27;PavedDrive&#x27;,\n",
       "       &#x27;PoolQC&#x27;, &#x27;Fence&#x27;, &#x27;SaleType&#x27;, &#x27;SaleCondition&#x27;],\n",
       "      dtype=&#x27;object&#x27;))])</pre></div> </div></div><div class=\"sk-parallel\"><div class=\"sk-parallel-item\"><div class=\"sk-item\"><div class=\"sk-label-container\"><div class=\"sk-label fitted sk-toggleable\"><input class=\"sk-toggleable__control sk-hidden--visually\" id=\"sk-estimator-id-146\" type=\"checkbox\" ><label for=\"sk-estimator-id-146\" class=\"sk-toggleable__label fitted sk-toggleable__label-arrow fitted\">num_scale_and_impute_mean</label><div class=\"sk-toggleable__content fitted\"><pre>[&#x27;TotalBsmtSF&#x27;, &#x27;BedroomAbvGr&#x27;, &#x27;Fireplaces&#x27;, &#x27;PoolArea&#x27;, &#x27;GarageCars&#x27;, &#x27;MSSubClass&#x27;, &#x27;YearBuilt&#x27;, &#x27;YearRemodAdd&#x27;, &#x27;MasVnrArea&#x27;, &#x27;BsmtFinSF1&#x27;, &#x27;BsmtFinSF2&#x27;, &#x27;1stFlrSF&#x27;, &#x27;2ndFlrSF&#x27;, &#x27;LowQualFinSF&#x27;, &#x27;GrLivArea&#x27;, &#x27;HalfBath&#x27;, &#x27;GarageYrBlt&#x27;, &#x27;EnclosedPorch&#x27;, &#x27;MoSold&#x27;]</pre></div> </div></div><div class=\"sk-serial\"><div class=\"sk-item\"><div class=\"sk-serial\"><div class=\"sk-item\"><div class=\"sk-estimator fitted sk-toggleable\"><input class=\"sk-toggleable__control sk-hidden--visually\" id=\"sk-estimator-id-147\" type=\"checkbox\" ><label for=\"sk-estimator-id-147\" class=\"sk-toggleable__label fitted sk-toggleable__label-arrow fitted\">&nbsp;SimpleImputer<a class=\"sk-estimator-doc-link fitted\" rel=\"noreferrer\" target=\"_blank\" href=\"https://scikit-learn.org/1.4/modules/generated/sklearn.impute.SimpleImputer.html\">?<span>Documentation for SimpleImputer</span></a></label><div class=\"sk-toggleable__content fitted\"><pre>SimpleImputer()</pre></div> </div></div></div></div></div></div></div><div class=\"sk-parallel-item\"><div class=\"sk-item\"><div class=\"sk-label-container\"><div class=\"sk-label fitted sk-toggleable\"><input class=\"sk-toggleable__control sk-hidden--visually\" id=\"sk-estimator-id-148\" type=\"checkbox\" ><label for=\"sk-estimator-id-148\" class=\"sk-toggleable__label fitted sk-toggleable__label-arrow fitted\">num_scale_and_impute_constant</label><div class=\"sk-toggleable__content fitted\"><pre>[&#x27;LotArea&#x27;, &#x27;LotFrontage&#x27;, &#x27;WoodDeckSF&#x27;, &#x27;ScreenPorch&#x27;, &#x27;OverallQual&#x27;, &#x27;OverallCond&#x27;, &#x27;BsmtUnfSF&#x27;, &#x27;BsmtFullBath&#x27;, &#x27;BsmtHalfBath&#x27;, &#x27;FullBath&#x27;, &#x27;KitchenAbvGr&#x27;, &#x27;TotRmsAbvGrd&#x27;, &#x27;GarageArea&#x27;, &#x27;OpenPorchSF&#x27;, &#x27;3SsnPorch&#x27;, &#x27;MiscVal&#x27;, &#x27;YrSold&#x27;]</pre></div> </div></div><div class=\"sk-serial\"><div class=\"sk-item\"><div class=\"sk-serial\"><div class=\"sk-item\"><div class=\"sk-estimator fitted sk-toggleable\"><input class=\"sk-toggleable__control sk-hidden--visually\" id=\"sk-estimator-id-149\" type=\"checkbox\" ><label for=\"sk-estimator-id-149\" class=\"sk-toggleable__label fitted sk-toggleable__label-arrow fitted\">&nbsp;SimpleImputer<a class=\"sk-estimator-doc-link fitted\" rel=\"noreferrer\" target=\"_blank\" href=\"https://scikit-learn.org/1.4/modules/generated/sklearn.impute.SimpleImputer.html\">?<span>Documentation for SimpleImputer</span></a></label><div class=\"sk-toggleable__content fitted\"><pre>SimpleImputer(fill_value=0, strategy=&#x27;constant&#x27;)</pre></div> </div></div></div></div></div></div></div><div class=\"sk-parallel-item\"><div class=\"sk-item\"><div class=\"sk-label-container\"><div class=\"sk-label fitted sk-toggleable\"><input class=\"sk-toggleable__control sk-hidden--visually\" id=\"sk-estimator-id-150\" type=\"checkbox\" ><label for=\"sk-estimator-id-150\" class=\"sk-toggleable__label fitted sk-toggleable__label-arrow fitted\">cat_order</label><div class=\"sk-toggleable__content fitted\"><pre>Index([&#x27;MSZoning&#x27;, &#x27;Street&#x27;, &#x27;Alley&#x27;, &#x27;LotShape&#x27;, &#x27;LandContour&#x27;, &#x27;Utilities&#x27;,\n",
       "       &#x27;LotConfig&#x27;, &#x27;LandSlope&#x27;, &#x27;Condition1&#x27;, &#x27;Condition2&#x27;, &#x27;BldgType&#x27;,\n",
       "       &#x27;RoofStyle&#x27;, &#x27;RoofMatl&#x27;, &#x27;ExterQual&#x27;, &#x27;ExterCond&#x27;, &#x27;Foundation&#x27;,\n",
       "       &#x27;BsmtQual&#x27;, &#x27;BsmtCond&#x27;, &#x27;BsmtExposure&#x27;, &#x27;BsmtFinType1&#x27;, &#x27;BsmtFinType2&#x27;,\n",
       "       &#x27;Heating&#x27;, &#x27;HeatingQC&#x27;, &#x27;CentralAir&#x27;, &#x27;Electrical&#x27;, &#x27;KitchenQual&#x27;,\n",
       "       &#x27;FireplaceQu&#x27;, &#x27;GarageType&#x27;, &#x27;GarageQual&#x27;, &#x27;GarageCond&#x27;, &#x27;PavedDrive&#x27;,\n",
       "       &#x27;PoolQC&#x27;, &#x27;Fence&#x27;, &#x27;SaleType&#x27;, &#x27;SaleCondition&#x27;],\n",
       "      dtype=&#x27;object&#x27;)</pre></div> </div></div><div class=\"sk-serial\"><div class=\"sk-item\"><div class=\"sk-serial\"><div class=\"sk-item\"><div class=\"sk-estimator fitted sk-toggleable\"><input class=\"sk-toggleable__control sk-hidden--visually\" id=\"sk-estimator-id-151\" type=\"checkbox\" ><label for=\"sk-estimator-id-151\" class=\"sk-toggleable__label fitted sk-toggleable__label-arrow fitted\">&nbsp;SimpleImputer<a class=\"sk-estimator-doc-link fitted\" rel=\"noreferrer\" target=\"_blank\" href=\"https://scikit-learn.org/1.4/modules/generated/sklearn.impute.SimpleImputer.html\">?<span>Documentation for SimpleImputer</span></a></label><div class=\"sk-toggleable__content fitted\"><pre>SimpleImputer(fill_value=&#x27;NA&#x27;, strategy=&#x27;constant&#x27;)</pre></div> </div></div><div class=\"sk-item\"><div class=\"sk-estimator fitted sk-toggleable\"><input class=\"sk-toggleable__control sk-hidden--visually\" id=\"sk-estimator-id-152\" type=\"checkbox\" ><label for=\"sk-estimator-id-152\" class=\"sk-toggleable__label fitted sk-toggleable__label-arrow fitted\">&nbsp;OrdinalEncoder<a class=\"sk-estimator-doc-link fitted\" rel=\"noreferrer\" target=\"_blank\" href=\"https://scikit-learn.org/1.4/modules/generated/sklearn.preprocessing.OrdinalEncoder.html\">?<span>Documentation for OrdinalEncoder</span></a></label><div class=\"sk-toggleable__content fitted\"><pre>OrdinalEncoder(categories=[[&#x27;RP&#x27;, &#x27;RL&#x27;, &#x27;RM&#x27;, &#x27;RH&#x27;, &#x27;FV&#x27;, &#x27;C (all)&#x27;, &#x27;A&#x27;, &#x27;I&#x27;,\n",
       "                            &#x27;NA&#x27;],\n",
       "                           [&#x27;Pave&#x27;, &#x27;Grvl&#x27;], [&#x27;Pave&#x27;, &#x27;Grvl&#x27;, &#x27;NA&#x27;],\n",
       "                           [&#x27;Reg&#x27;, &#x27;IR1&#x27;, &#x27;IR2&#x27;, &#x27;IR3&#x27;],\n",
       "                           [&#x27;Lvl&#x27;, &#x27;Bnk&#x27;, &#x27;HLS&#x27;, &#x27;Low&#x27;],\n",
       "                           [&#x27;AllPub&#x27;, &#x27;NoSewr&#x27;, &#x27;NoSeWa&#x27;, &#x27;ELO&#x27;, &#x27;NA&#x27;],\n",
       "                           [&#x27;Inside&#x27;, &#x27;Corner&#x27;, &#x27;CulDSac&#x27;, &#x27;FR2&#x27;, &#x27;FR3&#x27;],\n",
       "                           [&#x27;Gtl&#x27;, &#x27;Mod&#x27;, &#x27;Sev&#x27;],\n",
       "                           [&#x27;PosA&#x27;, &#x27;PosN&#x27;, &#x27;Norm&#x27;, &#x27;Artery&#x27;, &#x27;Feedr&#x27;, &#x27;RRAn&#x27;,\n",
       "                            &#x27;RRAe&#x27;, &#x27;RRNn&#x27;, &#x27;RRNe&#x27;],\n",
       "                           [&#x27;PosA&#x27;, &#x27;PosN&#x27;,...\n",
       "                           [&#x27;GLQ&#x27;, &#x27;ALQ&#x27;, &#x27;BLQ&#x27;, &#x27;Rec&#x27;, &#x27;LwQ&#x27;, &#x27;Unf&#x27;, &#x27;NA&#x27;],\n",
       "                           [&#x27;GasW&#x27;, &#x27;OthW&#x27;, &#x27;GasA&#x27;, &#x27;Floor&#x27;, &#x27;Wall&#x27;, &#x27;Grav&#x27;],\n",
       "                           [&#x27;Ex&#x27;, &#x27;Gd&#x27;, &#x27;TA&#x27;, &#x27;Fa&#x27;, &#x27;Po&#x27;, &#x27;NA&#x27;], [&#x27;Y&#x27;, &#x27;N&#x27;],\n",
       "                           [&#x27;SBrkr&#x27;, &#x27;FuseA&#x27;, &#x27;FuseF&#x27;, &#x27;FuseP&#x27;, &#x27;Mix&#x27;, &#x27;NA&#x27;],\n",
       "                           [&#x27;Ex&#x27;, &#x27;Gd&#x27;, &#x27;TA&#x27;, &#x27;Fa&#x27;, &#x27;Po&#x27;, &#x27;NA&#x27;],\n",
       "                           [&#x27;Ex&#x27;, &#x27;Gd&#x27;, &#x27;TA&#x27;, &#x27;Fa&#x27;, &#x27;Po&#x27;, &#x27;NA&#x27;],\n",
       "                           [&#x27;2Types&#x27;, &#x27;Attchd&#x27;, &#x27;Basment&#x27;, &#x27;BuiltIn&#x27;, &#x27;CarPort&#x27;,\n",
       "                            &#x27;Detchd&#x27;, &#x27;NA&#x27;],\n",
       "                           [&#x27;Ex&#x27;, &#x27;Gd&#x27;, &#x27;TA&#x27;, &#x27;Fa&#x27;, &#x27;Po&#x27;, &#x27;NA&#x27;],\n",
       "                           [&#x27;Ex&#x27;, &#x27;Gd&#x27;, &#x27;TA&#x27;, &#x27;Fa&#x27;, &#x27;Po&#x27;, &#x27;NA&#x27;], ...])</pre></div> </div></div></div></div></div></div></div></div></div><div class=\"sk-item\"><div class=\"sk-estimator fitted sk-toggleable\"><input class=\"sk-toggleable__control sk-hidden--visually\" id=\"sk-estimator-id-153\" type=\"checkbox\" ><label for=\"sk-estimator-id-153\" class=\"sk-toggleable__label fitted sk-toggleable__label-arrow fitted\">&nbsp;StandardScaler<a class=\"sk-estimator-doc-link fitted\" rel=\"noreferrer\" target=\"_blank\" href=\"https://scikit-learn.org/1.4/modules/generated/sklearn.preprocessing.StandardScaler.html\">?<span>Documentation for StandardScaler</span></a></label><div class=\"sk-toggleable__content fitted\"><pre>StandardScaler()</pre></div> </div></div><div class=\"sk-item sk-dashed-wrapped\"><div class=\"sk-label-container\"><div class=\"sk-label fitted sk-toggleable\"><input class=\"sk-toggleable__control sk-hidden--visually\" id=\"sk-estimator-id-154\" type=\"checkbox\" ><label for=\"sk-estimator-id-154\" class=\"sk-toggleable__label fitted sk-toggleable__label-arrow fitted\">&nbsp;feature_selection: SelectFromModel<a class=\"sk-estimator-doc-link fitted\" rel=\"noreferrer\" target=\"_blank\" href=\"https://scikit-learn.org/1.4/modules/generated/sklearn.feature_selection.SelectFromModel.html\">?<span>Documentation for feature_selection: SelectFromModel</span></a></label><div class=\"sk-toggleable__content fitted\"><pre>SelectFromModel(estimator=DecisionTreeRegressor())</pre></div> </div></div><div class=\"sk-parallel\"><div class=\"sk-parallel-item\"><div class=\"sk-item\"><div class=\"sk-label-container\"><div class=\"sk-label fitted sk-toggleable\"><input class=\"sk-toggleable__control sk-hidden--visually\" id=\"sk-estimator-id-155\" type=\"checkbox\" ><label for=\"sk-estimator-id-155\" class=\"sk-toggleable__label fitted sk-toggleable__label-arrow fitted\">estimator: DecisionTreeRegressor</label><div class=\"sk-toggleable__content fitted\"><pre>DecisionTreeRegressor()</pre></div> </div></div><div class=\"sk-serial\"><div class=\"sk-item\"><div class=\"sk-estimator fitted sk-toggleable\"><input class=\"sk-toggleable__control sk-hidden--visually\" id=\"sk-estimator-id-156\" type=\"checkbox\" ><label for=\"sk-estimator-id-156\" class=\"sk-toggleable__label fitted sk-toggleable__label-arrow fitted\">&nbsp;DecisionTreeRegressor<a class=\"sk-estimator-doc-link fitted\" rel=\"noreferrer\" target=\"_blank\" href=\"https://scikit-learn.org/1.4/modules/generated/sklearn.tree.DecisionTreeRegressor.html\">?<span>Documentation for DecisionTreeRegressor</span></a></label><div class=\"sk-toggleable__content fitted\"><pre>DecisionTreeRegressor()</pre></div> </div></div></div></div></div></div></div><div class=\"sk-item\"><div class=\"sk-estimator fitted sk-toggleable\"><input class=\"sk-toggleable__control sk-hidden--visually\" id=\"sk-estimator-id-157\" type=\"checkbox\" ><label for=\"sk-estimator-id-157\" class=\"sk-toggleable__label fitted sk-toggleable__label-arrow fitted\">&nbsp;RandomForestRegressor<a class=\"sk-estimator-doc-link fitted\" rel=\"noreferrer\" target=\"_blank\" href=\"https://scikit-learn.org/1.4/modules/generated/sklearn.ensemble.RandomForestRegressor.html\">?<span>Documentation for RandomForestRegressor</span></a></label><div class=\"sk-toggleable__content fitted\"><pre>RandomForestRegressor()</pre></div> </div></div></div></div></div></div>"
      ],
      "text/plain": [
       "Pipeline(steps=[('preprocessor',\n",
       "                 ColumnTransformer(transformers=[('num_scale_and_impute_mean',\n",
       "                                                  Pipeline(steps=[('simple_imputer',\n",
       "                                                                   SimpleImputer())]),\n",
       "                                                  ['TotalBsmtSF',\n",
       "                                                   'BedroomAbvGr', 'Fireplaces',\n",
       "                                                   'PoolArea', 'GarageCars',\n",
       "                                                   'MSSubClass', 'YearBuilt',\n",
       "                                                   'YearRemodAdd', 'MasVnrArea',\n",
       "                                                   'BsmtFinSF1', 'BsmtFinSF2',\n",
       "                                                   '1stFlrSF', '2ndFlrSF',\n",
       "                                                   'LowQualFinSF', 'GrLivArea',\n",
       "                                                   'HalfBath...\n",
       "       'BsmtQual', 'BsmtCond', 'BsmtExposure', 'BsmtFinType1', 'BsmtFinType2',\n",
       "       'Heating', 'HeatingQC', 'CentralAir', 'Electrical', 'KitchenQual',\n",
       "       'FireplaceQu', 'GarageType', 'GarageQual', 'GarageCond', 'PavedDrive',\n",
       "       'PoolQC', 'Fence', 'SaleType', 'SaleCondition'],\n",
       "      dtype='object'))])),\n",
       "                ('standard_scaler', StandardScaler()),\n",
       "                ('feature_selection',\n",
       "                 SelectFromModel(estimator=DecisionTreeRegressor())),\n",
       "                ('regressor', RandomForestRegressor())])"
      ]
     },
     "metadata": {},
     "output_type": "display_data"
    }
   ],
   "source": [
    "pipe_numerical_mean = Pipeline([('simple_imputer', SimpleImputer(strategy='mean'))])\n",
    "pipe_numerical_constant = Pipeline([('simple_imputer', SimpleImputer(strategy='constant', fill_value=0))])\n",
    "pipe_categorical = Pipeline([('simple_imputer', SimpleImputer(strategy='constant', fill_value='NA'))])\n",
    "\n",
    "pipe_cat_ordenc = Pipeline([\n",
    "    ('simple_imputer', SimpleImputer(strategy='constant', fill_value='NA'))\n",
    "    , ('order_encoder', OrdinalEncoder(categories=[\n",
    "        mszoning_order, street_order, alley_order, lotshape_order, landcontour_order # batch #01\n",
    "        , utilities_order, lotconfig_order, landslope_order, condition1_order # batch #02\n",
    "        , condition2_order, bldgtype_order, roofstyle_order, roofmatl_order # batch #03\n",
    "        , exterqual_order, extercond_order # batch #04\n",
    "        , foundation_order, bsmtqual_order, bsmtcond_order, bsmtexposure_order, bsmtfintype1_order # batch #05\n",
    "        , bsmtfintype2_order, heating_order, heatingqc_order, centralair_order, electrical_order # batch #06\n",
    "        , kitchenqual_order, fireplacequ_order, garagetype_order # batch #07\n",
    "        , garagequal_order, garagecond_order, paveddrive_order, poolqc_order, fence_order # batch #08\n",
    "        , salestype_order, salecondition_order])) # batch #09\n",
    "])\n",
    "\n",
    "pipe_cat_onehot = Pipeline([\n",
    "    ('simple_imputer', SimpleImputer(strategy='constant', fill_value='NA'))\n",
    "    , ('onehot_encoder', OneHotEncoder(sparse_output=False, drop='first'))\n",
    "])\n",
    "\n",
    "feature_selector_from_model = [\n",
    "    ('features_decision_tree', DecisionTreeRegressor()),\n",
    "    ('features_random_forest', RandomForestRegressor()),\n",
    "    ('features_linear_regressor', LinearRegression()),\n",
    "    ('features_logistic_regressor', LogisticRegression()),\n",
    "    ('features_knn_regressor', KNeighborsRegressor())\n",
    "]\n",
    "\n",
    "regressors = [\n",
    "    ('catboost', CatBoostRegressor())\n",
    "    , ('decision_tree', DecisionTreeRegressor())\n",
    "    , ('extra_trees', ExtraTreesRegressor())\n",
    "    , ('gradient_boost', GradientBoostingRegressor())\n",
    "    , ('knn', KNeighborsRegressor())\n",
    "    , ('lgbmLGBM', LGBMRegressor())\n",
    "    , ('linear', LinearRegression())\n",
    "    , ('random_forest', RandomForestRegressor())\n",
    "    , ('ridge', Ridge())\n",
    "    , ('sgd', SGDRegressor())\n",
    "    , ('svc', SVR())\n",
    "    , ('xgboost', XGBRegressor())\n",
    "]\n",
    "\n",
    "transform_imputer = ColumnTransformer([\n",
    "    ('num_scale_and_impute_mean', pipe_numerical_mean, X_numerical_mean)\n",
    "    , ('num_scale_and_impute_constant', pipe_numerical_constant, X_numerical_c0)\n",
    "    , ('cat_order', pipe_cat_ordenc, X_cat_ordenc)\n",
    "    # , ('cat_onehot', pipe_cat_onehot, X_cat_onehot)\n",
    "])\n",
    "\n",
    "pipeline = Pipeline([\n",
    "    ('preprocessor', transform_imputer)\n",
    "    , ('standard_scaler', StandardScaler())\n",
    "    , ('feature_selection', SelectFromModel(estimator=DecisionTreeRegressor(), threshold=None))\n",
    "    , ('regressor', RandomForestRegressor())\n",
    "]) # feature_selector and regressor as a placeholders\n",
    "pipeline.fit(X_train, y_train)\n",
    "# pipeline.predict(X_train)\n",
    "print(pipeline.score(X_train, y_train))\n",
    "pipeline"
   ]
  },
  {
   "cell_type": "markdown",
   "metadata": {},
   "source": [
    "### 4 Parameter search"
   ]
  },
  {
   "cell_type": "markdown",
   "metadata": {},
   "source": [
    "#### 4.1 Grid"
   ]
  },
  {
   "cell_type": "code",
   "execution_count": null,
   "metadata": {},
   "outputs": [
    {
     "data": {
      "text/plain": [
       "'XGBRegressor'"
      ]
     },
     "metadata": {},
     "output_type": "display_data"
    }
   ],
   "source": [
    "str(type(model)).split('.')[-1].split(\"'\")[0]"
   ]
  },
  {
   "cell_type": "code",
   "execution_count": null,
   "metadata": {},
   "outputs": [
    {
     "data": {
      "text/plain": [
       "0.8125852751118998"
      ]
     },
     "metadata": {},
     "output_type": "display_data"
    }
   ],
   "source": [
    "param_search.best_score_"
   ]
  },
  {
   "cell_type": "code",
   "execution_count": null,
   "metadata": {},
   "outputs": [
    {
     "ename": "AttributeError",
     "evalue": "'DataFrame' object has no attribute 'concat'",
     "output_type": "error",
     "traceback": [
      "\u001b[1;31m---------------------------------------------------------------------------\u001b[0m\n",
      "\u001b[1;31mAttributeError\u001b[0m                            Traceback (most recent call last)\n",
      "\u001b[1;32m~\\AppData\\Local\\Temp\\ipykernel_12432\\3271310536.py\u001b[0m in \u001b[0;36m?\u001b[1;34m()\u001b[0m\n",
      "\u001b[0;32m      3\u001b[0m     \u001b[1;31m#     'decision_tree': baseline_tree_r2\u001b[0m\u001b[1;33m\u001b[0m\u001b[1;33m\u001b[0m\u001b[0m\n",
      "\u001b[0;32m      4\u001b[0m     \u001b[1;31m#     , 'knn': baseline_knn_r2,\u001b[0m\u001b[1;33m\u001b[0m\u001b[1;33m\u001b[0m\u001b[0m\n",
      "\u001b[0;32m      5\u001b[0m     \u001b[1;31m#                          'rf': baseline_rf_r2},\u001b[0m\u001b[1;33m\u001b[0m\u001b[1;33m\u001b[0m\u001b[0m\n",
      "\u001b[0;32m      6\u001b[0m     \u001b[1;31m#                         index=['baseline'])\u001b[0m\u001b[1;33m\u001b[0m\u001b[1;33m\u001b[0m\u001b[0m\n",
      "\u001b[1;32m----> 7\u001b[1;33m \u001b[0mresults\u001b[0m\u001b[1;33m.\u001b[0m\u001b[0mconcat\u001b[0m\u001b[1;33m(\u001b[0m\u001b[1;33m{\u001b[0m\u001b[1;34m'model'\u001b[0m\u001b[1;33m:\u001b[0m \u001b[1;33m[\u001b[0m\u001b[0mstr\u001b[0m\u001b[1;33m(\u001b[0m\u001b[0mtype\u001b[0m\u001b[1;33m(\u001b[0m\u001b[0mmodel\u001b[0m\u001b[1;33m)\u001b[0m\u001b[1;33m)\u001b[0m\u001b[1;33m.\u001b[0m\u001b[0msplit\u001b[0m\u001b[1;33m(\u001b[0m\u001b[1;34m'.'\u001b[0m\u001b[1;33m)\u001b[0m\u001b[1;33m[\u001b[0m\u001b[1;33m-\u001b[0m\u001b[1;36m1\u001b[0m\u001b[1;33m]\u001b[0m\u001b[1;33m.\u001b[0m\u001b[0msplit\u001b[0m\u001b[1;33m(\u001b[0m\u001b[1;34m\"'\"\u001b[0m\u001b[1;33m)\u001b[0m\u001b[1;33m[\u001b[0m\u001b[1;36m0\u001b[0m\u001b[1;33m]\u001b[0m\u001b[1;33m]\u001b[0m\u001b[1;33m,\u001b[0m \u001b[0mr2_score\u001b[0m\u001b[1;33m:\u001b[0m \u001b[0mparam_search\u001b[0m\u001b[1;33m.\u001b[0m\u001b[0mbest_score_\u001b[0m\u001b[1;33m}\u001b[0m\u001b[1;33m)\u001b[0m\u001b[1;33m\u001b[0m\u001b[1;33m\u001b[0m\u001b[0m\n",
      "\u001b[0m\u001b[0;32m      8\u001b[0m \u001b[0mresults\u001b[0m\u001b[1;33m\u001b[0m\u001b[1;33m\u001b[0m\u001b[0m\n",
      "\n",
      "\u001b[1;32m~\\AppData\\Roaming\\Python\\Python312\\site-packages\\pandas\\core\\generic.py\u001b[0m in \u001b[0;36m?\u001b[1;34m(self, name)\u001b[0m\n",
      "\u001b[0;32m   6295\u001b[0m             \u001b[1;32mand\u001b[0m \u001b[0mname\u001b[0m \u001b[1;32mnot\u001b[0m \u001b[1;32min\u001b[0m \u001b[0mself\u001b[0m\u001b[1;33m.\u001b[0m\u001b[0m_accessors\u001b[0m\u001b[1;33m\u001b[0m\u001b[1;33m\u001b[0m\u001b[0m\n",
      "\u001b[0;32m   6296\u001b[0m             \u001b[1;32mand\u001b[0m \u001b[0mself\u001b[0m\u001b[1;33m.\u001b[0m\u001b[0m_info_axis\u001b[0m\u001b[1;33m.\u001b[0m\u001b[0m_can_hold_identifiers_and_holds_name\u001b[0m\u001b[1;33m(\u001b[0m\u001b[0mname\u001b[0m\u001b[1;33m)\u001b[0m\u001b[1;33m\u001b[0m\u001b[1;33m\u001b[0m\u001b[0m\n",
      "\u001b[0;32m   6297\u001b[0m         \u001b[1;33m)\u001b[0m\u001b[1;33m:\u001b[0m\u001b[1;33m\u001b[0m\u001b[1;33m\u001b[0m\u001b[0m\n",
      "\u001b[0;32m   6298\u001b[0m             \u001b[1;32mreturn\u001b[0m \u001b[0mself\u001b[0m\u001b[1;33m[\u001b[0m\u001b[0mname\u001b[0m\u001b[1;33m]\u001b[0m\u001b[1;33m\u001b[0m\u001b[1;33m\u001b[0m\u001b[0m\n",
      "\u001b[1;32m-> 6299\u001b[1;33m         \u001b[1;32mreturn\u001b[0m \u001b[0mobject\u001b[0m\u001b[1;33m.\u001b[0m\u001b[0m__getattribute__\u001b[0m\u001b[1;33m(\u001b[0m\u001b[0mself\u001b[0m\u001b[1;33m,\u001b[0m \u001b[0mname\u001b[0m\u001b[1;33m)\u001b[0m\u001b[1;33m\u001b[0m\u001b[1;33m\u001b[0m\u001b[0m\n",
      "\u001b[0m\n",
      "\u001b[1;31mAttributeError\u001b[0m: 'DataFrame' object has no attribute 'concat'"
     ]
    }
   ],
   "source": [
    "results = pd.DataFrame(columns=['model', 'r2_score'])\n",
    "    # {\n",
    "    #     'decision_tree': baseline_tree_r2\n",
    "    #     , 'knn': baseline_knn_r2,\n",
    "    #                          'rf': baseline_rf_r2},\n",
    "    #                         index=['baseline'])\n",
    "results.concat({'model': [str(type(model)).split('.')[-1].split(\"'\")[0]], r2_score: param_search.best_score_})\n",
    "results"
   ]
  },
  {
   "cell_type": "code",
   "execution_count": null,
   "metadata": {},
   "outputs": [
    {
     "ename": "AttributeError",
     "evalue": "'list' object has no attribute 'loc'",
     "output_type": "error",
     "traceback": [
      "\u001b[1;31m---------------------------------------------------------------------------\u001b[0m\n",
      "\u001b[1;31mAttributeError\u001b[0m                            Traceback (most recent call last)\n",
      "Cell \u001b[1;32mIn[157], line 1\u001b[0m\n",
      "\u001b[1;32m----> 1\u001b[0m \u001b[43mresults\u001b[49m\u001b[38;5;241;43m.\u001b[39;49m\u001b[43mloc\u001b[49m[param_search\u001b[38;5;241m.\u001b[39mbest_score_, \u001b[38;5;124m'\u001b[39m\u001b[38;5;124mmodel\u001b[39m\u001b[38;5;124m'\u001b[39m]\n",
      "\u001b[0;32m      3\u001b[0m results\n",
      "\n",
      "\u001b[1;31mAttributeError\u001b[0m: 'list' object has no attribute 'loc'"
     ]
    }
   ],
   "source": [
    "results.loc[param_search.best_score_, 'model']\n",
    "\n",
    "results"
   ]
  },
  {
   "cell_type": "code",
   "execution_count": null,
   "metadata": {},
   "outputs": [
    {
     "data": {
      "text/plain": [
       "[{'regressor__n_estimators': [100, 300, 500],\n",
       "  'regressor__max_depth': [None, 10, 20, 30]}]"
      ]
     },
     "metadata": {},
     "output_type": "display_data"
    }
   ],
   "source": [
    "param_grid = []\n",
    "\n",
    "# Add model-specific hyperparameters\n",
    "for name, model in regressors:\n",
    "    # if isinstance(model, CatBoostRegressor): # 60 fits, 0:01:45 h:mm:ss r2 0.86\n",
    "    #     param_grid.append({\n",
    "    #         'feature_selection__estimator': [CatBoostRegressor()]\n",
    "    #         , 'regressor': [model]\n",
    "    #         , 'regressor__learning_rate': [0.01, 0.05, 0.1, 0.2]\n",
    "    #         , 'regressor__iterations': [100, 300, 500]\n",
    "    #     })\n",
    "    # if isinstance(model, DecisionTreeRegressor): # 120 fits, 0:00:10 r2 0.76\n",
    "    #     param_grid.append({\n",
    "    #         'feature_selection__estimator': [DecisionTreeRegressor()]\n",
    "    #         , 'regressor': [model]\n",
    "    #         , 'regressor__criterion': ['squared_error', 'friedman_mse']\n",
    "    #         , 'regressor__max_depth': [None, 10, 20]\n",
    "    #         , 'regressor__min_samples_split': [2, 5]\n",
    "    #         , 'regressor__min_samples_leaf': [1, 2]\n",
    "    #     })\n",
    "    if isinstance(model, ExtraTreesRegressor):\n",
    "        param_grid.append({\n",
    "            'regressor__n_estimators': [100, 300, 500]\n",
    "            , 'regressor__max_depth': [None, 10, 20, 30]\n",
    "            # , 'regressor__min_samples_split': [2, 5, 10]\n",
    "            # , 'regressor__min_samples_leaf': [1, 2, 4]\n",
    "            #, 'regressor__max_features': ['auto', 'sqrt', 'log2']\n",
    "        })\n",
    "    # elif isinstance(model, GradientBoostingRegressor):\n",
    "    #     param_grid.append({\n",
    "    #         'regressor': [model]\n",
    "    #         , 'regressor__n_estimators': [100, 200, 300]\n",
    "    #         , 'regressor__learning_rate': [0.1, 0.05]\n",
    "    #         , 'regressor__max_depth': [3, 5, 7]\n",
    "    #     })\n",
    "    # elif isinstance(model, KNeighborsRegressor):\n",
    "    #     param_grid.append({\n",
    "    #         'regressor': [model]\n",
    "    #         , 'regressor__n_neighbors': [3, 5, 7]\n",
    "    #         , 'regressor__weights': ['uniform', 'distance']\n",
    "    #     })\n",
    "    # elif isinstance(model, LGBMRegressor):\n",
    "    #     param_grid.append({\n",
    "    #         'regressor': [model]\n",
    "    #         , 'regressor__learning_rate': [0.01, 0.05, 0.1]\n",
    "    #         , 'regressor__n_estimators': [100, 300, 500]\n",
    "    #         , 'regressor__num_leaves': [20, 31, 50]\n",
    "    #         , 'regressor__max_depth': [3, 5, 7, -1]\n",
    "    #         , 'regressor__min_data_in_leaf': [20, 50, 100]\n",
    "    #         , 'regressor__lambda_l1': [0, 1, 5]\n",
    "    #         , 'regressor__lambda_l2': [0, 1, 5]\n",
    "    #         , 'regressor__feature_fraction': [0.6, 0.8, 1.0]\n",
    "    #         , 'regressor__bagging_fraction': [0.6, 0.8, 1.0]\n",
    "    #         , 'regressor__bagging_freq': [0, 5, 10]\n",
    "    #     })\n",
    "    # elif isinstance(model, LinearRegression):\n",
    "    #     param_grid.append({\n",
    "    #         'regressor': [model]\n",
    "    #         , 'regressor__fit_intercept': [True, False]\n",
    "    #     })\n",
    "    # elif isinstance(model, RandomForestRegressor):\n",
    "    #     param_grid.append({\n",
    "    #         'regressor': [model]\n",
    "    #         , 'regressor__n_estimators': [100, 170] # range(100, 201, 10)\n",
    "    #         , 'regressor__criterion': ['squared_error', 'poisson']\n",
    "    #         , 'regressor__max_depth': [40, 60] # range(40, 66, 5)\n",
    "    #         , 'regressor__min_samples_split': [2, 5] # range(1, 11, 1)\n",
    "    #         , 'regressor__min_samples_leaf': [1, 2] #range(1, 5, 1)\n",
    "    #         , 'regressor__min_weight_fraction_leaf': [0] #, 0.1, 1, 10]\n",
    "    #         # , 'regressor__class_weight': ['balanced', None]\n",
    "    #         # , 'regressor__ccp_alpha': [0, 0.000001, 0.00001]\n",
    "    #         # , 'regressor__max_features': ['sqrt', 'log2']\n",
    "    #     })\n",
    "    # elif isinstance(model, Ridge):\n",
    "    #     param_grid.append({\n",
    "    #         'regressor': [model]\n",
    "    #         , 'regressor__alpha': [0.1, 1.0, 10.0]\n",
    "    #     })\n",
    "    # elif isinstance(model, SGDRegressor):\n",
    "    #     param_grid.append({\n",
    "    #         'regressor__alpha': [0, 1e-5]\n",
    "    #         , 'regressor__penalty': ['l2', 'l1', 'elasticnet']\n",
    "    #         , 'regressor__max_iter': [1000, 3000, 5000, 10000]\n",
    "    #         , 'regressor__loss': ['squared_error']\n",
    "    #     })\n",
    "    # elif isinstance(model, SVR):\n",
    "    #     param_grid.append({\n",
    "    #         'regressor__alpha': [0, 1e-5]\n",
    "    #         , 'regressor__kernel': ['linear']\n",
    "    #         , 'regressor__C': [0.1, 1, 10, 100]\n",
    "    #         , 'regressor__epsilon': [0.01, 0.1, 0.5]\n",
    "    #     })\n",
    "    # elif isinstance(model, SVR):\n",
    "    #     param_grid.append({\n",
    "    #         'regressor__alpha': [0, 1e-5]\n",
    "    #         , 'regressor__kernel': ['rbf']\n",
    "    #         , 'regressor__C': [0.1, 1, 10, 100]\n",
    "    #         , 'regressor__epsilon': [0.01, 0.1, 0.5]\n",
    "    #         , 'regressor__gamma': ['scale', 'auto', 0.01, 0.1]\n",
    "    #     })\n",
    "    # elif isinstance(model, SVR):\n",
    "    #     param_grid.append({\n",
    "    #         'regressor__alpha': [0, 1e-5]\n",
    "    #         , 'regressor__kernel': ['poly']\n",
    "    #         , 'regressor__C': [0.1, 1, 10, 100]\n",
    "    #         , 'regressor__epsilon': [0.01, 0.1, 0.5]\n",
    "    #         , 'regressor__gamma': ['scale', 'auto', 0.01]\n",
    "    #         , 'regressor__degree': [2, 3, 4]\n",
    "    #         , 'regressor__coef0': [0.0, 0.1, 0.5]\n",
    "    #     })\n",
    "    # elif isinstance(model, XGBRegressor):\n",
    "    #     param_grid.append({\n",
    "    #         'regressor__n_estimators': [100, 200, 300]\n",
    "    #         , 'regressor__max_depth': [3, 5, 7]\n",
    "    #         , 'regressor__learning_rate': [0.01, 0.05, 0.1]\n",
    "    #         , 'regressor__subsample': [0.7, 0.8, 1]\n",
    "    #         , 'regressor__colsample_bytree': [0.7, 0.8, 1]\n",
    "    #         , 'regressor__gamma': [0, 0.1, 0.5]\n",
    "    #         , 'regressor__min_child_weight': [1, 3, 5]\n",
    "    #     })\n",
    "\n",
    "param_grid"
   ]
  },
  {
   "cell_type": "markdown",
   "metadata": {},
   "source": [
    "#### 4.2 Search"
   ]
  },
  {
   "cell_type": "code",
   "execution_count": null,
   "metadata": {},
   "outputs": [
    {
     "name": "stdout",
     "output_type": "stream",
     "text": [
      "Fitting 5 folds for each of 12 candidates, totalling 60 fits\n",
      "Best model: Pipeline(steps=[('preprocessor',\n",
      "                 ColumnTransformer(transformers=[('num_scale_and_impute_mean',\n",
      "                                                  Pipeline(steps=[('simple_imputer',\n",
      "                                                                   SimpleImputer())]),\n",
      "                                                  ['TotalBsmtSF',\n",
      "                                                   'BedroomAbvGr', 'Fireplaces',\n",
      "                                                   'PoolArea', 'GarageCars',\n",
      "                                                   'MSSubClass', 'YearBuilt',\n",
      "                                                   'YearRemodAdd', 'MasVnrArea',\n",
      "                                                   'BsmtFinSF1', 'BsmtFinSF2',\n",
      "                                                   '1stFlrSF', '2ndFlrSF',\n",
      "                                                   'LowQualFinSF', 'GrLivArea',\n",
      "                                                   'HalfBath...\n",
      "       'Heating', 'HeatingQC', 'CentralAir', 'Electrical', 'KitchenQual',\n",
      "       'FireplaceQu', 'GarageType', 'GarageQual', 'GarageCond', 'PavedDrive',\n",
      "       'PoolQC', 'Fence', 'SaleType', 'SaleCondition'],\n",
      "      dtype='object'))])),\n",
      "                ('standard_scaler', StandardScaler()),\n",
      "                ('feature_selection',\n",
      "                 SelectFromModel(estimator=DecisionTreeRegressor())),\n",
      "                ('regressor',\n",
      "                 RandomForestRegressor(max_depth=30, n_estimators=500))])\n",
      "Best score: 0.8125852751118998\n",
      "Best parameters: {'regressor__max_depth': 30, 'regressor__n_estimators': 500}\n"
     ]
    }
   ],
   "source": [
    "# define GridSearchCV\n",
    "param_search = GridSearchCV(\n",
    "    pipeline\n",
    "    , param_grid\n",
    "    , scoring='r2'\n",
    "    , cv=5\n",
    "    , verbose=1)\n",
    "param_search.fit(X_train, y_train)\n",
    "\n",
    "print(f'Best model: {param_search.best_estimator_}')\n",
    "print(f'Best score: {param_search.best_score_}')\n",
    "print(f'Best parameters: {param_search.best_params_}')\n",
    "\n",
    "# y_pred = param_search.best_estimator_.predict(X_train)\n",
    "_ = ctypes.windll.kernel32.Beep(1000, 100)\n",
    "# print(f'Accuracy: {accuracy_score(y_train, y_pred):.4f}')\n",
    "# param_search.best_params_"
   ]
  },
  {
   "cell_type": "code",
   "execution_count": null,
   "metadata": {},
   "outputs": [
    {
     "data": {
      "text/html": [
       "<div>\n",
       "<style scoped>\n",
       "    .dataframe tbody tr th:only-of-type {\n",
       "        vertical-align: middle;\n",
       "    }\n",
       "\n",
       "    .dataframe tbody tr th {\n",
       "        vertical-align: top;\n",
       "    }\n",
       "\n",
       "    .dataframe thead th {\n",
       "        text-align: right;\n",
       "    }\n",
       "</style>\n",
       "<table border=\"1\" class=\"dataframe\">\n",
       "  <thead>\n",
       "    <tr style=\"text-align: right;\">\n",
       "      <th></th>\n",
       "      <th>mean_fit_time</th>\n",
       "      <th>std_fit_time</th>\n",
       "      <th>mean_score_time</th>\n",
       "      <th>std_score_time</th>\n",
       "      <th>param_regressor</th>\n",
       "      <th>param_regressor__alpha</th>\n",
       "      <th>param_regressor__loss</th>\n",
       "      <th>param_regressor__max_iter</th>\n",
       "      <th>param_regressor__penalty</th>\n",
       "      <th>params</th>\n",
       "      <th>split0_test_score</th>\n",
       "      <th>split1_test_score</th>\n",
       "      <th>split2_test_score</th>\n",
       "      <th>split3_test_score</th>\n",
       "      <th>split4_test_score</th>\n",
       "      <th>mean_test_score</th>\n",
       "      <th>std_test_score</th>\n",
       "      <th>rank_test_score</th>\n",
       "    </tr>\n",
       "  </thead>\n",
       "  <tbody>\n",
       "    <tr>\n",
       "      <th>14</th>\n",
       "      <td>0.050831</td>\n",
       "      <td>0.007818</td>\n",
       "      <td>0.019638</td>\n",
       "      <td>0.002499</td>\n",
       "      <td>SGDRegressor()</td>\n",
       "      <td>0.00001</td>\n",
       "      <td>squared_error</td>\n",
       "      <td>1000</td>\n",
       "      <td>elasticnet</td>\n",
       "      <td>{'regressor': SGDRegressor(), 'regressor__alph...</td>\n",
       "      <td>0.438623</td>\n",
       "      <td>0.830301</td>\n",
       "      <td>0.834989</td>\n",
       "      <td>0.817270</td>\n",
       "      <td>0.803000</td>\n",
       "      <td>0.744837</td>\n",
       "      <td>0.153511</td>\n",
       "      <td>1</td>\n",
       "    </tr>\n",
       "    <tr>\n",
       "      <th>3</th>\n",
       "      <td>0.052253</td>\n",
       "      <td>0.009004</td>\n",
       "      <td>0.021902</td>\n",
       "      <td>0.003309</td>\n",
       "      <td>SGDRegressor()</td>\n",
       "      <td>0</td>\n",
       "      <td>squared_error</td>\n",
       "      <td>3000</td>\n",
       "      <td>l2</td>\n",
       "      <td>{'regressor': SGDRegressor(), 'regressor__alph...</td>\n",
       "      <td>0.418144</td>\n",
       "      <td>0.839323</td>\n",
       "      <td>0.820817</td>\n",
       "      <td>0.820608</td>\n",
       "      <td>0.824341</td>\n",
       "      <td>0.744647</td>\n",
       "      <td>0.163396</td>\n",
       "      <td>2</td>\n",
       "    </tr>\n",
       "    <tr>\n",
       "      <th>20</th>\n",
       "      <td>0.056696</td>\n",
       "      <td>0.006490</td>\n",
       "      <td>0.021432</td>\n",
       "      <td>0.003336</td>\n",
       "      <td>SGDRegressor()</td>\n",
       "      <td>0.00001</td>\n",
       "      <td>squared_error</td>\n",
       "      <td>5000</td>\n",
       "      <td>elasticnet</td>\n",
       "      <td>{'regressor': SGDRegressor(), 'regressor__alph...</td>\n",
       "      <td>0.454462</td>\n",
       "      <td>0.816889</td>\n",
       "      <td>0.830690</td>\n",
       "      <td>0.792128</td>\n",
       "      <td>0.822600</td>\n",
       "      <td>0.743354</td>\n",
       "      <td>0.145019</td>\n",
       "      <td>3</td>\n",
       "    </tr>\n",
       "    <tr>\n",
       "      <th>23</th>\n",
       "      <td>0.049941</td>\n",
       "      <td>0.005085</td>\n",
       "      <td>0.019580</td>\n",
       "      <td>0.002994</td>\n",
       "      <td>SGDRegressor()</td>\n",
       "      <td>0.00001</td>\n",
       "      <td>squared_error</td>\n",
       "      <td>10000</td>\n",
       "      <td>elasticnet</td>\n",
       "      <td>{'regressor': SGDRegressor(), 'regressor__alph...</td>\n",
       "      <td>0.421244</td>\n",
       "      <td>0.826046</td>\n",
       "      <td>0.815303</td>\n",
       "      <td>0.832918</td>\n",
       "      <td>0.819713</td>\n",
       "      <td>0.743045</td>\n",
       "      <td>0.161010</td>\n",
       "      <td>4</td>\n",
       "    </tr>\n",
       "    <tr>\n",
       "      <th>4</th>\n",
       "      <td>0.055098</td>\n",
       "      <td>0.008709</td>\n",
       "      <td>0.022702</td>\n",
       "      <td>0.003829</td>\n",
       "      <td>SGDRegressor()</td>\n",
       "      <td>0</td>\n",
       "      <td>squared_error</td>\n",
       "      <td>3000</td>\n",
       "      <td>l1</td>\n",
       "      <td>{'regressor': SGDRegressor(), 'regressor__alph...</td>\n",
       "      <td>0.454686</td>\n",
       "      <td>0.829258</td>\n",
       "      <td>0.797140</td>\n",
       "      <td>0.822119</td>\n",
       "      <td>0.811816</td>\n",
       "      <td>0.743004</td>\n",
       "      <td>0.144563</td>\n",
       "      <td>5</td>\n",
       "    </tr>\n",
       "  </tbody>\n",
       "</table>\n",
       "</div>"
      ],
      "text/plain": [
       "    mean_fit_time  std_fit_time  mean_score_time  std_score_time  \\\n",
       "14       0.050831      0.007818         0.019638        0.002499   \n",
       "3        0.052253      0.009004         0.021902        0.003309   \n",
       "20       0.056696      0.006490         0.021432        0.003336   \n",
       "23       0.049941      0.005085         0.019580        0.002994   \n",
       "4        0.055098      0.008709         0.022702        0.003829   \n",
       "\n",
       "   param_regressor param_regressor__alpha param_regressor__loss  \\\n",
       "14  SGDRegressor()                0.00001         squared_error   \n",
       "3   SGDRegressor()                      0         squared_error   \n",
       "20  SGDRegressor()                0.00001         squared_error   \n",
       "23  SGDRegressor()                0.00001         squared_error   \n",
       "4   SGDRegressor()                      0         squared_error   \n",
       "\n",
       "   param_regressor__max_iter param_regressor__penalty  \\\n",
       "14                      1000               elasticnet   \n",
       "3                       3000                       l2   \n",
       "20                      5000               elasticnet   \n",
       "23                     10000               elasticnet   \n",
       "4                       3000                       l1   \n",
       "\n",
       "                                               params  split0_test_score  \\\n",
       "14  {'regressor': SGDRegressor(), 'regressor__alph...           0.438623   \n",
       "3   {'regressor': SGDRegressor(), 'regressor__alph...           0.418144   \n",
       "20  {'regressor': SGDRegressor(), 'regressor__alph...           0.454462   \n",
       "23  {'regressor': SGDRegressor(), 'regressor__alph...           0.421244   \n",
       "4   {'regressor': SGDRegressor(), 'regressor__alph...           0.454686   \n",
       "\n",
       "    split1_test_score  split2_test_score  split3_test_score  \\\n",
       "14           0.830301           0.834989           0.817270   \n",
       "3            0.839323           0.820817           0.820608   \n",
       "20           0.816889           0.830690           0.792128   \n",
       "23           0.826046           0.815303           0.832918   \n",
       "4            0.829258           0.797140           0.822119   \n",
       "\n",
       "    split4_test_score  mean_test_score  std_test_score  rank_test_score  \n",
       "14           0.803000         0.744837        0.153511                1  \n",
       "3            0.824341         0.744647        0.163396                2  \n",
       "20           0.822600         0.743354        0.145019                3  \n",
       "23           0.819713         0.743045        0.161010                4  \n",
       "4            0.811816         0.743004        0.144563                5  "
      ]
     },
     "metadata": {},
     "output_type": "display_data"
    }
   ],
   "source": [
    "pd.DataFrame(param_search.cv_results_).sort_values(by='rank_test_score').head(5)\n"
   ]
  },
  {
   "cell_type": "code",
   "execution_count": null,
   "metadata": {},
   "outputs": [
    {
     "name": "stdout",
     "output_type": "stream",
     "text": [
      "{'mean_fit_time': array([0.16095338, 0.1596333 , 0.1006084 , 0.06260414]),\n",
      " 'mean_score_time': array([0.02703352, 0.02262917, 0.02367716, 0.        ]),\n",
      " 'mean_test_score': array([-0.0960598 , -0.12537669, -0.09697116,         nan]),\n",
      " 'param_regressor': masked_array(data=[LGBMRegressor(), LGBMRegressor(), LGBMRegressor(),\n",
      "                   LGBMRegressor()],\n",
      "             mask=[False, False, False, False],\n",
      "       fill_value='?',\n",
      "            dtype=object),\n",
      " 'param_regressor__boosting_type': masked_array(data=['gbdt', 'dart', 'goss', 'rf'],\n",
      "             mask=[False, False, False, False],\n",
      "       fill_value='?',\n",
      "            dtype=object),\n",
      " 'params': [{'regressor': LGBMRegressor(), 'regressor__boosting_type': 'gbdt'},\n",
      "            {'regressor': LGBMRegressor(), 'regressor__boosting_type': 'dart'},\n",
      "            {'regressor': LGBMRegressor(), 'regressor__boosting_type': 'goss'},\n",
      "            {'regressor': LGBMRegressor(), 'regressor__boosting_type': 'rf'}],\n",
      " 'rank_test_score': array([1, 3, 2, 4]),\n",
      " 'split0_test_score': array([-0.10152323, -0.12599192, -0.10366292,         nan]),\n",
      " 'split1_test_score': array([-0.09730771, -0.12243902, -0.09697579,         nan]),\n",
      " 'split2_test_score': array([-0.0930981 , -0.12776242, -0.09181985,         nan]),\n",
      " 'split3_test_score': array([-0.08747211, -0.12002803, -0.0898517 ,         nan]),\n",
      " 'split4_test_score': array([-0.10089785, -0.13066206, -0.10254553,         nan]),\n",
      " 'std_fit_time': array([0.01899926, 0.00790303, 0.01456596, 0.0112214 ]),\n",
      " 'std_score_time': array([0.00668968, 0.00456676, 0.01041652, 0.        ]),\n",
      " 'std_test_score': array([0.00524086, 0.00377474, 0.0055331 ,        nan])}\n"
     ]
    }
   ],
   "source": [
    "from pprint import pprint\n",
    "\n",
    "pprint(param_search.cv_results_)"
   ]
  },
  {
   "cell_type": "code",
   "execution_count": null,
   "metadata": {},
   "outputs": [
    {
     "ename": "ValueError",
     "evalue": "could not convert string to float: 'RL'",
     "output_type": "error",
     "traceback": [
      "\u001b[1;31m---------------------------------------------------------------------------\u001b[0m\n",
      "\n",
      "\u001b[1;31mValueError\u001b[0m                                Traceback (most recent call last)\n",
      "\n",
      "Cell \u001b[1;32mIn[106], line 5\u001b[0m\n",
      "\n",
      "\u001b[0;32m      2\u001b[0m \u001b[38;5;28;01mimport\u001b[39;00m \u001b[38;5;21;01mmatplotlib\u001b[39;00m\u001b[38;5;21;01m.\u001b[39;00m\u001b[38;5;21;01mpyplot\u001b[39;00m \u001b[38;5;28;01mas\u001b[39;00m \u001b[38;5;21;01mplt\u001b[39;00m\n",
      "\n",
      "\u001b[0;32m      4\u001b[0m fig, ax \u001b[38;5;241m=\u001b[39m plt\u001b[38;5;241m.\u001b[39msubplots(figsize\u001b[38;5;241m=\u001b[39m(\u001b[38;5;241m14\u001b[39m,\u001b[38;5;241m14\u001b[39m))\n",
      "\n",
      "\u001b[1;32m----> 5\u001b[0m sns\u001b[38;5;241m.\u001b[39mheatmap(\u001b[43mdf\u001b[49m\u001b[38;5;241;43m.\u001b[39;49m\u001b[43mcorr\u001b[49m\u001b[43m(\u001b[49m\u001b[43m)\u001b[49m);\n",
      "\n",
      "\n",
      "\n",
      "File \u001b[1;32m~\\AppData\\Roaming\\Python\\Python312\\site-packages\\pandas\\core\\frame.py:11049\u001b[0m, in \u001b[0;36mDataFrame.corr\u001b[1;34m(self, method, min_periods, numeric_only)\u001b[0m\n",
      "\n",
      "\u001b[0;32m  11047\u001b[0m cols \u001b[38;5;241m=\u001b[39m data\u001b[38;5;241m.\u001b[39mcolumns\n",
      "\n",
      "\u001b[0;32m  11048\u001b[0m idx \u001b[38;5;241m=\u001b[39m cols\u001b[38;5;241m.\u001b[39mcopy()\n",
      "\n",
      "\u001b[1;32m> 11049\u001b[0m mat \u001b[38;5;241m=\u001b[39m \u001b[43mdata\u001b[49m\u001b[38;5;241;43m.\u001b[39;49m\u001b[43mto_numpy\u001b[49m\u001b[43m(\u001b[49m\u001b[43mdtype\u001b[49m\u001b[38;5;241;43m=\u001b[39;49m\u001b[38;5;28;43mfloat\u001b[39;49m\u001b[43m,\u001b[49m\u001b[43m \u001b[49m\u001b[43mna_value\u001b[49m\u001b[38;5;241;43m=\u001b[39;49m\u001b[43mnp\u001b[49m\u001b[38;5;241;43m.\u001b[39;49m\u001b[43mnan\u001b[49m\u001b[43m,\u001b[49m\u001b[43m \u001b[49m\u001b[43mcopy\u001b[49m\u001b[38;5;241;43m=\u001b[39;49m\u001b[38;5;28;43;01mFalse\u001b[39;49;00m\u001b[43m)\u001b[49m\n",
      "\n",
      "\u001b[0;32m  11051\u001b[0m \u001b[38;5;28;01mif\u001b[39;00m method \u001b[38;5;241m==\u001b[39m \u001b[38;5;124m\"\u001b[39m\u001b[38;5;124mpearson\u001b[39m\u001b[38;5;124m\"\u001b[39m:\n",
      "\n",
      "\u001b[0;32m  11052\u001b[0m     correl \u001b[38;5;241m=\u001b[39m libalgos\u001b[38;5;241m.\u001b[39mnancorr(mat, minp\u001b[38;5;241m=\u001b[39mmin_periods)\n",
      "\n",
      "\n",
      "\n",
      "File \u001b[1;32m~\\AppData\\Roaming\\Python\\Python312\\site-packages\\pandas\\core\\frame.py:1993\u001b[0m, in \u001b[0;36mDataFrame.to_numpy\u001b[1;34m(self, dtype, copy, na_value)\u001b[0m\n",
      "\n",
      "\u001b[0;32m   1991\u001b[0m \u001b[38;5;28;01mif\u001b[39;00m dtype \u001b[38;5;129;01mis\u001b[39;00m \u001b[38;5;129;01mnot\u001b[39;00m \u001b[38;5;28;01mNone\u001b[39;00m:\n",
      "\n",
      "\u001b[0;32m   1992\u001b[0m     dtype \u001b[38;5;241m=\u001b[39m np\u001b[38;5;241m.\u001b[39mdtype(dtype)\n",
      "\n",
      "\u001b[1;32m-> 1993\u001b[0m result \u001b[38;5;241m=\u001b[39m \u001b[38;5;28;43mself\u001b[39;49m\u001b[38;5;241;43m.\u001b[39;49m\u001b[43m_mgr\u001b[49m\u001b[38;5;241;43m.\u001b[39;49m\u001b[43mas_array\u001b[49m\u001b[43m(\u001b[49m\u001b[43mdtype\u001b[49m\u001b[38;5;241;43m=\u001b[39;49m\u001b[43mdtype\u001b[49m\u001b[43m,\u001b[49m\u001b[43m \u001b[49m\u001b[43mcopy\u001b[49m\u001b[38;5;241;43m=\u001b[39;49m\u001b[43mcopy\u001b[49m\u001b[43m,\u001b[49m\u001b[43m \u001b[49m\u001b[43mna_value\u001b[49m\u001b[38;5;241;43m=\u001b[39;49m\u001b[43mna_value\u001b[49m\u001b[43m)\u001b[49m\n",
      "\n",
      "\u001b[0;32m   1994\u001b[0m \u001b[38;5;28;01mif\u001b[39;00m result\u001b[38;5;241m.\u001b[39mdtype \u001b[38;5;129;01mis\u001b[39;00m \u001b[38;5;129;01mnot\u001b[39;00m dtype:\n",
      "\n",
      "\u001b[0;32m   1995\u001b[0m     result \u001b[38;5;241m=\u001b[39m np\u001b[38;5;241m.\u001b[39masarray(result, dtype\u001b[38;5;241m=\u001b[39mdtype)\n",
      "\n",
      "\n",
      "\n",
      "File \u001b[1;32m~\\AppData\\Roaming\\Python\\Python312\\site-packages\\pandas\\core\\internals\\managers.py:1694\u001b[0m, in \u001b[0;36mBlockManager.as_array\u001b[1;34m(self, dtype, copy, na_value)\u001b[0m\n",
      "\n",
      "\u001b[0;32m   1692\u001b[0m         arr\u001b[38;5;241m.\u001b[39mflags\u001b[38;5;241m.\u001b[39mwriteable \u001b[38;5;241m=\u001b[39m \u001b[38;5;28;01mFalse\u001b[39;00m\n",
      "\n",
      "\u001b[0;32m   1693\u001b[0m \u001b[38;5;28;01melse\u001b[39;00m:\n",
      "\n",
      "\u001b[1;32m-> 1694\u001b[0m     arr \u001b[38;5;241m=\u001b[39m \u001b[38;5;28;43mself\u001b[39;49m\u001b[38;5;241;43m.\u001b[39;49m\u001b[43m_interleave\u001b[49m\u001b[43m(\u001b[49m\u001b[43mdtype\u001b[49m\u001b[38;5;241;43m=\u001b[39;49m\u001b[43mdtype\u001b[49m\u001b[43m,\u001b[49m\u001b[43m \u001b[49m\u001b[43mna_value\u001b[49m\u001b[38;5;241;43m=\u001b[39;49m\u001b[43mna_value\u001b[49m\u001b[43m)\u001b[49m\n",
      "\n",
      "\u001b[0;32m   1695\u001b[0m     \u001b[38;5;66;03m# The underlying data was copied within _interleave, so no need\u001b[39;00m\n",
      "\n",
      "\u001b[0;32m   1696\u001b[0m     \u001b[38;5;66;03m# to further copy if copy=True or setting na_value\u001b[39;00m\n",
      "\n",
      "\u001b[0;32m   1698\u001b[0m \u001b[38;5;28;01mif\u001b[39;00m na_value \u001b[38;5;129;01mis\u001b[39;00m lib\u001b[38;5;241m.\u001b[39mno_default:\n",
      "\n",
      "\n",
      "\n",
      "File \u001b[1;32m~\\AppData\\Roaming\\Python\\Python312\\site-packages\\pandas\\core\\internals\\managers.py:1753\u001b[0m, in \u001b[0;36mBlockManager._interleave\u001b[1;34m(self, dtype, na_value)\u001b[0m\n",
      "\n",
      "\u001b[0;32m   1751\u001b[0m     \u001b[38;5;28;01melse\u001b[39;00m:\n",
      "\n",
      "\u001b[0;32m   1752\u001b[0m         arr \u001b[38;5;241m=\u001b[39m blk\u001b[38;5;241m.\u001b[39mget_values(dtype)\n",
      "\n",
      "\u001b[1;32m-> 1753\u001b[0m     \u001b[43mresult\u001b[49m\u001b[43m[\u001b[49m\u001b[43mrl\u001b[49m\u001b[38;5;241;43m.\u001b[39;49m\u001b[43mindexer\u001b[49m\u001b[43m]\u001b[49m \u001b[38;5;241m=\u001b[39m arr\n",
      "\n",
      "\u001b[0;32m   1754\u001b[0m     itemmask[rl\u001b[38;5;241m.\u001b[39mindexer] \u001b[38;5;241m=\u001b[39m \u001b[38;5;241m1\u001b[39m\n",
      "\n",
      "\u001b[0;32m   1756\u001b[0m \u001b[38;5;28;01mif\u001b[39;00m \u001b[38;5;129;01mnot\u001b[39;00m itemmask\u001b[38;5;241m.\u001b[39mall():\n",
      "\n",
      "\n",
      "\n",
      "\u001b[1;31mValueError\u001b[0m: could not convert string to float: 'RL'"
     ]
    },
    {
     "data": {
      "image/png": "[encoded data removed]",
      "text/plain": [
       "<Figure size 1400x1400 with 1 Axes>"
      ]
     },
     "metadata": {},
     "output_type": "display_data"
    }
   ],
   "source": [
    "import seaborn as sns\n",
    "import matplotlib.pyplot as plt\n",
    "\n",
    "fig, ax = plt.subplots(figsize=(14,14))\n",
    "sns.heatmap(df.corr());"
   ]
  },
  {
   "cell_type": "code",
   "execution_count": null,
   "metadata": {},
   "outputs": [],
   "source": []
  },
  {
   "cell_type": "code",
   "execution_count": null,
   "metadata": {},
   "outputs": [],
   "source": []
  },
  {
   "cell_type": "code",
   "execution_count": null,
   "metadata": {},
   "outputs": [],
   "source": []
  }
 ],
 "metadata": {
  "kernelspec": {
   "display_name": "Python 3",
   "language": "python",
   "name": "python3"
  },
  "language_info": {
   "codemirror_mode": {
    "name": "ipython",
    "version": 3
   },
   "file_extension": ".py",
   "mimetype": "text/x-python",
   "name": "python",
   "nbconvert_exporter": "python",
   "pygments_lexer": "ipython3",
   "version": "3.13.1"
  }
 },
 "nbformat": 4,
 "nbformat_minor": 2
}
