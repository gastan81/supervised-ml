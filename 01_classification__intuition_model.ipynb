{
  "cells": [
    {
      "cell_type": "markdown",
      "metadata": {
        "id": "RxHoDU4IUkcH"
      },
      "source": [
        "# Titanic 1: creating an intuition-based model\n",
        "\n",
        "**Challenge overview:**\n",
        "\n",
        "The sinking of the Titanic is one of the most infamous shipwrecks in history.\n",
        "\n",
        "On April 15, 1912, during her maiden voyage, the widely considered “unsinkable” RMS Titanic sank after colliding with an iceberg. Unfortunately, there weren’t enough lifeboats for everyone onboard, resulting in the death of passengers and crew.\n",
        "\n",
        "While there was some element of luck involved in surviving, it seems some groups of people were more likely to survive than others.\n",
        "\n",
        "In this challenge, we ask you to build a predictive model that answers the question: “what sorts of people were more likely to survive?” using passenger data (ie name, age, gender, socio-economic class, etc).\n",
        "\n",
        "\n",
        "**Dataset variables:**\n",
        "\n",
        "*   survival -->\tWhether a passenger survived or not\n",
        "*   pclass -->\tTicket class (1 = 1st, 2 = 2nd, 3 = 3rd)\n",
        "*   sex -->\tSex\n",
        "*   Age -->\tAge in years\n",
        "*   sibsp -->\t# of siblings / spouses aboard the Titanic\n",
        "*   parch -->\t# of parents / children aboard the Titanic\n",
        "*   ticket -->\tTicket number\n",
        "*   fare -->\tPassenger fare\n",
        "*   cabin -->\tCabin number\n",
        "*   embarked -->\tPort of Embarkation (C = Cherbourg, Q = Queenstown, S = Southampton)"
      ]
    },
    {
      "cell_type": "markdown",
      "metadata": {
        "id": "Oafn-OifhJvh"
      },
      "source": [
        "## 1. Data reading & first glance"
      ]
    },
    {
      "cell_type": "code",
      "execution_count": 4,
      "metadata": {
        "colab": {
          "base_uri": "https://localhost:8080/",
          "height": 991
        },
        "id": "pi54svh0UkcI",
        "outputId": "2c6571a1-5ac1-4156-a961-7e5ece9be925"
      },
      "outputs": [
        {
          "data": {
            "text/plain": [
              "Index(['PassengerId', 'Survived', 'Pclass', 'Name', 'Sex', 'Age', 'SibSp',\n",
              "       'Parch', 'Ticket', 'Fare', 'Cabin', 'Embarked'],\n",
              "      dtype='object')"
            ]
          },
          "execution_count": 4,
          "metadata": {},
          "output_type": "execute_result"
        }
      ],
      "source": [
        "import pandas as pd\n",
        "\n",
        "url = \"https://drive.google.com/file/d/1g3uhw_y3tboRm2eYDPfUzXXsw8IOYDCy/view?usp=sharing\"\n",
        "path = 'https://drive.google.com/uc?export=download&id='+url.split('/')[-2]\n",
        "\n",
        "data = pd.read_csv(path)\n",
        "data.columns\n",
        "#data"
      ]
    },
    {
      "cell_type": "markdown",
      "metadata": {
        "id": "FzjKLK8SUkcK"
      },
      "source": [
        "The target column (what we want our model to predict) is usually denoted as `y` and we call it a `label`. We will \"pop\" it out from the rest of the data:"
      ]
    },
    {
      "cell_type": "code",
      "execution_count": 5,
      "metadata": {
        "id": "XXMd_V-6UkcK"
      },
      "outputs": [],
      "source": [
        "y = data.pop(\"Survived\")"
      ]
    },
    {
      "cell_type": "markdown",
      "metadata": {
        "id": "kChs5sCeUkcK"
      },
      "source": [
        "As you can see, the target is just a bunch of zeros and ones. 1 means the passenger survived and 0 means they did not survive:"
      ]
    },
    {
      "cell_type": "code",
      "execution_count": 6,
      "metadata": {
        "colab": {
          "base_uri": "https://localhost:8080/"
        },
        "id": "qe37lDKZUkcL",
        "outputId": "b4124e6c-add6-4df5-a733-5d850a75589c",
        "tags": []
      },
      "outputs": [
        {
          "name": "stdout",
          "output_type": "stream",
          "text": [
            "[0, 1, 1, 1, 0, 0, 0, 0, 1, 1, 1, 1, 0, 0, 0, 1, 0, 1, 0, 1, 0, 1, 1, 1, 0, 1, 0, 0, 1, 0, 0, 1, 1, 0, 0, 0, 1, 0, 0, 1, 0, 0, 0, 1, 1, 0, 0, 1, 0, 0, 0, 0, 1, 1, 0, 1, 1, 0, 1, 0, 0, 1, 0, 0, 0, 1, 1, 0, 1, 0, 0, 0, 0, 0, 1, 0, 0, 0, 1, 1, 0, 1, 1, 0, 1, 1, 0, 0, 1, 0, 0, 0, 0, 0, 0, 0, 0, 1, 1, 0, 0, 0, 0, 0, 0, 0, 1, 1, 0, 1, 0, 0, 0, 0, 0, 0, 0, 0, 0, 0, 0, 0, 0, 1, 0, 1, 0, 1, 1, 0, 0, 0, 0, 1, 0, 0, 1, 0, 0, 0, 0, 1, 1, 0, 0, 0, 1, 0, 0, 0, 0, 1, 0, 0, 0, 0, 1, 0, 0, 0, 0, 1, 0, 0, 0, 1, 1, 0, 0, 0, 0, 0, 1, 0, 0, 0, 0, 0, 0, 0, 0, 0, 0, 1, 1, 0, 1, 1, 0, 0, 1, 0, 1, 1, 1, 1, 0, 0, 1, 0, 0, 0, 0, 0, 1, 0, 0, 1, 1, 1, 0, 1, 0, 0, 0, 1, 1, 0, 1, 0, 1, 0, 0, 0, 1, 0, 1, 0, 0, 0, 1, 0, 0, 1, 0, 0, 0, 1, 0, 0, 0, 1, 0, 0, 0, 0, 0, 1, 1, 0, 0, 0, 0, 0, 0, 1, 1, 1, 1, 1, 0, 1, 0, 0, 0, 0, 0, 1, 1, 1, 0, 1, 1, 0, 1, 1, 0, 0, 0, 1, 0, 0, 0, 1, 0, 0, 1, 0, 1, 1, 1, 1, 0, 0, 0, 0, 0, 0, 1, 1, 1, 1, 0, 1, 0, 1, 1, 1, 0, 1, 1, 1, 0, 0, 0, 1, 1, 0, 1, 1, 0, 0, 1, 1, 0, 1, 0, 1, 1, 1, 1, 0, 0, 0, 1, 0, 0, 1, 1, 0, 1, 1, 0, 0, 0, 1, 1, 1, 1, 0, 0, 0, 0, 0, 0, 0, 1, 0, 1, 1, 0, 0, 0, 0, 0, 0, 1, 1, 1, 1, 1, 0, 0, 0, 0, 1, 1, 0, 0, 0, 1, 1, 0, 1, 0, 0, 0, 1, 0, 1, 1, 1, 0, 1, 1, 0, 0, 0, 0, 1, 1, 0, 0, 0, 0, 0, 0, 1, 0, 0, 0, 0, 1, 0, 1, 0, 1, 1, 0, 0, 0, 0, 0, 0, 0, 0, 1, 1, 0, 1, 1, 1, 1, 0, 0, 1, 0, 1, 0, 0, 1, 0, 0, 1, 1, 1, 1, 1, 1, 1, 0, 0, 0, 1, 0, 1, 0, 1, 1, 0, 1, 0, 0, 0, 0, 0, 0, 0, 0, 1, 0, 0, 1, 1, 0, 0, 0, 0, 0, 1, 0, 0, 0, 1, 1, 0, 1, 0, 0, 1, 0, 0, 0, 0, 0, 0, 1, 0, 0, 0, 0, 0, 0, 0, 1, 0, 1, 1, 0, 1, 1, 0, 1, 1, 0, 0, 1, 0, 1, 0, 1, 0, 0, 1, 0, 0, 1, 0, 0, 0, 1, 0, 0, 1, 0, 1, 0, 1, 0, 1, 1, 0, 0, 1, 0, 0, 1, 1, 0, 1, 1, 0, 0, 1, 1, 0, 1, 0, 1, 1, 0, 0, 0, 0, 0, 0, 0, 0, 0, 1, 1, 1, 1, 1, 0, 0, 1, 1, 0, 1, 1, 1, 0, 0, 0, 1, 0, 1, 0, 0, 0, 1, 0, 0, 0, 0, 1, 0, 0, 1, 1, 0, 0, 0, 1, 0, 0, 1, 1, 1, 0, 0, 1, 0, 0, 1, 0, 0, 1, 0, 0, 1, 1, 0, 0, 0, 0, 1, 0, 0, 1, 0, 1, 0, 0, 1, 0, 0, 0, 0, 0, 1, 0, 1, 1, 1, 0, 1, 0, 1, 0, 1, 0, 1, 0, 0, 0, 0, 0, 0, 1, 0, 0, 0, 1, 0, 0, 0, 0, 1, 1, 0, 0, 1, 0, 0, 0, 1, 0, 1, 0, 1, 0, 0, 0, 0, 0, 0, 0, 1, 1, 1, 1, 0, 0, 0, 0, 1, 0, 0, 1, 1, 0, 0, 0, 0, 1, 1, 1, 1, 1, 0, 1, 0, 0, 0, 1, 1, 0, 0, 1, 0, 0, 0, 1, 0, 1, 1, 0, 0, 1, 0, 0, 0, 0, 0, 0, 1, 0, 0, 1, 0, 1, 0, 1, 0, 0, 1, 0, 0, 1, 1, 0, 0, 1, 1, 0, 0, 0, 1, 0, 0, 1, 1, 0, 1, 0, 0, 0, 0, 0, 0, 0, 0, 1, 0, 0, 1, 0, 1, 1, 1, 0, 0, 0, 0, 1, 0, 1, 0, 0, 0, 0, 0, 0, 0, 1, 1, 0, 0, 0, 1, 1, 1, 1, 0, 0, 0, 0, 1, 0, 0, 0, 0, 0, 0, 0, 0, 0, 0, 1, 1, 0, 1, 0, 0, 0, 1, 1, 1, 1, 1, 0, 0, 0, 1, 0, 0, 1, 1, 0, 0, 1, 0, 0, 0, 0, 0, 0, 1, 0, 0, 0, 1, 0, 1, 1, 1, 1, 0, 0, 0, 1, 0, 0, 1, 1, 0, 0, 1, 0, 1, 0, 0, 1, 1, 0, 0, 0, 1, 1, 0, 0, 0, 0, 0, 0, 1, 0, 1, 0]\n"
          ]
        }
      ],
      "source": [
        "print(y.tolist())"
      ]
    },
    {
      "cell_type": "markdown",
      "metadata": {
        "id": "oXTL_Tq1UkcJ"
      },
      "source": [
        "The \"feature vector\" (the columns used to predict the target) is denoted as `X`.\n",
        "\n",
        "Some of the columns in the original dataset are unique identifiers of each passenger. Unique identifiers are not useful when it comes to finding patterns in the data. So, the first step when building our `X`, the vector of predictor features, is to drop them:"
      ]
    },
    {
      "cell_type": "code",
      "execution_count": 7,
      "metadata": {
        "colab": {
          "base_uri": "https://localhost:8080/",
          "height": 206
        },
        "id": "kbBbtWvjUkcJ",
        "outputId": "01665254-5fa8-4760-9ea2-7c9dc44d0535",
        "tags": []
      },
      "outputs": [
        {
          "data": {
            "text/html": [
              "<div>\n",
              "<style scoped>\n",
              "    .dataframe tbody tr th:only-of-type {\n",
              "        vertical-align: middle;\n",
              "    }\n",
              "\n",
              "    .dataframe tbody tr th {\n",
              "        vertical-align: top;\n",
              "    }\n",
              "\n",
              "    .dataframe thead th {\n",
              "        text-align: right;\n",
              "    }\n",
              "</style>\n",
              "<table border=\"1\" class=\"dataframe\">\n",
              "  <thead>\n",
              "    <tr style=\"text-align: right;\">\n",
              "      <th></th>\n",
              "      <th>Pclass</th>\n",
              "      <th>Sex</th>\n",
              "      <th>Age</th>\n",
              "      <th>SibSp</th>\n",
              "      <th>Parch</th>\n",
              "      <th>Fare</th>\n",
              "      <th>Cabin</th>\n",
              "      <th>Embarked</th>\n",
              "    </tr>\n",
              "  </thead>\n",
              "  <tbody>\n",
              "    <tr>\n",
              "      <th>0</th>\n",
              "      <td>3</td>\n",
              "      <td>male</td>\n",
              "      <td>22.0</td>\n",
              "      <td>1</td>\n",
              "      <td>0</td>\n",
              "      <td>7.2500</td>\n",
              "      <td>NaN</td>\n",
              "      <td>S</td>\n",
              "    </tr>\n",
              "    <tr>\n",
              "      <th>1</th>\n",
              "      <td>1</td>\n",
              "      <td>female</td>\n",
              "      <td>38.0</td>\n",
              "      <td>1</td>\n",
              "      <td>0</td>\n",
              "      <td>71.2833</td>\n",
              "      <td>C85</td>\n",
              "      <td>C</td>\n",
              "    </tr>\n",
              "    <tr>\n",
              "      <th>2</th>\n",
              "      <td>3</td>\n",
              "      <td>female</td>\n",
              "      <td>26.0</td>\n",
              "      <td>0</td>\n",
              "      <td>0</td>\n",
              "      <td>7.9250</td>\n",
              "      <td>NaN</td>\n",
              "      <td>S</td>\n",
              "    </tr>\n",
              "    <tr>\n",
              "      <th>3</th>\n",
              "      <td>1</td>\n",
              "      <td>female</td>\n",
              "      <td>35.0</td>\n",
              "      <td>1</td>\n",
              "      <td>0</td>\n",
              "      <td>53.1000</td>\n",
              "      <td>C123</td>\n",
              "      <td>S</td>\n",
              "    </tr>\n",
              "    <tr>\n",
              "      <th>4</th>\n",
              "      <td>3</td>\n",
              "      <td>male</td>\n",
              "      <td>35.0</td>\n",
              "      <td>0</td>\n",
              "      <td>0</td>\n",
              "      <td>8.0500</td>\n",
              "      <td>NaN</td>\n",
              "      <td>S</td>\n",
              "    </tr>\n",
              "  </tbody>\n",
              "</table>\n",
              "</div>"
            ],
            "text/plain": [
              "   Pclass     Sex   Age  SibSp  Parch     Fare Cabin Embarked\n",
              "0       3    male  22.0      1      0   7.2500   NaN        S\n",
              "1       1  female  38.0      1      0  71.2833   C85        C\n",
              "2       3  female  26.0      0      0   7.9250   NaN        S\n",
              "3       1  female  35.0      1      0  53.1000  C123        S\n",
              "4       3    male  35.0      0      0   8.0500   NaN        S"
            ]
          },
          "execution_count": 7,
          "metadata": {},
          "output_type": "execute_result"
        }
      ],
      "source": [
        "X = data.drop(columns=[\"PassengerId\", \"Name\", \"Ticket\"])\n",
        "X.head()"
      ]
    },
    {
      "cell_type": "markdown",
      "metadata": {
        "id": "WKsyVgYoVjhV"
      },
      "source": [
        "Even if the target (`y`) and the features (`X`) are in two different objects, there is still a very easy mapping between them: the first row in `X` and the first element in `y` both correspond to the first passenger, the second row in `X`and the second element in `y` correspond to the second passenger, and so on."
      ]
    },
    {
      "cell_type": "markdown",
      "metadata": {
        "id": "3Pb_kzG0UkcL"
      },
      "source": [
        "## 2. Basic Exploration\n",
        "\n",
        "Just look briefly at the data types of your columns get get an idea of how they look like."
      ]
    },
    {
      "cell_type": "code",
      "execution_count": 8,
      "metadata": {
        "colab": {
          "base_uri": "https://localhost:8080/"
        },
        "id": "Qyc8QCDEUkcL",
        "outputId": "ef1f546c-6449-44b0-ff6f-9b9e09eeb413",
        "tags": []
      },
      "outputs": [
        {
          "name": "stdout",
          "output_type": "stream",
          "text": [
            "<class 'pandas.core.frame.DataFrame'>\n",
            "RangeIndex: 891 entries, 0 to 890\n",
            "Data columns (total 8 columns):\n",
            " #   Column    Non-Null Count  Dtype  \n",
            "---  ------    --------------  -----  \n",
            " 0   Pclass    891 non-null    int64  \n",
            " 1   Sex       891 non-null    object \n",
            " 2   Age       714 non-null    float64\n",
            " 3   SibSp     891 non-null    int64  \n",
            " 4   Parch     891 non-null    int64  \n",
            " 5   Fare      891 non-null    float64\n",
            " 6   Cabin     204 non-null    object \n",
            " 7   Embarked  889 non-null    object \n",
            "dtypes: float64(2), int64(3), object(3)\n",
            "memory usage: 55.8+ KB\n"
          ]
        }
      ],
      "source": [
        "X.info()"
      ]
    },
    {
      "cell_type": "code",
      "execution_count": 9,
      "metadata": {
        "colab": {
          "base_uri": "https://localhost:8080/"
        },
        "id": "YtWi3GNPUkcM",
        "outputId": "0acc231a-552b-4582-8261-b212361e0523",
        "tags": []
      },
      "outputs": [
        {
          "data": {
            "text/plain": [
              "Pclass        0\n",
              "Sex           0\n",
              "Age         177\n",
              "SibSp         0\n",
              "Parch         0\n",
              "Fare          0\n",
              "Cabin       687\n",
              "Embarked      2\n",
              "dtype: int64"
            ]
          },
          "execution_count": 9,
          "metadata": {},
          "output_type": "execute_result"
        }
      ],
      "source": [
        "X.isna().sum()"
      ]
    },
    {
      "cell_type": "code",
      "execution_count": 10,
      "metadata": {
        "colab": {
          "base_uri": "https://localhost:8080/",
          "height": 499
        },
        "id": "rg7LIJ0eUkcM",
        "outputId": "066740e1-3d72-44ac-e992-9a64ce6524ab",
        "tags": []
      },
      "outputs": [
        {
          "data": {
            "image/png": "[encoded data removed]",
            "text/plain": [
              "<Figure size 1000x800 with 6 Axes>"
            ]
          },
          "metadata": {},
          "output_type": "display_data"
        }
      ],
      "source": [
        "X.hist(figsize=(10, 8));"
      ]
    },
    {
      "cell_type": "markdown",
      "metadata": {
        "id": "ym8v9g82UkcM"
      },
      "source": [
        "## 3. Train-test split\n",
        "\n",
        "Before performing a deeper exploration, we will split the dataset into 2 chunks: train and test. We will use the train set to find patterns in the data and create a model. The test set will remain untouched, unseen, unexplored. It will be the \"reality check\" for our model, it will let us know whether our model is able to generalize.\n",
        "\n",
        "Here, we're using the function `train_test_split` to shuffle the observations randomly and create the train and test sets for both the `X` and the `y` objects at the same time, ensuring that they are shuffled the same way:"
      ]
    },
    {
      "cell_type": "code",
      "execution_count": 11,
      "metadata": {
        "id": "H7xYa0SUUkcM"
      },
      "outputs": [],
      "source": [
        "from sklearn.model_selection import train_test_split\n",
        "\n",
        "X_train, X_test, y_train, y_test = train_test_split(X, y, test_size=0.2, random_state=31416)"
      ]
    },
    {
      "cell_type": "code",
      "execution_count": 12,
      "metadata": {
        "colab": {
          "base_uri": "https://localhost:8080/",
          "height": 206
        },
        "id": "Z8zgVBNRUkcM",
        "outputId": "b29322b4-a51e-468c-d12a-3fd56606f547",
        "tags": []
      },
      "outputs": [
        {
          "data": {
            "text/html": [
              "<div>\n",
              "<style scoped>\n",
              "    .dataframe tbody tr th:only-of-type {\n",
              "        vertical-align: middle;\n",
              "    }\n",
              "\n",
              "    .dataframe tbody tr th {\n",
              "        vertical-align: top;\n",
              "    }\n",
              "\n",
              "    .dataframe thead th {\n",
              "        text-align: right;\n",
              "    }\n",
              "</style>\n",
              "<table border=\"1\" class=\"dataframe\">\n",
              "  <thead>\n",
              "    <tr style=\"text-align: right;\">\n",
              "      <th></th>\n",
              "      <th>Pclass</th>\n",
              "      <th>Sex</th>\n",
              "      <th>Age</th>\n",
              "      <th>SibSp</th>\n",
              "      <th>Parch</th>\n",
              "      <th>Fare</th>\n",
              "      <th>Cabin</th>\n",
              "      <th>Embarked</th>\n",
              "    </tr>\n",
              "  </thead>\n",
              "  <tbody>\n",
              "    <tr>\n",
              "      <th>477</th>\n",
              "      <td>3</td>\n",
              "      <td>male</td>\n",
              "      <td>29.0</td>\n",
              "      <td>1</td>\n",
              "      <td>0</td>\n",
              "      <td>7.0458</td>\n",
              "      <td>NaN</td>\n",
              "      <td>S</td>\n",
              "    </tr>\n",
              "    <tr>\n",
              "      <th>504</th>\n",
              "      <td>1</td>\n",
              "      <td>female</td>\n",
              "      <td>16.0</td>\n",
              "      <td>0</td>\n",
              "      <td>0</td>\n",
              "      <td>86.5000</td>\n",
              "      <td>B79</td>\n",
              "      <td>S</td>\n",
              "    </tr>\n",
              "    <tr>\n",
              "      <th>744</th>\n",
              "      <td>3</td>\n",
              "      <td>male</td>\n",
              "      <td>31.0</td>\n",
              "      <td>0</td>\n",
              "      <td>0</td>\n",
              "      <td>7.9250</td>\n",
              "      <td>NaN</td>\n",
              "      <td>S</td>\n",
              "    </tr>\n",
              "    <tr>\n",
              "      <th>473</th>\n",
              "      <td>2</td>\n",
              "      <td>female</td>\n",
              "      <td>23.0</td>\n",
              "      <td>0</td>\n",
              "      <td>0</td>\n",
              "      <td>13.7917</td>\n",
              "      <td>D</td>\n",
              "      <td>C</td>\n",
              "    </tr>\n",
              "    <tr>\n",
              "      <th>429</th>\n",
              "      <td>3</td>\n",
              "      <td>male</td>\n",
              "      <td>32.0</td>\n",
              "      <td>0</td>\n",
              "      <td>0</td>\n",
              "      <td>8.0500</td>\n",
              "      <td>E10</td>\n",
              "      <td>S</td>\n",
              "    </tr>\n",
              "  </tbody>\n",
              "</table>\n",
              "</div>"
            ],
            "text/plain": [
              "     Pclass     Sex   Age  SibSp  Parch     Fare Cabin Embarked\n",
              "477       3    male  29.0      1      0   7.0458   NaN        S\n",
              "504       1  female  16.0      0      0  86.5000   B79        S\n",
              "744       3    male  31.0      0      0   7.9250   NaN        S\n",
              "473       2  female  23.0      0      0  13.7917     D        C\n",
              "429       3    male  32.0      0      0   8.0500   E10        S"
            ]
          },
          "execution_count": 12,
          "metadata": {},
          "output_type": "execute_result"
        }
      ],
      "source": [
        "X_train.head()"
      ]
    },
    {
      "cell_type": "code",
      "execution_count": 13,
      "metadata": {
        "colab": {
          "base_uri": "https://localhost:8080/"
        },
        "id": "jskjlw9BUkcM",
        "outputId": "d74a7280-1eb6-4105-ade5-fbbb83faaf46",
        "tags": []
      },
      "outputs": [
        {
          "data": {
            "text/plain": [
              "477    0\n",
              "504    1\n",
              "744    1\n",
              "473    1\n",
              "429    1\n",
              "Name: Survived, dtype: int64"
            ]
          },
          "execution_count": 13,
          "metadata": {},
          "output_type": "execute_result"
        }
      ],
      "source": [
        "y_train.head()"
      ]
    },
    {
      "cell_type": "markdown",
      "metadata": {
        "id": "RsgYazE0XBSv"
      },
      "source": [
        "As you can see from the indices, both the `X` and `y` train sets contain first the passenger in position `477`, then the one in position `504`, etc.\n",
        "\n",
        "The same applies for the test set:"
      ]
    },
    {
      "cell_type": "code",
      "execution_count": 14,
      "metadata": {
        "colab": {
          "base_uri": "https://localhost:8080/",
          "height": 206
        },
        "id": "naYZgsM2UkcN",
        "outputId": "7f12a74a-9f4d-460f-92e5-0ba9cf2da61b",
        "tags": []
      },
      "outputs": [
        {
          "data": {
            "text/html": [
              "<div>\n",
              "<style scoped>\n",
              "    .dataframe tbody tr th:only-of-type {\n",
              "        vertical-align: middle;\n",
              "    }\n",
              "\n",
              "    .dataframe tbody tr th {\n",
              "        vertical-align: top;\n",
              "    }\n",
              "\n",
              "    .dataframe thead th {\n",
              "        text-align: right;\n",
              "    }\n",
              "</style>\n",
              "<table border=\"1\" class=\"dataframe\">\n",
              "  <thead>\n",
              "    <tr style=\"text-align: right;\">\n",
              "      <th></th>\n",
              "      <th>Pclass</th>\n",
              "      <th>Sex</th>\n",
              "      <th>Age</th>\n",
              "      <th>SibSp</th>\n",
              "      <th>Parch</th>\n",
              "      <th>Fare</th>\n",
              "      <th>Cabin</th>\n",
              "      <th>Embarked</th>\n",
              "    </tr>\n",
              "  </thead>\n",
              "  <tbody>\n",
              "    <tr>\n",
              "      <th>36</th>\n",
              "      <td>3</td>\n",
              "      <td>male</td>\n",
              "      <td>NaN</td>\n",
              "      <td>0</td>\n",
              "      <td>0</td>\n",
              "      <td>7.2292</td>\n",
              "      <td>NaN</td>\n",
              "      <td>C</td>\n",
              "    </tr>\n",
              "    <tr>\n",
              "      <th>716</th>\n",
              "      <td>1</td>\n",
              "      <td>female</td>\n",
              "      <td>38.0</td>\n",
              "      <td>0</td>\n",
              "      <td>0</td>\n",
              "      <td>227.5250</td>\n",
              "      <td>C45</td>\n",
              "      <td>C</td>\n",
              "    </tr>\n",
              "    <tr>\n",
              "      <th>131</th>\n",
              "      <td>3</td>\n",
              "      <td>male</td>\n",
              "      <td>20.0</td>\n",
              "      <td>0</td>\n",
              "      <td>0</td>\n",
              "      <td>7.0500</td>\n",
              "      <td>NaN</td>\n",
              "      <td>S</td>\n",
              "    </tr>\n",
              "    <tr>\n",
              "      <th>507</th>\n",
              "      <td>1</td>\n",
              "      <td>male</td>\n",
              "      <td>NaN</td>\n",
              "      <td>0</td>\n",
              "      <td>0</td>\n",
              "      <td>26.5500</td>\n",
              "      <td>NaN</td>\n",
              "      <td>S</td>\n",
              "    </tr>\n",
              "    <tr>\n",
              "      <th>13</th>\n",
              "      <td>3</td>\n",
              "      <td>male</td>\n",
              "      <td>39.0</td>\n",
              "      <td>1</td>\n",
              "      <td>5</td>\n",
              "      <td>31.2750</td>\n",
              "      <td>NaN</td>\n",
              "      <td>S</td>\n",
              "    </tr>\n",
              "  </tbody>\n",
              "</table>\n",
              "</div>"
            ],
            "text/plain": [
              "     Pclass     Sex   Age  SibSp  Parch      Fare Cabin Embarked\n",
              "36        3    male   NaN      0      0    7.2292   NaN        C\n",
              "716       1  female  38.0      0      0  227.5250   C45        C\n",
              "131       3    male  20.0      0      0    7.0500   NaN        S\n",
              "507       1    male   NaN      0      0   26.5500   NaN        S\n",
              "13        3    male  39.0      1      5   31.2750   NaN        S"
            ]
          },
          "execution_count": 14,
          "metadata": {},
          "output_type": "execute_result"
        }
      ],
      "source": [
        "X_test.head()"
      ]
    },
    {
      "cell_type": "code",
      "execution_count": 15,
      "metadata": {
        "colab": {
          "base_uri": "https://localhost:8080/"
        },
        "id": "Yi9cVB2nUkcN",
        "outputId": "4845caec-4d2a-4436-dcff-6a17a19f9c14",
        "tags": []
      },
      "outputs": [
        {
          "data": {
            "text/plain": [
              "36     1\n",
              "716    1\n",
              "131    0\n",
              "507    1\n",
              "13     0\n",
              "Name: Survived, dtype: int64"
            ]
          },
          "execution_count": 15,
          "metadata": {},
          "output_type": "execute_result"
        }
      ],
      "source": [
        "y_test.head()"
      ]
    },
    {
      "cell_type": "markdown",
      "metadata": {
        "id": "nulIkmlBUkcN",
        "tags": []
      },
      "source": [
        "## 4. Iteration 0 - An intuition-based model\n",
        "\n",
        "Machine Learning models should never be the first option to solve any problem. Machine Learning adds complexity to a business, and it should only be implemented if it represents a clear advantage compared to a simple working solution that the company has built following simple rules, common sense or gained expertise.\n",
        "\n",
        "Therefore, the first step when solving any problem should be to create a simple (even dumb) working solution and learn to evaluate it. In our example: how well can we predict survivalship with an extremely simple rule?\n",
        "\n",
        "Let's start by suggesting that everyone on the Titanic died  (I mean, the boat just sank in the middle of the ocean!). We will call this \"model\" the \"pessimistic\" one, and use it to make predictions for both the train and the test set:"
      ]
    },
    {
      "cell_type": "code",
      "execution_count": 16,
      "metadata": {
        "colab": {
          "base_uri": "https://localhost:8080/"
        },
        "id": "rTN9_QAVUkcN",
        "outputId": "194df844-8351-4fbc-a546-2e914da90ad8"
      },
      "outputs": [
        {
          "data": {
            "text/plain": [
              "Survived\n",
              "0    438\n",
              "1    274\n",
              "Name: count, dtype: int64"
            ]
          },
          "execution_count": 16,
          "metadata": {},
          "output_type": "execute_result"
        }
      ],
      "source": [
        "y_train.value_counts()"
      ]
    },
    {
      "cell_type": "code",
      "execution_count": 17,
      "metadata": {
        "colab": {
          "base_uri": "https://localhost:8080/"
        },
        "id": "lU4ZDxHZUkcN",
        "outputId": "09375232-f7e8-4d08-c026-9c931c3f3b87"
      },
      "outputs": [
        {
          "data": {
            "text/plain": [
              "712"
            ]
          },
          "execution_count": 17,
          "metadata": {},
          "output_type": "execute_result"
        }
      ],
      "source": [
        "len(y_train)"
      ]
    },
    {
      "cell_type": "markdown",
      "metadata": {
        "id": "h9yBVhL0UkcN"
      },
      "source": [
        "Our predictions for the train set will be just 712 zeros:"
      ]
    },
    {
      "cell_type": "code",
      "execution_count": 18,
      "metadata": {
        "id": "goQu-0HRUkcO"
      },
      "outputs": [],
      "source": [
        "pred_pessimistic_train = pd.Series(0, index=range(712))"
      ]
    },
    {
      "cell_type": "markdown",
      "metadata": {
        "id": "yLoSCTwtUkcO"
      },
      "source": [
        "Now: how good are those predictions? We will compare them with the true values and find out the percentage of correctly predicted passengers. This metric is called **accuracy**:"
      ]
    },
    {
      "cell_type": "code",
      "execution_count": 19,
      "metadata": {
        "colab": {
          "base_uri": "https://localhost:8080/"
        },
        "id": "Kr02VMGMUkcO",
        "outputId": "a734f970-2b45-4e50-af24-c71bb55b7c9a",
        "scrolled": true
      },
      "outputs": [
        {
          "data": {
            "text/plain": [
              "0.62"
            ]
          },
          "execution_count": 19,
          "metadata": {},
          "output_type": "execute_result"
        }
      ],
      "source": [
        "from sklearn.metrics import accuracy_score\n",
        "\n",
        "train_accuracy = accuracy_score(y_true = y_train,\n",
        "                                 y_pred = pred_pessimistic_train\n",
        "                                 )\n",
        "\n",
        "round(train_accuracy, 2)\n",
        "# predicted real\n",
        "# 0         0\n",
        "# 0         1\n",
        "# 1         1\n",
        "# accuracy = (1 + 0 + 1) / 3 = 2 / 3"
      ]
    },
    {
      "cell_type": "markdown",
      "metadata": {
        "id": "gSxb61qDUkcO"
      },
      "source": [
        "Okay, we have about a 62% accuracy in our train set. Let's find out how would have it done in our test set:"
      ]
    },
    {
      "cell_type": "code",
      "execution_count": 20,
      "metadata": {
        "colab": {
          "base_uri": "https://localhost:8080/"
        },
        "id": "UJs2JFnEUkcO",
        "outputId": "e61d883d-6316-4a9c-8c08-1a30e9afe597"
      },
      "outputs": [
        {
          "data": {
            "text/plain": [
              "179"
            ]
          },
          "execution_count": 20,
          "metadata": {},
          "output_type": "execute_result"
        }
      ],
      "source": [
        "len(y_test)"
      ]
    },
    {
      "cell_type": "code",
      "execution_count": 21,
      "metadata": {
        "id": "EjCvLIUYUkcO"
      },
      "outputs": [],
      "source": [
        "pred_pessimistic_test = pd.Series(0, index=range(179))"
      ]
    },
    {
      "cell_type": "code",
      "execution_count": 22,
      "metadata": {
        "colab": {
          "base_uri": "https://localhost:8080/"
        },
        "id": "BFQlNyhxUkcO",
        "outputId": "4cdf20bb-7e1c-4bf6-f4c9-587211d22789"
      },
      "outputs": [
        {
          "data": {
            "text/plain": [
              "0.62"
            ]
          },
          "execution_count": 22,
          "metadata": {},
          "output_type": "execute_result"
        }
      ],
      "source": [
        "test_accuracy = accuracy_score(y_true = y_test,\n",
        "                               y_pred = pred_pessimistic_test\n",
        "                               )\n",
        "\n",
        "round(test_accuracy, 2)"
      ]
    },
    {
      "cell_type": "markdown",
      "metadata": {
        "id": "nvPoW_PKUkcO"
      },
      "source": [
        "The performance is pretty much the same. This is typical from simple models: they have a low performance, but the performance stays the same in the data where they were trained and in new data.\n",
        "\n",
        "A model with a consistent performance between the training and testing set is said to have a **low variance**, which is good. However, a model with a low variance is said to have a **high bias**, which is not so good.\n",
        "\n",
        "Our model, with high bias, is missing important connections between the features and the target. Another term to describe this is **underfitting**.\n",
        "\n",
        "\n",
        "Ideally, we want a low variance and a low bias: a high accuracy consistent across the train and the test set.\n",
        "\n",
        "https://www.bmc.com/blogs/bias-variance-machine-learning"
      ]
    },
    {
      "cell_type": "markdown",
      "metadata": {
        "id": "O7lhCYU4UkcO"
      },
      "source": [
        "## **Exercise 1**:\n",
        "\n",
        "- Explore the train set and make another \"intuition-based model\" type of prediction. A possible guess, for example, would be that women survived and men died, since the policy of evacuation back then was gender-based.\n",
        "- Check the accuracy of your new model both in the train set and in the test set. Have you improved the previous model?\n",
        "- Remember the accuracy you got. This is the baseline you are going to try to improve\n"
      ]
    },
    {
      "cell_type": "markdown",
      "metadata": {},
      "source": [
        "### Data"
      ]
    },
    {
      "cell_type": "code",
      "execution_count": 1186,
      "metadata": {
        "id": "KeAeMAFNmObQ"
      },
      "outputs": [],
      "source": [
        "import pandas as pd\n",
        "from sklearn.metrics import accuracy_score\n",
        "pd.set_option('display.max_rows', None)\n",
        "pd.set_option('display.max_columns', None)\n",
        "\n",
        "url = \"https://drive.google.com/file/d/1g3uhw_y3tboRm2eYDPfUzXXsw8IOYDCy/view?usp=sharing\"\n",
        "path = 'https://drive.google.com/uc?export=download&id='+url.split('/')[-2]\n",
        "\n",
        "data = pd.read_csv(path)"
      ]
    },
    {
      "cell_type": "code",
      "execution_count": 1187,
      "metadata": {},
      "outputs": [],
      "source": [
        "y = data.pop(\"Survived\")\n",
        "X = data.drop(columns=[\"PassengerId\", \"Name\", \"Ticket\"])"
      ]
    },
    {
      "cell_type": "markdown",
      "metadata": {},
      "source": [
        "### Train-test split"
      ]
    },
    {
      "cell_type": "code",
      "execution_count": 1188,
      "metadata": {},
      "outputs": [],
      "source": [
        "from sklearn.model_selection import train_test_split\n",
        "\n",
        "X_train, X_test, y_train, y_test = train_test_split(X, y, test_size=0.2, random_state=123)"
      ]
    },
    {
      "cell_type": "markdown",
      "metadata": {},
      "source": [
        "### Exploring data"
      ]
    },
    {
      "cell_type": "code",
      "execution_count": 1189,
      "metadata": {},
      "outputs": [
        {
          "name": "stdout",
          "output_type": "stream",
          "text": [
            "<class 'pandas.core.frame.DataFrame'>\n",
            "Index: 712 entries, 329 to 510\n",
            "Data columns (total 8 columns):\n",
            " #   Column    Non-Null Count  Dtype  \n",
            "---  ------    --------------  -----  \n",
            " 0   Pclass    712 non-null    int64  \n",
            " 1   Sex       712 non-null    object \n",
            " 2   Age       564 non-null    float64\n",
            " 3   SibSp     712 non-null    int64  \n",
            " 4   Parch     712 non-null    int64  \n",
            " 5   Fare      712 non-null    float64\n",
            " 6   Cabin     156 non-null    object \n",
            " 7   Embarked  710 non-null    object \n",
            "dtypes: float64(2), int64(3), object(3)\n",
            "memory usage: 50.1+ KB\n"
          ]
        }
      ],
      "source": [
        "X_train.info()"
      ]
    },
    {
      "cell_type": "code",
      "execution_count": 1190,
      "metadata": {},
      "outputs": [
        {
          "name": "stdout",
          "output_type": "stream",
          "text": [
            "<class 'pandas.core.frame.DataFrame'>\n",
            "Index: 179 entries, 172 to 221\n",
            "Data columns (total 8 columns):\n",
            " #   Column    Non-Null Count  Dtype  \n",
            "---  ------    --------------  -----  \n",
            " 0   Pclass    179 non-null    int64  \n",
            " 1   Sex       179 non-null    object \n",
            " 2   Age       150 non-null    float64\n",
            " 3   SibSp     179 non-null    int64  \n",
            " 4   Parch     179 non-null    int64  \n",
            " 5   Fare      179 non-null    float64\n",
            " 6   Cabin     48 non-null     object \n",
            " 7   Embarked  179 non-null    object \n",
            "dtypes: float64(2), int64(3), object(3)\n",
            "memory usage: 12.6+ KB\n"
          ]
        }
      ],
      "source": [
        "X_test.info()"
      ]
    },
    {
      "cell_type": "code",
      "execution_count": 1191,
      "metadata": {},
      "outputs": [
        {
          "data": {
            "text/plain": [
              "Pclass\n",
              "1    166\n",
              "2    149\n",
              "3    397\n",
              "Name: count, dtype: int64"
            ]
          },
          "execution_count": 1191,
          "metadata": {},
          "output_type": "execute_result"
        }
      ],
      "source": [
        "# Pclass\n",
        "X_train['Pclass'].value_counts().sort_index()"
      ]
    },
    {
      "cell_type": "code",
      "execution_count": 1192,
      "metadata": {},
      "outputs": [
        {
          "data": {
            "text/plain": [
              "Age\n",
              "0.42      1\n",
              "0.67      1\n",
              "0.75      1\n",
              "0.92      1\n",
              "1.00      3\n",
              "2.00      8\n",
              "3.00      5\n",
              "4.00      9\n",
              "5.00      2\n",
              "6.00      2\n",
              "7.00      3\n",
              "8.00      3\n",
              "9.00      6\n",
              "10.00     2\n",
              "11.00     1\n",
              "12.00     1\n",
              "13.00     2\n",
              "14.00     4\n",
              "14.50     1\n",
              "15.00     4\n",
              "16.00    14\n",
              "17.00    11\n",
              "18.00    20\n",
              "19.00    20\n",
              "20.00    12\n",
              "21.00    21\n",
              "22.00    24\n",
              "23.00    13\n",
              "23.50     1\n",
              "24.00    22\n",
              "25.00    17\n",
              "26.00    14\n",
              "27.00    13\n",
              "28.00    21\n",
              "29.00    16\n",
              "30.00    22\n",
              "30.50     2\n",
              "31.00    14\n",
              "32.00    15\n",
              "32.50     2\n",
              "33.00    11\n",
              "34.00    13\n",
              "34.50     1\n",
              "35.00    15\n",
              "36.00    21\n",
              "36.50     1\n",
              "37.00     5\n",
              "38.00    10\n",
              "39.00    11\n",
              "40.00     8\n",
              "40.50     2\n",
              "41.00     4\n",
              "42.00     9\n",
              "43.00     3\n",
              "44.00     7\n",
              "45.00     9\n",
              "45.50     2\n",
              "46.00     2\n",
              "47.00     9\n",
              "48.00     7\n",
              "49.00     3\n",
              "50.00     6\n",
              "51.00     6\n",
              "52.00     5\n",
              "53.00     1\n",
              "54.00     5\n",
              "55.00     2\n",
              "55.50     1\n",
              "56.00     4\n",
              "57.00     2\n",
              "58.00     2\n",
              "59.00     2\n",
              "60.00     3\n",
              "61.00     2\n",
              "62.00     4\n",
              "63.00     1\n",
              "64.00     2\n",
              "65.00     1\n",
              "66.00     1\n",
              "70.00     2\n",
              "70.50     1\n",
              "71.00     2\n",
              "74.00     1\n",
              "80.00     1\n",
              "Name: count, dtype: int64"
            ]
          },
          "execution_count": 1192,
          "metadata": {},
          "output_type": "execute_result"
        }
      ],
      "source": [
        "# Age\n",
        "X_train['Age'].value_counts().sort_index()"
      ]
    },
    {
      "cell_type": "code",
      "execution_count": 1193,
      "metadata": {},
      "outputs": [
        {
          "data": {
            "text/plain": [
              "SibSp\n",
              "0    489\n",
              "1    167\n",
              "2     22\n",
              "3     13\n",
              "4     11\n",
              "5      3\n",
              "8      7\n",
              "Name: count, dtype: int64"
            ]
          },
          "execution_count": 1193,
          "metadata": {},
          "output_type": "execute_result"
        }
      ],
      "source": [
        "# SibSp\n",
        "X_train['SibSp'].value_counts().sort_index()"
      ]
    },
    {
      "cell_type": "code",
      "execution_count": 1194,
      "metadata": {},
      "outputs": [
        {
          "data": {
            "text/plain": [
              "Parch\n",
              "0    546\n",
              "1     93\n",
              "2     63\n",
              "3      4\n",
              "4      2\n",
              "5      4\n",
              "Name: count, dtype: int64"
            ]
          },
          "execution_count": 1194,
          "metadata": {},
          "output_type": "execute_result"
        }
      ],
      "source": [
        "# Parch\n",
        "X_train['Parch'].value_counts().sort_index()"
      ]
    },
    {
      "cell_type": "code",
      "execution_count": 1195,
      "metadata": {},
      "outputs": [
        {
          "data": {
            "text/plain": [
              "Fare\n",
              "0.0000      13\n",
              "4.0125       1\n",
              "5.0000       1\n",
              "6.2375       1\n",
              "6.4375       1\n",
              "6.4500       1\n",
              "6.4958       2\n",
              "6.7500       2\n",
              "6.8583       1\n",
              "6.9500       1\n",
              "6.9750       2\n",
              "7.0458       1\n",
              "7.0500       4\n",
              "7.0542       2\n",
              "7.1250       4\n",
              "7.1417       1\n",
              "7.2250       9\n",
              "7.2292       9\n",
              "7.2500      11\n",
              "7.3125       1\n",
              "7.4958       3\n",
              "7.5208       1\n",
              "7.5500       4\n",
              "7.6292       1\n",
              "7.6500       1\n",
              "7.7250       1\n",
              "7.7333       4\n",
              "7.7375       1\n",
              "7.7417       1\n",
              "7.7500      28\n",
              "7.7750      12\n",
              "7.7875       1\n",
              "7.7958       5\n",
              "7.8000       1\n",
              "7.8292       2\n",
              "7.8542      11\n",
              "7.8750       1\n",
              "7.8792       4\n",
              "7.8958      31\n",
              "7.9250      17\n",
              "8.0292       1\n",
              "8.0500      35\n",
              "8.1125       1\n",
              "8.1375       1\n",
              "8.1583       1\n",
              "8.3000       1\n",
              "8.4042       1\n",
              "8.4333       1\n",
              "8.5167       1\n",
              "8.6625      11\n",
              "8.6833       1\n",
              "8.7125       1\n",
              "8.8500       1\n",
              "9.0000       2\n",
              "9.2250       2\n",
              "9.3500       2\n",
              "9.4750       1\n",
              "9.4833       1\n",
              "9.5000       8\n",
              "9.5875       1\n",
              "9.8250       2\n",
              "9.8375       1\n",
              "9.8458       1\n",
              "10.1708      1\n",
              "10.4625      2\n",
              "10.5000     24\n",
              "10.5167      1\n",
              "11.1333      2\n",
              "11.2417      2\n",
              "11.5000      3\n",
              "12.0000      1\n",
              "12.2875      1\n",
              "12.3500      2\n",
              "12.4750      3\n",
              "12.5250      1\n",
              "12.6500      1\n",
              "12.8750      1\n",
              "13.0000     31\n",
              "13.4167      1\n",
              "13.5000      4\n",
              "13.7917      1\n",
              "13.8583      1\n",
              "14.4000      1\n",
              "14.4542      4\n",
              "14.4583      3\n",
              "14.5000      7\n",
              "15.0000      1\n",
              "15.0458      1\n",
              "15.0500      1\n",
              "15.1000      1\n",
              "15.2458      5\n",
              "15.5000      7\n",
              "15.5500      1\n",
              "15.7417      1\n",
              "15.8500      4\n",
              "15.9000      2\n",
              "16.0000      1\n",
              "16.1000      7\n",
              "16.7000      2\n",
              "17.4000      1\n",
              "17.8000      1\n",
              "18.0000      3\n",
              "18.7500      2\n",
              "18.7875      1\n",
              "19.2583      2\n",
              "19.5000      1\n",
              "19.9667      2\n",
              "20.2125      2\n",
              "20.2500      2\n",
              "20.5250      3\n",
              "20.5750      2\n",
              "21.0000      3\n",
              "21.0750      3\n",
              "22.0250      1\n",
              "22.3583      2\n",
              "22.5250      1\n",
              "23.0000      3\n",
              "23.2500      2\n",
              "23.4500      1\n",
              "24.0000      2\n",
              "24.1500      7\n",
              "25.4667      3\n",
              "25.5875      1\n",
              "25.9250      1\n",
              "26.0000     26\n",
              "26.2500      5\n",
              "26.2833      1\n",
              "26.2875      2\n",
              "26.3875      1\n",
              "26.5500     12\n",
              "27.0000      1\n",
              "27.7208      5\n",
              "27.7500      3\n",
              "27.9000      4\n",
              "28.5000      1\n",
              "29.0000      1\n",
              "29.1250      4\n",
              "29.7000      2\n",
              "30.0000      5\n",
              "30.0708      2\n",
              "30.5000      4\n",
              "30.6958      2\n",
              "31.0000      1\n",
              "31.2750      5\n",
              "31.3875      2\n",
              "32.3208      1\n",
              "32.5000      1\n",
              "33.0000      2\n",
              "34.0208      1\n",
              "34.3750      3\n",
              "34.6542      1\n",
              "35.5000      3\n",
              "36.7500      1\n",
              "37.0042      1\n",
              "38.5000      1\n",
              "39.0000      3\n",
              "39.4000      1\n",
              "39.6000      2\n",
              "39.6875      3\n",
              "40.1250      1\n",
              "41.5792      3\n",
              "46.9000      3\n",
              "47.1000      1\n",
              "49.5000      1\n",
              "49.5042      2\n",
              "50.4958      1\n",
              "51.4792      1\n",
              "51.8625      2\n",
              "52.0000      5\n",
              "52.5542      3\n",
              "53.1000      3\n",
              "55.0000      1\n",
              "55.9000      1\n",
              "56.4958      5\n",
              "56.9292      1\n",
              "57.0000      1\n",
              "57.9792      1\n",
              "59.4000      1\n",
              "61.1750      1\n",
              "61.3792      1\n",
              "63.3583      1\n",
              "65.0000      2\n",
              "69.3000      1\n",
              "69.5500      7\n",
              "71.0000      2\n",
              "71.2833      1\n",
              "73.5000      5\n",
              "75.2500      1\n",
              "76.2917      1\n",
              "76.7292      2\n",
              "77.2875      2\n",
              "77.9583      3\n",
              "78.2667      2\n",
              "78.8500      2\n",
              "79.2000      4\n",
              "79.6500      3\n",
              "80.0000      2\n",
              "81.8583      1\n",
              "82.1708      1\n",
              "83.1583      2\n",
              "83.4750      2\n",
              "86.5000      3\n",
              "89.1042      2\n",
              "90.0000      4\n",
              "91.0792      2\n",
              "93.5000      1\n",
              "106.4250     2\n",
              "108.9000     1\n",
              "110.8833     3\n",
              "113.2750     2\n",
              "120.0000     2\n",
              "133.6500     2\n",
              "134.5000     2\n",
              "135.6333     2\n",
              "151.5500     3\n",
              "153.4625     3\n",
              "164.8667     1\n",
              "211.3375     3\n",
              "211.5000     1\n",
              "221.7792     1\n",
              "227.5250     3\n",
              "247.5208     1\n",
              "262.3750     2\n",
              "263.0000     4\n",
              "512.3292     3\n",
              "Name: count, dtype: int64"
            ]
          },
          "execution_count": 1195,
          "metadata": {},
          "output_type": "execute_result"
        }
      ],
      "source": [
        "# Fare\n",
        "X_train['Fare'].value_counts().sort_index()"
      ]
    },
    {
      "cell_type": "code",
      "execution_count": 1196,
      "metadata": {},
      "outputs": [
        {
          "data": {
            "text/plain": [
              "Cabin\n",
              "A    12\n",
              "B    33\n",
              "C    45\n",
              "D    26\n",
              "E    26\n",
              "F     9\n",
              "G     4\n",
              "T     1\n",
              "Name: count, dtype: int64"
            ]
          },
          "execution_count": 1196,
          "metadata": {},
          "output_type": "execute_result"
        }
      ],
      "source": [
        "# Cabin\n",
        "X_train['Cabin'].str[0].value_counts().sort_index()"
      ]
    },
    {
      "cell_type": "markdown",
      "metadata": {},
      "source": [
        "### Intuition-based model"
      ]
    },
    {
      "cell_type": "code",
      "execution_count": 1272,
      "metadata": {},
      "outputs": [],
      "source": [
        "# pred_train = \n",
        "weights = {\n",
        "    'Pclass': 0.1\n",
        "    , 'Sex': 0.6\n",
        "    , 'Age' : 0.10\n",
        "    , 'SibSp' : 0.05\n",
        "    , 'Parch' : 0.05\n",
        "    , 'Fare' : 0.05\n",
        "    , 'Cabin' : 0.05\n",
        "    }"
      ]
    },
    {
      "cell_type": "code",
      "execution_count": 1273,
      "metadata": {},
      "outputs": [],
      "source": [
        "Pclass_train = X_train['Pclass'].apply(lambda x: 1 if x == 1 else (0.5 if x == 2 else 0))\n",
        "Sex_train = X_train['Sex'].apply(lambda x: 0.1 if x == 'male' else (0.9 if x == 'female' else 0.5))\n",
        "Age_train = X_train['Age'].apply(lambda x: 0 if x < 15 else (0.5 if x < 55 else (0 if x >= 55 else 0.5)))\n",
        "SibSp_train = X_train['SibSp'].apply(lambda x: 1 if x == 0 else (0.5 if x < 2 else 0))\n",
        "Parch_train = X_train['Parch'].apply(lambda x: 1 if x == 0 else (0.5 if x < 2 else 0))\n",
        "Fare_train = X_train['Fare'].apply(lambda x: 1 if x > 50 else 0)\n",
        "Cabin_train = X_train['Cabin'].str[0].apply(lambda x: 1 if (x == 'A') | (x == 'B') | (x == 'C') | (x == 'D') | (x == 'E') | (x == 'F') else 0)"
      ]
    },
    {
      "cell_type": "code",
      "execution_count": 1274,
      "metadata": {},
      "outputs": [
        {
          "data": {
            "text/plain": [
              "Survived\n",
              "0    435\n",
              "1    277\n",
              "Name: count, dtype: int64"
            ]
          },
          "execution_count": 1274,
          "metadata": {},
          "output_type": "execute_result"
        }
      ],
      "source": [
        "y_train.value_counts()"
      ]
    },
    {
      "cell_type": "code",
      "execution_count": 1275,
      "metadata": {},
      "outputs": [
        {
          "data": {
            "text/plain": [
              "np.float64(0.6109550561797753)"
            ]
          },
          "execution_count": 1275,
          "metadata": {},
          "output_type": "execute_result"
        }
      ],
      "source": [
        "survival_ratio = y_train.value_counts()[1] / len(y_train)\n",
        "1 - survival_ratio"
      ]
    },
    {
      "cell_type": "code",
      "execution_count": 1276,
      "metadata": {},
      "outputs": [],
      "source": [
        "pred_train = (\n",
        "    (Pclass_train * weights['Pclass']\n",
        "    + Sex_train * weights['Sex']\n",
        "    + Age_train * weights['Age']\n",
        "    + SibSp_train * weights['SibSp']\n",
        "    + Parch_train * weights['Parch']\n",
        "    + Fare_train * weights['Fare']\n",
        "    + Cabin_train * weights['Cabin']\n",
        "    ) / (1 - survival_ratio)).astype('int')"
      ]
    },
    {
      "cell_type": "code",
      "execution_count": 1277,
      "metadata": {},
      "outputs": [
        {
          "data": {
            "text/plain": [
              "0.79073"
            ]
          },
          "execution_count": 1277,
          "metadata": {},
          "output_type": "execute_result"
        }
      ],
      "source": [
        "train_accuracy = accuracy_score(y_true = y_train,\n",
        "                                 y_pred = pred_train\n",
        "                                 )\n",
        "\n",
        "round(train_accuracy, 5)"
      ]
    },
    {
      "cell_type": "markdown",
      "metadata": {},
      "source": [
        "### Test"
      ]
    },
    {
      "cell_type": "code",
      "execution_count": 1278,
      "metadata": {},
      "outputs": [],
      "source": [
        "Pclass_test = X_test['Pclass'].apply(lambda x: 1 if x == 1 else (0.5 if x == 2 else 0))\n",
        "Sex_test = X_test['Sex'].apply(lambda x: 0.1 if x == 'male' else (0.9 if x == 'female' else 0.5))\n",
        "Age_test = X_test['Age'].apply(lambda x: 0 if x < 15 else (0.5 if x < 55 else (0 if x >= 55 else 0.5)))\n",
        "SibSp_test = X_test['SibSp'].apply(lambda x: 1 if x == 0 else (0.5 if x < 2 else 0))\n",
        "Parch_test = X_test['Parch'].apply(lambda x: 1 if x == 0 else (0.5 if x < 2 else 0))\n",
        "Fare_test = X_test['Fare'].apply(lambda x: 1 if x > 50 else 0)\n",
        "Cabin_test = X_test['Cabin'].str[0].apply(lambda x: 1 if (x == 'A') | (x == 'B') | (x == 'C') | (x == 'D') | (x == 'E') | (x == 'F') else 0)"
      ]
    },
    {
      "cell_type": "code",
      "execution_count": 1279,
      "metadata": {},
      "outputs": [],
      "source": [
        "pred_test = (\n",
        "    (Pclass_test * weights['Pclass']\n",
        "    + Sex_test * weights['Sex']\n",
        "    + Age_test * weights['Age']\n",
        "    + SibSp_test * weights['SibSp']\n",
        "    + Parch_test * weights['Parch']\n",
        "    + Fare_test * weights['Fare']\n",
        "    + Cabin_test * weights['Cabin']\n",
        "    ) / (1 - survival_ratio)).astype('int')"
      ]
    },
    {
      "cell_type": "code",
      "execution_count": 1280,
      "metadata": {},
      "outputs": [
        {
          "data": {
            "text/plain": [
              "0.7933"
            ]
          },
          "execution_count": 1280,
          "metadata": {},
          "output_type": "execute_result"
        }
      ],
      "source": [
        "train_accuracy = accuracy_score(y_true = y_test,\n",
        "                                 y_pred = pred_test\n",
        "                                 )\n",
        "\n",
        "round(train_accuracy, 5)"
      ]
    }
  ],
  "metadata": {
    "colab": {
      "include_colab_link": true,
      "provenance": []
    },
    "kernelspec": {
      "display_name": "Python 3",
      "language": "python",
      "name": "python3"
    },
    "language_info": {
      "codemirror_mode": {
        "name": "ipython",
        "version": 3
      },
      "file_extension": ".py",
      "mimetype": "text/x-python",
      "name": "python",
      "nbconvert_exporter": "python",
      "pygments_lexer": "ipython3",
      "version": "3.13.1"
    },
    "toc": {
      "base_numbering": 1,
      "nav_menu": {},
      "number_sections": true,
      "sideBar": true,
      "skip_h1_title": false,
      "title_cell": "Table of Contents",
      "title_sidebar": "Contents",
      "toc_cell": false,
      "toc_position": {},
      "toc_section_display": true,
      "toc_window_display": false
    },
    "varInspector": {
      "cols": {
        "lenName": 16,
        "lenType": 16,
        "lenVar": 40
      },
      "kernels_config": {
        "python": {
          "delete_cmd_postfix": "",
          "delete_cmd_prefix": "del ",
          "library": "var_list.py",
          "varRefreshCmd": "print(var_dic_list())"
        },
        "r": {
          "delete_cmd_postfix": ") ",
          "delete_cmd_prefix": "rm(",
          "library": "var_list.r",
          "varRefreshCmd": "cat(var_dic_list()) "
        }
      },
      "types_to_exclude": [
        "module",
        "function",
        "builtin_function_or_method",
        "instance",
        "_Feature"
      ],
      "window_display": true
    }
  },
  "nbformat": 4,
  "nbformat_minor": 0
}
